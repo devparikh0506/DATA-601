{
  "nbformat": 4,
  "nbformat_minor": 0,
  "metadata": {
    "colab": {
      "provenance": [],
      "gpuType": "T4",
      "authorship_tag": "ABX9TyNr90q5Pqz1q6JGMNGBPGjZ",
      "include_colab_link": true
    },
    "kernelspec": {
      "name": "python3",
      "display_name": "Python 3"
    },
    "language_info": {
      "name": "python"
    },
    "accelerator": "GPU"
  },
  "cells": [
    {
      "cell_type": "markdown",
      "metadata": {
        "id": "view-in-github",
        "colab_type": "text"
      },
      "source": [
        "<a href=\"https://colab.research.google.com/github/devparikh0506/DATA-601/blob/main/week_4/Homework4.ipynb\" target=\"_parent\"><img src=\"https://colab.research.google.com/assets/colab-badge.svg\" alt=\"Open In Colab\"/></a>"
      ]
    },
    {
      "cell_type": "markdown",
      "source": [
        "# Exercise 1\n",
        "\n",
        "## Sentiment Analysis of Amazon reviews"
      ],
      "metadata": {
        "id": "CRP073PNN33k"
      }
    },
    {
      "cell_type": "markdown",
      "source": [
        "## Data source\n",
        "\n",
        "The data for this project can be found at: https://archive.ics.uci.edu/dataset/331/sentiment+labelled+sentences"
      ],
      "metadata": {
        "id": "0elHorA_N9oo"
      }
    },
    {
      "cell_type": "code",
      "source": [
        "!pip install nltk"
      ],
      "metadata": {
        "colab": {
          "base_uri": "https://localhost:8080/"
        },
        "id": "OYZs9YaWOQoc",
        "outputId": "ae5cead6-e6b7-42d0-e4b0-4cc215474711"
      },
      "execution_count": 1,
      "outputs": [
        {
          "output_type": "stream",
          "name": "stdout",
          "text": [
            "Requirement already satisfied: nltk in /usr/local/lib/python3.11/dist-packages (3.9.1)\n",
            "Requirement already satisfied: click in /usr/local/lib/python3.11/dist-packages (from nltk) (8.1.8)\n",
            "Requirement already satisfied: joblib in /usr/local/lib/python3.11/dist-packages (from nltk) (1.4.2)\n",
            "Requirement already satisfied: regex>=2021.8.3 in /usr/local/lib/python3.11/dist-packages (from nltk) (2024.11.6)\n",
            "Requirement already satisfied: tqdm in /usr/local/lib/python3.11/dist-packages (from nltk) (4.67.1)\n"
          ]
        }
      ]
    },
    {
      "cell_type": "markdown",
      "source": [
        "### Importing libraries"
      ],
      "metadata": {
        "id": "9w_zq90aOESr"
      }
    },
    {
      "cell_type": "code",
      "execution_count": 2,
      "metadata": {
        "colab": {
          "base_uri": "https://localhost:8080/"
        },
        "id": "1isrKTxgNxuD",
        "outputId": "dd002317-1ddb-410d-86b5-3acb06e0ffe0"
      },
      "outputs": [
        {
          "output_type": "stream",
          "name": "stderr",
          "text": [
            "[nltk_data] Downloading package punkt to /root/nltk_data...\n",
            "[nltk_data]   Unzipping tokenizers/punkt.zip.\n",
            "[nltk_data] Downloading package punkt_tab to /root/nltk_data...\n",
            "[nltk_data]   Unzipping tokenizers/punkt_tab.zip.\n"
          ]
        }
      ],
      "source": [
        "import pandas as pd\n",
        "from string import punctuation\n",
        "import numpy as np\n",
        "import torch\n",
        "from torch.utils.data import TensorDataset, DataLoader\n",
        "from torch import nn\n",
        "from torch import optim\n",
        "import json\n",
        "\n",
        "import nltk\n",
        "nltk.download('punkt')\n",
        "nltk.download('punkt_tab')\n",
        "from nltk.tokenize import word_tokenize"
      ]
    },
    {
      "cell_type": "markdown",
      "source": [
        "### Loading data"
      ],
      "metadata": {
        "id": "VOKHqDsVPG0c"
      }
    },
    {
      "cell_type": "code",
      "source": [
        "file = './amazon_cells_labelled.txt'\n",
        "\n",
        "def load_data(file, columns):\n",
        "  try:\n",
        "    df = pd.read_csv(file, sep='\\t', header=None)\n",
        "    df.columns = columns\n",
        "    return df\n",
        "  except Exception as e:\n",
        "    raise Exception(f\"Error loading data: {e}\")\n",
        "    # return pd.DataFrame([], columns=columns)\n",
        "\n",
        "df = load_data(file, ['review', 'sentiment'])\n",
        "df.head()"
      ],
      "metadata": {
        "colab": {
          "base_uri": "https://localhost:8080/",
          "height": 206
        },
        "id": "opw1YakTOfsZ",
        "outputId": "d3f94128-14b1-49dd-ed80-2efff41cc904"
      },
      "execution_count": 19,
      "outputs": [
        {
          "output_type": "execute_result",
          "data": {
            "text/plain": [
              "                                              review  sentiment\n",
              "0  So there is no way for me to plug it in here i...          0\n",
              "1                        Good case, Excellent value.          1\n",
              "2                             Great for the jawbone.          1\n",
              "3  Tied to charger for conversations lasting more...          0\n",
              "4                                  The mic is great.          1"
            ],
            "text/html": [
              "\n",
              "  <div id=\"df-8a23ec85-f809-46aa-a711-41bf1a24944b\" class=\"colab-df-container\">\n",
              "    <div>\n",
              "<style scoped>\n",
              "    .dataframe tbody tr th:only-of-type {\n",
              "        vertical-align: middle;\n",
              "    }\n",
              "\n",
              "    .dataframe tbody tr th {\n",
              "        vertical-align: top;\n",
              "    }\n",
              "\n",
              "    .dataframe thead th {\n",
              "        text-align: right;\n",
              "    }\n",
              "</style>\n",
              "<table border=\"1\" class=\"dataframe\">\n",
              "  <thead>\n",
              "    <tr style=\"text-align: right;\">\n",
              "      <th></th>\n",
              "      <th>review</th>\n",
              "      <th>sentiment</th>\n",
              "    </tr>\n",
              "  </thead>\n",
              "  <tbody>\n",
              "    <tr>\n",
              "      <th>0</th>\n",
              "      <td>So there is no way for me to plug it in here i...</td>\n",
              "      <td>0</td>\n",
              "    </tr>\n",
              "    <tr>\n",
              "      <th>1</th>\n",
              "      <td>Good case, Excellent value.</td>\n",
              "      <td>1</td>\n",
              "    </tr>\n",
              "    <tr>\n",
              "      <th>2</th>\n",
              "      <td>Great for the jawbone.</td>\n",
              "      <td>1</td>\n",
              "    </tr>\n",
              "    <tr>\n",
              "      <th>3</th>\n",
              "      <td>Tied to charger for conversations lasting more...</td>\n",
              "      <td>0</td>\n",
              "    </tr>\n",
              "    <tr>\n",
              "      <th>4</th>\n",
              "      <td>The mic is great.</td>\n",
              "      <td>1</td>\n",
              "    </tr>\n",
              "  </tbody>\n",
              "</table>\n",
              "</div>\n",
              "    <div class=\"colab-df-buttons\">\n",
              "\n",
              "  <div class=\"colab-df-container\">\n",
              "    <button class=\"colab-df-convert\" onclick=\"convertToInteractive('df-8a23ec85-f809-46aa-a711-41bf1a24944b')\"\n",
              "            title=\"Convert this dataframe to an interactive table.\"\n",
              "            style=\"display:none;\">\n",
              "\n",
              "  <svg xmlns=\"http://www.w3.org/2000/svg\" height=\"24px\" viewBox=\"0 -960 960 960\">\n",
              "    <path d=\"M120-120v-720h720v720H120Zm60-500h600v-160H180v160Zm220 220h160v-160H400v160Zm0 220h160v-160H400v160ZM180-400h160v-160H180v160Zm440 0h160v-160H620v160ZM180-180h160v-160H180v160Zm440 0h160v-160H620v160Z\"/>\n",
              "  </svg>\n",
              "    </button>\n",
              "\n",
              "  <style>\n",
              "    .colab-df-container {\n",
              "      display:flex;\n",
              "      gap: 12px;\n",
              "    }\n",
              "\n",
              "    .colab-df-convert {\n",
              "      background-color: #E8F0FE;\n",
              "      border: none;\n",
              "      border-radius: 50%;\n",
              "      cursor: pointer;\n",
              "      display: none;\n",
              "      fill: #1967D2;\n",
              "      height: 32px;\n",
              "      padding: 0 0 0 0;\n",
              "      width: 32px;\n",
              "    }\n",
              "\n",
              "    .colab-df-convert:hover {\n",
              "      background-color: #E2EBFA;\n",
              "      box-shadow: 0px 1px 2px rgba(60, 64, 67, 0.3), 0px 1px 3px 1px rgba(60, 64, 67, 0.15);\n",
              "      fill: #174EA6;\n",
              "    }\n",
              "\n",
              "    .colab-df-buttons div {\n",
              "      margin-bottom: 4px;\n",
              "    }\n",
              "\n",
              "    [theme=dark] .colab-df-convert {\n",
              "      background-color: #3B4455;\n",
              "      fill: #D2E3FC;\n",
              "    }\n",
              "\n",
              "    [theme=dark] .colab-df-convert:hover {\n",
              "      background-color: #434B5C;\n",
              "      box-shadow: 0px 1px 3px 1px rgba(0, 0, 0, 0.15);\n",
              "      filter: drop-shadow(0px 1px 2px rgba(0, 0, 0, 0.3));\n",
              "      fill: #FFFFFF;\n",
              "    }\n",
              "  </style>\n",
              "\n",
              "    <script>\n",
              "      const buttonEl =\n",
              "        document.querySelector('#df-8a23ec85-f809-46aa-a711-41bf1a24944b button.colab-df-convert');\n",
              "      buttonEl.style.display =\n",
              "        google.colab.kernel.accessAllowed ? 'block' : 'none';\n",
              "\n",
              "      async function convertToInteractive(key) {\n",
              "        const element = document.querySelector('#df-8a23ec85-f809-46aa-a711-41bf1a24944b');\n",
              "        const dataTable =\n",
              "          await google.colab.kernel.invokeFunction('convertToInteractive',\n",
              "                                                    [key], {});\n",
              "        if (!dataTable) return;\n",
              "\n",
              "        const docLinkHtml = 'Like what you see? Visit the ' +\n",
              "          '<a target=\"_blank\" href=https://colab.research.google.com/notebooks/data_table.ipynb>data table notebook</a>'\n",
              "          + ' to learn more about interactive tables.';\n",
              "        element.innerHTML = '';\n",
              "        dataTable['output_type'] = 'display_data';\n",
              "        await google.colab.output.renderOutput(dataTable, element);\n",
              "        const docLink = document.createElement('div');\n",
              "        docLink.innerHTML = docLinkHtml;\n",
              "        element.appendChild(docLink);\n",
              "      }\n",
              "    </script>\n",
              "  </div>\n",
              "\n",
              "\n",
              "<div id=\"df-63a41c13-670a-475b-9a72-a7f51c87c278\">\n",
              "  <button class=\"colab-df-quickchart\" onclick=\"quickchart('df-63a41c13-670a-475b-9a72-a7f51c87c278')\"\n",
              "            title=\"Suggest charts\"\n",
              "            style=\"display:none;\">\n",
              "\n",
              "<svg xmlns=\"http://www.w3.org/2000/svg\" height=\"24px\"viewBox=\"0 0 24 24\"\n",
              "     width=\"24px\">\n",
              "    <g>\n",
              "        <path d=\"M19 3H5c-1.1 0-2 .9-2 2v14c0 1.1.9 2 2 2h14c1.1 0 2-.9 2-2V5c0-1.1-.9-2-2-2zM9 17H7v-7h2v7zm4 0h-2V7h2v10zm4 0h-2v-4h2v4z\"/>\n",
              "    </g>\n",
              "</svg>\n",
              "  </button>\n",
              "\n",
              "<style>\n",
              "  .colab-df-quickchart {\n",
              "      --bg-color: #E8F0FE;\n",
              "      --fill-color: #1967D2;\n",
              "      --hover-bg-color: #E2EBFA;\n",
              "      --hover-fill-color: #174EA6;\n",
              "      --disabled-fill-color: #AAA;\n",
              "      --disabled-bg-color: #DDD;\n",
              "  }\n",
              "\n",
              "  [theme=dark] .colab-df-quickchart {\n",
              "      --bg-color: #3B4455;\n",
              "      --fill-color: #D2E3FC;\n",
              "      --hover-bg-color: #434B5C;\n",
              "      --hover-fill-color: #FFFFFF;\n",
              "      --disabled-bg-color: #3B4455;\n",
              "      --disabled-fill-color: #666;\n",
              "  }\n",
              "\n",
              "  .colab-df-quickchart {\n",
              "    background-color: var(--bg-color);\n",
              "    border: none;\n",
              "    border-radius: 50%;\n",
              "    cursor: pointer;\n",
              "    display: none;\n",
              "    fill: var(--fill-color);\n",
              "    height: 32px;\n",
              "    padding: 0;\n",
              "    width: 32px;\n",
              "  }\n",
              "\n",
              "  .colab-df-quickchart:hover {\n",
              "    background-color: var(--hover-bg-color);\n",
              "    box-shadow: 0 1px 2px rgba(60, 64, 67, 0.3), 0 1px 3px 1px rgba(60, 64, 67, 0.15);\n",
              "    fill: var(--button-hover-fill-color);\n",
              "  }\n",
              "\n",
              "  .colab-df-quickchart-complete:disabled,\n",
              "  .colab-df-quickchart-complete:disabled:hover {\n",
              "    background-color: var(--disabled-bg-color);\n",
              "    fill: var(--disabled-fill-color);\n",
              "    box-shadow: none;\n",
              "  }\n",
              "\n",
              "  .colab-df-spinner {\n",
              "    border: 2px solid var(--fill-color);\n",
              "    border-color: transparent;\n",
              "    border-bottom-color: var(--fill-color);\n",
              "    animation:\n",
              "      spin 1s steps(1) infinite;\n",
              "  }\n",
              "\n",
              "  @keyframes spin {\n",
              "    0% {\n",
              "      border-color: transparent;\n",
              "      border-bottom-color: var(--fill-color);\n",
              "      border-left-color: var(--fill-color);\n",
              "    }\n",
              "    20% {\n",
              "      border-color: transparent;\n",
              "      border-left-color: var(--fill-color);\n",
              "      border-top-color: var(--fill-color);\n",
              "    }\n",
              "    30% {\n",
              "      border-color: transparent;\n",
              "      border-left-color: var(--fill-color);\n",
              "      border-top-color: var(--fill-color);\n",
              "      border-right-color: var(--fill-color);\n",
              "    }\n",
              "    40% {\n",
              "      border-color: transparent;\n",
              "      border-right-color: var(--fill-color);\n",
              "      border-top-color: var(--fill-color);\n",
              "    }\n",
              "    60% {\n",
              "      border-color: transparent;\n",
              "      border-right-color: var(--fill-color);\n",
              "    }\n",
              "    80% {\n",
              "      border-color: transparent;\n",
              "      border-right-color: var(--fill-color);\n",
              "      border-bottom-color: var(--fill-color);\n",
              "    }\n",
              "    90% {\n",
              "      border-color: transparent;\n",
              "      border-bottom-color: var(--fill-color);\n",
              "    }\n",
              "  }\n",
              "</style>\n",
              "\n",
              "  <script>\n",
              "    async function quickchart(key) {\n",
              "      const quickchartButtonEl =\n",
              "        document.querySelector('#' + key + ' button');\n",
              "      quickchartButtonEl.disabled = true;  // To prevent multiple clicks.\n",
              "      quickchartButtonEl.classList.add('colab-df-spinner');\n",
              "      try {\n",
              "        const charts = await google.colab.kernel.invokeFunction(\n",
              "            'suggestCharts', [key], {});\n",
              "      } catch (error) {\n",
              "        console.error('Error during call to suggestCharts:', error);\n",
              "      }\n",
              "      quickchartButtonEl.classList.remove('colab-df-spinner');\n",
              "      quickchartButtonEl.classList.add('colab-df-quickchart-complete');\n",
              "    }\n",
              "    (() => {\n",
              "      let quickchartButtonEl =\n",
              "        document.querySelector('#df-63a41c13-670a-475b-9a72-a7f51c87c278 button');\n",
              "      quickchartButtonEl.style.display =\n",
              "        google.colab.kernel.accessAllowed ? 'block' : 'none';\n",
              "    })();\n",
              "  </script>\n",
              "</div>\n",
              "\n",
              "    </div>\n",
              "  </div>\n"
            ],
            "application/vnd.google.colaboratory.intrinsic+json": {
              "type": "dataframe",
              "variable_name": "df",
              "summary": "{\n  \"name\": \"df\",\n  \"rows\": 1000,\n  \"fields\": [\n    {\n      \"column\": \"review\",\n      \"properties\": {\n        \"dtype\": \"string\",\n        \"num_unique_values\": 990,\n        \"samples\": [\n          \"The range is very decent, I've been able to roam around my house with the phone in the living room with no reception/sound quality issues.\",\n          \"The reception is excellent!\",\n          \"I would have given no star if I was able.\"\n        ],\n        \"semantic_type\": \"\",\n        \"description\": \"\"\n      }\n    },\n    {\n      \"column\": \"sentiment\",\n      \"properties\": {\n        \"dtype\": \"number\",\n        \"std\": 0,\n        \"min\": 0,\n        \"max\": 1,\n        \"num_unique_values\": 2,\n        \"samples\": [\n          1,\n          0\n        ],\n        \"semantic_type\": \"\",\n        \"description\": \"\"\n      }\n    }\n  ]\n}"
            }
          },
          "metadata": {},
          "execution_count": 19
        }
      ]
    },
    {
      "cell_type": "markdown",
      "source": [
        "### Inspecting data"
      ],
      "metadata": {
        "id": "y_5o8KpsPjQ0"
      }
    },
    {
      "cell_type": "code",
      "source": [
        "df.shape"
      ],
      "metadata": {
        "colab": {
          "base_uri": "https://localhost:8080/"
        },
        "id": "ziLtp5tgPF-v",
        "outputId": "c8daa9a2-52cb-46ad-e60e-e1aed98c9118"
      },
      "execution_count": 20,
      "outputs": [
        {
          "output_type": "execute_result",
          "data": {
            "text/plain": [
              "(1000, 2)"
            ]
          },
          "metadata": {},
          "execution_count": 20
        }
      ]
    },
    {
      "cell_type": "code",
      "source": [
        "df.describe()"
      ],
      "metadata": {
        "colab": {
          "base_uri": "https://localhost:8080/",
          "height": 300
        },
        "id": "iLAGLHx2Pl12",
        "outputId": "5a7b5e4a-4d46-432e-8b77-02ed48e320b2"
      },
      "execution_count": 21,
      "outputs": [
        {
          "output_type": "execute_result",
          "data": {
            "text/plain": [
              "        sentiment\n",
              "count  1000.00000\n",
              "mean      0.50000\n",
              "std       0.50025\n",
              "min       0.00000\n",
              "25%       0.00000\n",
              "50%       0.50000\n",
              "75%       1.00000\n",
              "max       1.00000"
            ],
            "text/html": [
              "\n",
              "  <div id=\"df-2ed506cf-1564-4d8f-82c8-c055960fc8a0\" class=\"colab-df-container\">\n",
              "    <div>\n",
              "<style scoped>\n",
              "    .dataframe tbody tr th:only-of-type {\n",
              "        vertical-align: middle;\n",
              "    }\n",
              "\n",
              "    .dataframe tbody tr th {\n",
              "        vertical-align: top;\n",
              "    }\n",
              "\n",
              "    .dataframe thead th {\n",
              "        text-align: right;\n",
              "    }\n",
              "</style>\n",
              "<table border=\"1\" class=\"dataframe\">\n",
              "  <thead>\n",
              "    <tr style=\"text-align: right;\">\n",
              "      <th></th>\n",
              "      <th>sentiment</th>\n",
              "    </tr>\n",
              "  </thead>\n",
              "  <tbody>\n",
              "    <tr>\n",
              "      <th>count</th>\n",
              "      <td>1000.00000</td>\n",
              "    </tr>\n",
              "    <tr>\n",
              "      <th>mean</th>\n",
              "      <td>0.50000</td>\n",
              "    </tr>\n",
              "    <tr>\n",
              "      <th>std</th>\n",
              "      <td>0.50025</td>\n",
              "    </tr>\n",
              "    <tr>\n",
              "      <th>min</th>\n",
              "      <td>0.00000</td>\n",
              "    </tr>\n",
              "    <tr>\n",
              "      <th>25%</th>\n",
              "      <td>0.00000</td>\n",
              "    </tr>\n",
              "    <tr>\n",
              "      <th>50%</th>\n",
              "      <td>0.50000</td>\n",
              "    </tr>\n",
              "    <tr>\n",
              "      <th>75%</th>\n",
              "      <td>1.00000</td>\n",
              "    </tr>\n",
              "    <tr>\n",
              "      <th>max</th>\n",
              "      <td>1.00000</td>\n",
              "    </tr>\n",
              "  </tbody>\n",
              "</table>\n",
              "</div>\n",
              "    <div class=\"colab-df-buttons\">\n",
              "\n",
              "  <div class=\"colab-df-container\">\n",
              "    <button class=\"colab-df-convert\" onclick=\"convertToInteractive('df-2ed506cf-1564-4d8f-82c8-c055960fc8a0')\"\n",
              "            title=\"Convert this dataframe to an interactive table.\"\n",
              "            style=\"display:none;\">\n",
              "\n",
              "  <svg xmlns=\"http://www.w3.org/2000/svg\" height=\"24px\" viewBox=\"0 -960 960 960\">\n",
              "    <path d=\"M120-120v-720h720v720H120Zm60-500h600v-160H180v160Zm220 220h160v-160H400v160Zm0 220h160v-160H400v160ZM180-400h160v-160H180v160Zm440 0h160v-160H620v160ZM180-180h160v-160H180v160Zm440 0h160v-160H620v160Z\"/>\n",
              "  </svg>\n",
              "    </button>\n",
              "\n",
              "  <style>\n",
              "    .colab-df-container {\n",
              "      display:flex;\n",
              "      gap: 12px;\n",
              "    }\n",
              "\n",
              "    .colab-df-convert {\n",
              "      background-color: #E8F0FE;\n",
              "      border: none;\n",
              "      border-radius: 50%;\n",
              "      cursor: pointer;\n",
              "      display: none;\n",
              "      fill: #1967D2;\n",
              "      height: 32px;\n",
              "      padding: 0 0 0 0;\n",
              "      width: 32px;\n",
              "    }\n",
              "\n",
              "    .colab-df-convert:hover {\n",
              "      background-color: #E2EBFA;\n",
              "      box-shadow: 0px 1px 2px rgba(60, 64, 67, 0.3), 0px 1px 3px 1px rgba(60, 64, 67, 0.15);\n",
              "      fill: #174EA6;\n",
              "    }\n",
              "\n",
              "    .colab-df-buttons div {\n",
              "      margin-bottom: 4px;\n",
              "    }\n",
              "\n",
              "    [theme=dark] .colab-df-convert {\n",
              "      background-color: #3B4455;\n",
              "      fill: #D2E3FC;\n",
              "    }\n",
              "\n",
              "    [theme=dark] .colab-df-convert:hover {\n",
              "      background-color: #434B5C;\n",
              "      box-shadow: 0px 1px 3px 1px rgba(0, 0, 0, 0.15);\n",
              "      filter: drop-shadow(0px 1px 2px rgba(0, 0, 0, 0.3));\n",
              "      fill: #FFFFFF;\n",
              "    }\n",
              "  </style>\n",
              "\n",
              "    <script>\n",
              "      const buttonEl =\n",
              "        document.querySelector('#df-2ed506cf-1564-4d8f-82c8-c055960fc8a0 button.colab-df-convert');\n",
              "      buttonEl.style.display =\n",
              "        google.colab.kernel.accessAllowed ? 'block' : 'none';\n",
              "\n",
              "      async function convertToInteractive(key) {\n",
              "        const element = document.querySelector('#df-2ed506cf-1564-4d8f-82c8-c055960fc8a0');\n",
              "        const dataTable =\n",
              "          await google.colab.kernel.invokeFunction('convertToInteractive',\n",
              "                                                    [key], {});\n",
              "        if (!dataTable) return;\n",
              "\n",
              "        const docLinkHtml = 'Like what you see? Visit the ' +\n",
              "          '<a target=\"_blank\" href=https://colab.research.google.com/notebooks/data_table.ipynb>data table notebook</a>'\n",
              "          + ' to learn more about interactive tables.';\n",
              "        element.innerHTML = '';\n",
              "        dataTable['output_type'] = 'display_data';\n",
              "        await google.colab.output.renderOutput(dataTable, element);\n",
              "        const docLink = document.createElement('div');\n",
              "        docLink.innerHTML = docLinkHtml;\n",
              "        element.appendChild(docLink);\n",
              "      }\n",
              "    </script>\n",
              "  </div>\n",
              "\n",
              "\n",
              "<div id=\"df-7ec77eb2-7cef-4aaa-8668-4ec6927190f2\">\n",
              "  <button class=\"colab-df-quickchart\" onclick=\"quickchart('df-7ec77eb2-7cef-4aaa-8668-4ec6927190f2')\"\n",
              "            title=\"Suggest charts\"\n",
              "            style=\"display:none;\">\n",
              "\n",
              "<svg xmlns=\"http://www.w3.org/2000/svg\" height=\"24px\"viewBox=\"0 0 24 24\"\n",
              "     width=\"24px\">\n",
              "    <g>\n",
              "        <path d=\"M19 3H5c-1.1 0-2 .9-2 2v14c0 1.1.9 2 2 2h14c1.1 0 2-.9 2-2V5c0-1.1-.9-2-2-2zM9 17H7v-7h2v7zm4 0h-2V7h2v10zm4 0h-2v-4h2v4z\"/>\n",
              "    </g>\n",
              "</svg>\n",
              "  </button>\n",
              "\n",
              "<style>\n",
              "  .colab-df-quickchart {\n",
              "      --bg-color: #E8F0FE;\n",
              "      --fill-color: #1967D2;\n",
              "      --hover-bg-color: #E2EBFA;\n",
              "      --hover-fill-color: #174EA6;\n",
              "      --disabled-fill-color: #AAA;\n",
              "      --disabled-bg-color: #DDD;\n",
              "  }\n",
              "\n",
              "  [theme=dark] .colab-df-quickchart {\n",
              "      --bg-color: #3B4455;\n",
              "      --fill-color: #D2E3FC;\n",
              "      --hover-bg-color: #434B5C;\n",
              "      --hover-fill-color: #FFFFFF;\n",
              "      --disabled-bg-color: #3B4455;\n",
              "      --disabled-fill-color: #666;\n",
              "  }\n",
              "\n",
              "  .colab-df-quickchart {\n",
              "    background-color: var(--bg-color);\n",
              "    border: none;\n",
              "    border-radius: 50%;\n",
              "    cursor: pointer;\n",
              "    display: none;\n",
              "    fill: var(--fill-color);\n",
              "    height: 32px;\n",
              "    padding: 0;\n",
              "    width: 32px;\n",
              "  }\n",
              "\n",
              "  .colab-df-quickchart:hover {\n",
              "    background-color: var(--hover-bg-color);\n",
              "    box-shadow: 0 1px 2px rgba(60, 64, 67, 0.3), 0 1px 3px 1px rgba(60, 64, 67, 0.15);\n",
              "    fill: var(--button-hover-fill-color);\n",
              "  }\n",
              "\n",
              "  .colab-df-quickchart-complete:disabled,\n",
              "  .colab-df-quickchart-complete:disabled:hover {\n",
              "    background-color: var(--disabled-bg-color);\n",
              "    fill: var(--disabled-fill-color);\n",
              "    box-shadow: none;\n",
              "  }\n",
              "\n",
              "  .colab-df-spinner {\n",
              "    border: 2px solid var(--fill-color);\n",
              "    border-color: transparent;\n",
              "    border-bottom-color: var(--fill-color);\n",
              "    animation:\n",
              "      spin 1s steps(1) infinite;\n",
              "  }\n",
              "\n",
              "  @keyframes spin {\n",
              "    0% {\n",
              "      border-color: transparent;\n",
              "      border-bottom-color: var(--fill-color);\n",
              "      border-left-color: var(--fill-color);\n",
              "    }\n",
              "    20% {\n",
              "      border-color: transparent;\n",
              "      border-left-color: var(--fill-color);\n",
              "      border-top-color: var(--fill-color);\n",
              "    }\n",
              "    30% {\n",
              "      border-color: transparent;\n",
              "      border-left-color: var(--fill-color);\n",
              "      border-top-color: var(--fill-color);\n",
              "      border-right-color: var(--fill-color);\n",
              "    }\n",
              "    40% {\n",
              "      border-color: transparent;\n",
              "      border-right-color: var(--fill-color);\n",
              "      border-top-color: var(--fill-color);\n",
              "    }\n",
              "    60% {\n",
              "      border-color: transparent;\n",
              "      border-right-color: var(--fill-color);\n",
              "    }\n",
              "    80% {\n",
              "      border-color: transparent;\n",
              "      border-right-color: var(--fill-color);\n",
              "      border-bottom-color: var(--fill-color);\n",
              "    }\n",
              "    90% {\n",
              "      border-color: transparent;\n",
              "      border-bottom-color: var(--fill-color);\n",
              "    }\n",
              "  }\n",
              "</style>\n",
              "\n",
              "  <script>\n",
              "    async function quickchart(key) {\n",
              "      const quickchartButtonEl =\n",
              "        document.querySelector('#' + key + ' button');\n",
              "      quickchartButtonEl.disabled = true;  // To prevent multiple clicks.\n",
              "      quickchartButtonEl.classList.add('colab-df-spinner');\n",
              "      try {\n",
              "        const charts = await google.colab.kernel.invokeFunction(\n",
              "            'suggestCharts', [key], {});\n",
              "      } catch (error) {\n",
              "        console.error('Error during call to suggestCharts:', error);\n",
              "      }\n",
              "      quickchartButtonEl.classList.remove('colab-df-spinner');\n",
              "      quickchartButtonEl.classList.add('colab-df-quickchart-complete');\n",
              "    }\n",
              "    (() => {\n",
              "      let quickchartButtonEl =\n",
              "        document.querySelector('#df-7ec77eb2-7cef-4aaa-8668-4ec6927190f2 button');\n",
              "      quickchartButtonEl.style.display =\n",
              "        google.colab.kernel.accessAllowed ? 'block' : 'none';\n",
              "    })();\n",
              "  </script>\n",
              "</div>\n",
              "\n",
              "    </div>\n",
              "  </div>\n"
            ],
            "application/vnd.google.colaboratory.intrinsic+json": {
              "type": "dataframe",
              "summary": "{\n  \"name\": \"df\",\n  \"rows\": 8,\n  \"fields\": [\n    {\n      \"column\": \"sentiment\",\n      \"properties\": {\n        \"dtype\": \"number\",\n        \"std\": 353.37680339312715,\n        \"min\": 0.0,\n        \"max\": 1000.0,\n        \"num_unique_values\": 5,\n        \"samples\": [\n          0.5,\n          1.0,\n          0.5002501876563868\n        ],\n        \"semantic_type\": \"\",\n        \"description\": \"\"\n      }\n    }\n  ]\n}"
            }
          },
          "metadata": {},
          "execution_count": 21
        }
      ]
    },
    {
      "cell_type": "code",
      "source": [
        "df.isna().sum()"
      ],
      "metadata": {
        "colab": {
          "base_uri": "https://localhost:8080/",
          "height": 147
        },
        "id": "lamdz0SMPoWF",
        "outputId": "7553a5c3-2542-4b33-8450-f75f893625ba"
      },
      "execution_count": 22,
      "outputs": [
        {
          "output_type": "execute_result",
          "data": {
            "text/plain": [
              "review       0\n",
              "sentiment    0\n",
              "dtype: int64"
            ],
            "text/html": [
              "<div>\n",
              "<style scoped>\n",
              "    .dataframe tbody tr th:only-of-type {\n",
              "        vertical-align: middle;\n",
              "    }\n",
              "\n",
              "    .dataframe tbody tr th {\n",
              "        vertical-align: top;\n",
              "    }\n",
              "\n",
              "    .dataframe thead th {\n",
              "        text-align: right;\n",
              "    }\n",
              "</style>\n",
              "<table border=\"1\" class=\"dataframe\">\n",
              "  <thead>\n",
              "    <tr style=\"text-align: right;\">\n",
              "      <th></th>\n",
              "      <th>0</th>\n",
              "    </tr>\n",
              "  </thead>\n",
              "  <tbody>\n",
              "    <tr>\n",
              "      <th>review</th>\n",
              "      <td>0</td>\n",
              "    </tr>\n",
              "    <tr>\n",
              "      <th>sentiment</th>\n",
              "      <td>0</td>\n",
              "    </tr>\n",
              "  </tbody>\n",
              "</table>\n",
              "</div><br><label><b>dtype:</b> int64</label>"
            ]
          },
          "metadata": {},
          "execution_count": 22
        }
      ]
    },
    {
      "cell_type": "code",
      "source": [
        "import matplotlib.pyplot as plt\n",
        "import seaborn as sns"
      ],
      "metadata": {
        "id": "pKqu-seQPxgP"
      },
      "execution_count": 23,
      "outputs": []
    },
    {
      "cell_type": "code",
      "source": [
        "sns.countplot(x='sentiment', data=df)\n",
        "plt.show()"
      ],
      "metadata": {
        "colab": {
          "base_uri": "https://localhost:8080/",
          "height": 449
        },
        "id": "6plU14kCPrNZ",
        "outputId": "ea466c94-8d58-4f01-c928-be20f1a5e5d7"
      },
      "execution_count": 24,
      "outputs": [
        {
          "output_type": "display_data",
          "data": {
            "text/plain": [
              "<Figure size 640x480 with 1 Axes>"
            ],
            "image/png": "[encoded data removed]"
          },
          "metadata": {}
        }
      ]
    },
    {
      "cell_type": "code",
      "source": [
        "sns.kdeplot(x='sentiment', data=df)\n",
        "plt.show()"
      ],
      "metadata": {
        "colab": {
          "base_uri": "https://localhost:8080/",
          "height": 449
        },
        "id": "HZP6kioUPs89",
        "outputId": "822036e4-95b3-4803-c1a3-3fbe4c8e78ef"
      },
      "execution_count": 25,
      "outputs": [
        {
          "output_type": "display_data",
          "data": {
            "text/plain": [
              "<Figure size 640x480 with 1 Axes>"
            ],
            "image/png": "[encoded data removed]"
          },
          "metadata": {}
        }
      ]
    },
    {
      "cell_type": "markdown",
      "source": [
        "### Spliting data into reviews and labels"
      ],
      "metadata": {
        "id": "xm0zpnz0QKns"
      }
    },
    {
      "cell_type": "code",
      "source": [
        "reviews = df['review'].values\n",
        "labels = df['sentiment'].values"
      ],
      "metadata": {
        "id": "lxzR1kHmP4lD"
      },
      "execution_count": 26,
      "outputs": []
    },
    {
      "cell_type": "markdown",
      "source": [
        "### Preprocessing reviews\n",
        "\n",
        "Steps include:\n",
        "1. removing punctuations\n",
        "2. spliting sentences into words\n",
        "3. converting words to token\n",
        "4. creating word-token mapping\n",
        "5. creating a vocab from all words"
      ],
      "metadata": {
        "id": "JIAMjlHiQREz"
      }
    },
    {
      "cell_type": "code",
      "source": [
        "def prerpocess_reviews(reviews):\n",
        "  clean_reviews = []\n",
        "\n",
        "  # removing punctuation\n",
        "  for review in reviews:\n",
        "        clean_reviews.append(review.translate(str.maketrans('', '', punctuation)).lower().rstrip())\n",
        "\n",
        "  # splitting sentences into words and tokeninzing them\n",
        "  tokenized_reviews = [word_tokenize(x) for x in clean_reviews]\n",
        "  all_reviews = []\n",
        "\n",
        "  for single_tokenized_review in tokenized_reviews:\n",
        "    all_reviews.extend(single_tokenized_review)\n",
        "\n",
        "  vocab = set(all_reviews)\n",
        "\n",
        "  return tokenized_reviews, vocab"
      ],
      "metadata": {
        "id": "R6-cEB1pQQUE"
      },
      "execution_count": 27,
      "outputs": []
    },
    {
      "cell_type": "code",
      "source": [
        "tokenized_reviews, vocab = prerpocess_reviews(reviews)"
      ],
      "metadata": {
        "id": "TXx7Lh7dRtee"
      },
      "execution_count": 28,
      "outputs": []
    },
    {
      "cell_type": "markdown",
      "source": [
        "#### dictionary for vocab"
      ],
      "metadata": {
        "id": "b2L32kn8TNSw"
      }
    },
    {
      "cell_type": "code",
      "source": [
        "def create_vocab_dict(vocab):\n",
        "  vocab_to_int = {word: i+1 for i, word in enumerate(vocab)}\n",
        "  int_to_vocab = {i:word for word, i in vocab_to_int.items()}\n",
        "\n",
        "  return vocab_to_int, int_to_vocab"
      ],
      "metadata": {
        "id": "Dqty9uQ8S5jB"
      },
      "execution_count": 29,
      "outputs": []
    },
    {
      "cell_type": "code",
      "source": [
        "vocab_to_int_dict, int_to_vocab_dict = create_vocab_dict(vocab)"
      ],
      "metadata": {
        "id": "ADp7b_lSTWLO"
      },
      "execution_count": 30,
      "outputs": []
    },
    {
      "cell_type": "markdown",
      "source": [
        "#### Replacing words with integers"
      ],
      "metadata": {
        "id": "biZdcKaHUcWN"
      }
    },
    {
      "cell_type": "markdown",
      "source": [
        "#### Function for padding review to max possible length of review"
      ],
      "metadata": {
        "id": "Vexn10rwVlsO"
      }
    },
    {
      "cell_type": "code",
      "source": [
        "int_to_vocab_dict[0] = ''\n",
        "vocab_to_int_dict[''] = 0"
      ],
      "metadata": {
        "id": "ggLIYZVOWu96"
      },
      "execution_count": 31,
      "outputs": []
    },
    {
      "cell_type": "code",
      "source": [
        "def pad_reviews(tokenized_reviews, seq_length):\n",
        "    for review in tokenized_reviews:\n",
        "        if len(review) >= seq_length:\n",
        "            yield review[:seq_length]\n",
        "        else:\n",
        "            yield [''] * (seq_length - len(review)) + review"
      ],
      "metadata": {
        "id": "3e31gZSdVGm4"
      },
      "execution_count": 32,
      "outputs": []
    },
    {
      "cell_type": "markdown",
      "source": [
        "#### Encode function for review"
      ],
      "metadata": {
        "id": "TZ9Qs7KtVq2x"
      }
    },
    {
      "cell_type": "code",
      "source": [
        "def encode_reviews(tokenized_reviews, vocab_to_int_dict):\n",
        "  max_sentence_length = np.max([len(x) for x in tokenized_reviews])\n",
        "  print(\"Maximum sentence length found:\", max_sentence_length)\n",
        "  converted_reviews = [[vocab_to_int_dict[word] for word in review] for review in pad_reviews(tokenized_reviews, max_sentence_length)]\n",
        "  if len(converted_reviews) != len(tokenized_reviews):\n",
        "    raise Exception(\"Reviews length mismatch\")\n",
        "  print(f\"Reviews successfully padded and converted to match length: {max_sentence_length}\")\n",
        "  return np.array(converted_reviews)\n"
      ],
      "metadata": {
        "id": "2EsF9OoLTZfl"
      },
      "execution_count": 33,
      "outputs": []
    },
    {
      "cell_type": "code",
      "source": [
        "encoded_reviews = encode_reviews(tokenized_reviews, vocab_to_int_dict)"
      ],
      "metadata": {
        "colab": {
          "base_uri": "https://localhost:8080/"
        },
        "id": "j8jNgMyZT5WE",
        "outputId": "d9db6810-2867-415c-b465-1d158e773ea9"
      },
      "execution_count": 34,
      "outputs": [
        {
          "output_type": "stream",
          "name": "stdout",
          "text": [
            "Maximum sentence length found: 30\n",
            "Reviews successfully padded and converted to match length: 30\n"
          ]
        }
      ]
    },
    {
      "cell_type": "code",
      "source": [
        "encoded_reviews[0]"
      ],
      "metadata": {
        "colab": {
          "base_uri": "https://localhost:8080/"
        },
        "id": "K5dzucjEUvZ9",
        "outputId": "aff58d87-e820-440a-db2b-c4c17728188b"
      },
      "execution_count": 35,
      "outputs": [
        {
          "output_type": "execute_result",
          "data": {
            "text/plain": [
              "array([   0,    0,    0,    0,    0,    0,    0,    0,    0,  332,  580,\n",
              "        594, 1315,  821, 1399, 1487, 1898, 1891, 1513, 1428,  752, 1428,\n",
              "        124,  291, 1881, 1161,  930, 1062,  444, 1740])"
            ]
          },
          "metadata": {},
          "execution_count": 35
        }
      ]
    },
    {
      "cell_type": "markdown",
      "source": [
        "## Defining Neural Network"
      ],
      "metadata": {
        "id": "e3bHB_M5YYyq"
      }
    },
    {
      "cell_type": "code",
      "source": [
        "class SentimentLSTM(nn.Module):\n",
        "  def __init__(self, n_vocab, n_embed, n_hidden, n_output, n_layers, drop_p = 0.8):\n",
        "    super().__init__()\n",
        "\n",
        "    self.n_vocab = n_vocab\n",
        "    self.n_layers = n_layers\n",
        "    self.n_hidden = n_hidden\n",
        "\n",
        "    # Embedding layer\n",
        "    self.embedding = nn.Embedding(n_vocab, n_embed)\n",
        "\n",
        "    # LSTM layer initialization\n",
        "    self.lstm = nn.LSTM(n_embed, n_hidden, n_layers, batch_first = True, dropout = drop_p)\n",
        "    self.dropout = nn.Dropout(drop_p)\n",
        "    self.fc = nn.Linear(n_hidden, n_output)\n",
        "    self.sigmoid = nn.Sigmoid()\n",
        "\n",
        "  def forward (self, input_words):\n",
        "    \"\"\"\n",
        "    Function for performing forward pass of the network\n",
        "    \"\"\"\n",
        "    batch_size = input_words.size(0)\n",
        "    embedded_words = self.embedding(input_words)\n",
        "    lstm_out, h = self.lstm(embedded_words)\n",
        "    lstm_out = self.dropout(lstm_out)\n",
        "    lstm_out = lstm_out.contiguous().view(-1, self.n_hidden)\n",
        "    fc_out = self.fc(lstm_out)\n",
        "    sigmoid_out = self.sigmoid(fc_out)\n",
        "    sigmoid_out = sigmoid_out.view(batch_size, -1)\n",
        "\n",
        "    sigmoid_last = sigmoid_out[:, -1]\n",
        "\n",
        "    return sigmoid_last, h\n",
        "\n",
        "\n",
        "  def init_hidden (self, batch_size):\n",
        "    \"\"\"\n",
        "      Function to initialize hidden states\n",
        "    \"\"\"\n",
        "    device = \"cpu\"\n",
        "    weights = next(self.parameters()).data\n",
        "    h = (weights.new(self.n_layers, batch_size, self.n_hidden).zero_().to(device),\n",
        "          weights.new(self.n_layers, batch_size, self.n_hidden).zero_().to(device))\n",
        "\n",
        "    return h"
      ],
      "metadata": {
        "id": "TEZV-1WEWMXz"
      },
      "execution_count": 36,
      "outputs": []
    },
    {
      "cell_type": "markdown",
      "source": [
        "#### Defining data preparation function"
      ],
      "metadata": {
        "id": "aeVJisw1dLyD"
      }
    },
    {
      "cell_type": "code",
      "source": [
        "def prepare_data(labels, train_ratio,encoded_reviews, batch_size):\n",
        "  \"\"\"\n",
        "    Prepares data for training, validation, and testing.\n",
        "\n",
        "    This function splits the dataset into training, validation, and test sets,\n",
        "    and creates DataLoader objects for each set.\n",
        "\n",
        "    Parameters:\n",
        "    labels (list): List of labels for the dataset.\n",
        "    train_ratio (float): Ratio of data to use for training (0 to 1).\n",
        "    encoded_reviews (list): List of encoded reviews (sequences of integers).\n",
        "    batch_size (int): Number of samples per batch to load.\n",
        "\n",
        "    Returns:\n",
        "    tuple: A tuple containing three DataLoader objects:\n",
        "        - train_loader: DataLoader for the training set\n",
        "        - valid_loader: DataLoader for the validation set\n",
        "        - test_loader: DataLoader for the test set\n",
        "    \"\"\"\n",
        "  valid_ratio = (1 - train_ratio)/2\n",
        "\n",
        "  total = len(encoded_reviews)\n",
        "  train_cutoff = int(total * train_ratio)\n",
        "  valid_cutoff = int(total * (1 - valid_ratio))\n",
        "\n",
        "  train_x, train_y = torch.Tensor(encoded_reviews[:train_cutoff]).long(), torch.Tensor(labels[:train_cutoff]).long()\n",
        "  valid_x, valid_y = torch.Tensor(encoded_reviews[train_cutoff : valid_cutoff]).long(), torch.Tensor(labels[train_cutoff : valid_cutoff]).long()\n",
        "  test_x, test_y = torch.Tensor(encoded_reviews[valid_cutoff:]).long(), torch.Tensor(labels[valid_cutoff:])\n",
        "\n",
        "  train_data = TensorDataset(train_x, train_y)\n",
        "  valid_data = TensorDataset(valid_x, valid_y)\n",
        "  test_data = TensorDataset(test_x, test_y)\n",
        "\n",
        "  train_loader = DataLoader(train_data, batch_size = batch_size, shuffle = True)\n",
        "  valid_loader = DataLoader(valid_data, batch_size = batch_size, shuffle = True)\n",
        "  test_loader = DataLoader(test_data, batch_size = batch_size, shuffle = True)\n",
        "\n",
        "  return train_loader, valid_loader, test_loader"
      ],
      "metadata": {
        "id": "EbqidzwCdO_p"
      },
      "execution_count": 37,
      "outputs": []
    },
    {
      "cell_type": "markdown",
      "source": [
        "#### Defining training and validation function"
      ],
      "metadata": {
        "id": "jZSf5J6ncxE1"
      }
    },
    {
      "cell_type": "code",
      "source": [
        "def train_and_validate(net, n_epochs, batch_size, train_loader, valid_loader, clip, criterion, optimizer, print_every=1000 ):\n",
        "  step = 0\n",
        "  progress = []\n",
        "  for epoch in range(n_epochs):\n",
        "    h = net.init_hidden(batch_size)\n",
        "\n",
        "    for inputs, labels in train_loader:\n",
        "        step += 1\n",
        "        net.zero_grad()\n",
        "        output, h = net(inputs)\n",
        "        loss = criterion(output, labels.float())\n",
        "        loss.backward()\n",
        "        nn.utils.clip_grad_norm(net.parameters(), clip)\n",
        "        optimizer.step()\n",
        "\n",
        "        if (step % print_every) == 0:\n",
        "            net.eval()\n",
        "            valid_losses = []\n",
        "\n",
        "            for v_inputs, v_labels in valid_loader:\n",
        "\n",
        "                v_output, v_h = net(v_inputs)\n",
        "                v_loss = criterion(v_output, v_labels.float())\n",
        "                valid_losses.append(v_loss.item())\n",
        "\n",
        "            print(\"\\rEpoch: {}/{}\".format((epoch+1), n_epochs),\n",
        "                  \"Step: {}\".format(step),\n",
        "                  \"Training Loss: {:.4f}\".format(loss.item()),\n",
        "                  \"Validation Loss: {:.4f}\".format(np.mean(valid_losses)), end='')\n",
        "            progress.append({'step': step, 'train_loss': loss.item(), 'valid_loss': np.mean(valid_losses)})\n",
        "            net.train()\n",
        "\n",
        "    print()\n",
        "  return progress\n"
      ],
      "metadata": {
        "id": "dsX_31jrcwEX"
      },
      "execution_count": 38,
      "outputs": []
    },
    {
      "cell_type": "markdown",
      "source": [
        "### Initializing network and defining Loss Function, Optimizer and Epochs with other hyperparameters"
      ],
      "metadata": {
        "id": "3n95ddMnfGLZ"
      }
    },
    {
      "cell_type": "code",
      "source": [
        "n_vocab = len(vocab_to_int_dict)\n",
        "n_embed = 64\n",
        "n_hidden = 128\n",
        "n_output = 1\n",
        "n_layers = 3\n",
        "\n",
        "## initializing network\n",
        "net = SentimentLSTM(n_vocab, n_embed, n_hidden, n_output, n_layers)"
      ],
      "metadata": {
        "id": "ShOjXhpirIru"
      },
      "execution_count": 39,
      "outputs": []
    },
    {
      "cell_type": "code",
      "source": [
        "criterion = nn.BCELoss()\n",
        "\n",
        "optimizer = optim.Adam(net.parameters(), lr=0.001)\n",
        "\n",
        "n_epochs = 10\n",
        "\n",
        "train_size = 0.8\n",
        "\n",
        "batch_size = 1\n",
        "\n",
        "clip = 5\n",
        "\n",
        "print_every = 100"
      ],
      "metadata": {
        "id": "p0S0qhehesyQ"
      },
      "execution_count": 40,
      "outputs": []
    },
    {
      "cell_type": "code",
      "source": [
        "train_loader, valid_loader, test_loader = prepare_data(labels, train_size, encoded_reviews, batch_size)"
      ],
      "metadata": {
        "id": "1sPfryq_fZVl"
      },
      "execution_count": 41,
      "outputs": []
    },
    {
      "cell_type": "code",
      "source": [
        "progress = train_and_validate(net, n_epochs, batch_size, train_loader, valid_loader, clip, criterion,optimizer, print_every  )"
      ],
      "metadata": {
        "colab": {
          "base_uri": "https://localhost:8080/"
        },
        "id": "7vvZaIqgfJl4",
        "outputId": "a747afc0-b12c-4f7c-e504-cffdd86f7d70"
      },
      "execution_count": 42,
      "outputs": [
        {
          "output_type": "stream",
          "name": "stderr",
          "text": [
            "<ipython-input-38-23f9d6a5752c>:13: FutureWarning: `torch.nn.utils.clip_grad_norm` is now deprecated in favor of `torch.nn.utils.clip_grad_norm_`.\n",
            "  nn.utils.clip_grad_norm(net.parameters(), clip)\n"
          ]
        },
        {
          "output_type": "stream",
          "name": "stdout",
          "text": [
            "Epoch: 1/10 Step: 800 Training Loss: 0.5864 Validation Loss: 0.7048\n",
            "Epoch: 2/10 Step: 1600 Training Loss: 0.7220 Validation Loss: 0.8263\n",
            "Epoch: 3/10 Step: 2400 Training Loss: 0.1799 Validation Loss: 0.7154\n",
            "Epoch: 4/10 Step: 3200 Training Loss: 0.0179 Validation Loss: 0.9486\n",
            "Epoch: 5/10 Step: 4000 Training Loss: 0.1825 Validation Loss: 0.7533\n",
            "Epoch: 6/10 Step: 4800 Training Loss: 5.1763 Validation Loss: 0.8230\n",
            "Epoch: 7/10 Step: 5600 Training Loss: 0.1279 Validation Loss: 0.8663\n",
            "Epoch: 8/10 Step: 6400 Training Loss: 0.0132 Validation Loss: 0.9100\n",
            "Epoch: 9/10 Step: 7200 Training Loss: 0.0001 Validation Loss: 1.2966\n",
            "Epoch: 10/10 Step: 8000 Training Loss: 0.0005 Validation Loss: 1.2302\n"
          ]
        }
      ]
    },
    {
      "cell_type": "code",
      "source": [
        "progress_df = pd.DataFrame(progress)"
      ],
      "metadata": {
        "id": "wYn5TfmLqutt"
      },
      "execution_count": 43,
      "outputs": []
    },
    {
      "cell_type": "code",
      "source": [
        "plt.figure(figsize=(12, 5))\n",
        "plt.subplot(1, 2, 1)\n",
        "sns.lineplot(x='step', y='train_loss', data=progress_df, label='Training Loss')\n",
        "plt.subplot(1, 2, 2)\n",
        "sns.lineplot(x='step', y='valid_loss', data=progress_df, label='Validation Loss')\n",
        "plt.show()"
      ],
      "metadata": {
        "colab": {
          "base_uri": "https://localhost:8080/",
          "height": 465
        },
        "id": "wcFws-DOgfcF",
        "outputId": "63b20b9e-ab5e-470d-f555-8ff82536885b"
      },
      "execution_count": 44,
      "outputs": [
        {
          "output_type": "display_data",
          "data": {
            "text/plain": [
              "<Figure size 1200x500 with 2 Axes>"
            ],
            "image/png": "[encoded data removed]"
          },
          "metadata": {}
        }
      ]
    },
    {
      "cell_type": "markdown",
      "source": [
        "### Testing model on test data"
      ],
      "metadata": {
        "id": "E1JcBpXZ3OAA"
      }
    },
    {
      "cell_type": "code",
      "source": [
        "def test_model(net, test_loader, criterion):\n",
        "  net.eval()\n",
        "  test_losses = []\n",
        "  num_correct = 0\n",
        "\n",
        "  for inputs, labels in test_loader:\n",
        "\n",
        "      test_output, test_h = net(inputs)\n",
        "      loss = criterion(test_output, labels)\n",
        "      test_losses.append(loss.item())\n",
        "\n",
        "      preds = torch.round(test_output.squeeze())\n",
        "      correct_tensor = preds.eq(labels.float().view_as(preds))\n",
        "      correct = np.squeeze(correct_tensor.numpy())\n",
        "      num_correct += np.sum(correct)\n",
        "  net.train()\n",
        "  print(\"Test Loss: {:.4f}\".format(np.mean(test_losses)))\n",
        "  print(\"Test Accuracy: {:.2f}\".format(num_correct/len(test_loader.dataset)))"
      ],
      "metadata": {
        "id": "qQuhnguxrXnG"
      },
      "execution_count": 45,
      "outputs": []
    },
    {
      "cell_type": "code",
      "source": [
        "test_model(net, test_loader, criterion)"
      ],
      "metadata": {
        "colab": {
          "base_uri": "https://localhost:8080/"
        },
        "id": "6Ryqyij4qiRO",
        "outputId": "bb55d697-3963-4d08-f905-64586d7106b9"
      },
      "execution_count": 46,
      "outputs": [
        {
          "output_type": "stream",
          "name": "stdout",
          "text": [
            "Test Loss: 1.5611\n",
            "Test Accuracy: 0.72\n"
          ]
        }
      ]
    },
    {
      "cell_type": "markdown",
      "source": [
        "# Exercise 2"
      ],
      "metadata": {
        "id": "iKqsJKlO3tBP"
      }
    },
    {
      "cell_type": "code",
      "source": [
        "sentence = \"\"\"The larger Broncos will be available with 35-inch off-road tires and will be able to drive through water nearly 3 feet, 10 inches deep. It has independent front suspension, unlike its main competitor, the Jeep Wrangler. Independent suspension, used on almost all modern passenger vehicles, generally provides a smoother ride and better on - road handling than a single solid axle. It still has a solid axle in the back though, like most pickup trucks, a design suited to hard use. Like the Wrangler, both the two- and four-door Bronco will have a removable roofs and doors. Buyers will be able to choose either a hard roof that can be removed in sections, a cloth top, or both. Unlike the Wrangler, though, the Bronco's doors will fit inside the vehicle after being removed. The Bronco will be available with a choice of either a 10-speed automatic or seven-speed manual transmission. (The manual transmission will have six gears for ordinary driving, plus a seventh for low speed off-road driving.) It will be powered by either a 270- horsepower 2.3-liter turbocharged 4- cylinder engine or a 310-horsepower 2.7-liter turbocharged V6. While all of the new Bronco SUVs are designed for hard off-road use, the Bronco Sport isn't quite as hard-core in its capabilities. It also has more convenience features than the more truck-like Bronco. While it's based on engineering that's similar to car-like crossover SUVs, Ford says that it's still intended for serious off-road use. Ford engineers boasted of the off-road testing the prototypes have been put through, including driving through deep sand, up steep inclines , and crawling across boulder-strewn trails.\"\"\""
      ],
      "metadata": {
        "id": "bEZi0R823vCF"
      },
      "execution_count": 80,
      "outputs": []
    },
    {
      "cell_type": "code",
      "source": [
        "nltk.download('stopwords')\n",
        "nltk.download('wordnet')\n",
        "import re\n",
        "from nltk.corpus import stopwords\n",
        "from nltk.stem import PorterStemmer, WordNetLemmatizer\n",
        "\n",
        "stop_words = set(stopwords.words('english'))\n",
        "\n",
        "\n",
        "def preprocess_sentence(sentence):\n",
        "\n",
        "  # Removing special characters and replacing with spaces\n",
        "  sentence = re.sub(r'[^\\w\\s]', ' ', sentence)\n",
        "\n",
        "  # Removing multiple spaces and replacing with single space\n",
        "  sentence = re.sub(r'\\s+', ' ', sentence)\n",
        "\n",
        "  # Removing single characters\n",
        "  sentence = re.sub(r'\\b\\w\\b', '', sentence)\n",
        "\n",
        "  # Converting to lowercase\n",
        "  sentence = sentence.lower()\n",
        "\n",
        "  # splitting sentence to individual words\n",
        "  sentence = sentence.split()\n",
        "\n",
        "  # Removing stopwords\n",
        "  sentence = [word for word in sentence if word not in stop_words]\n",
        "\n",
        "  # Tokenizing words\n",
        "  tokens = word_tokenize(' '.join(sentence))\n",
        "\n",
        "  # lemmatizing words\n",
        "  lemmatizer = WordNetLemmatizer()\n",
        "  lemmatized_words = [lemmatizer.lemmatize(word) for word in tokens]\n",
        "\n",
        "  # stemming words\n",
        "  stemmer = PorterStemmer()\n",
        "  stemmed_words = [stemmer.stem(word) for word in lemmatized_words]\n",
        "  return lemmatized_words\n"
      ],
      "metadata": {
        "colab": {
          "base_uri": "https://localhost:8080/"
        },
        "id": "rtaTA7uF4yPj",
        "outputId": "4e0711e5-dfb7-491e-aff7-80907bc41d8a"
      },
      "execution_count": 81,
      "outputs": [
        {
          "output_type": "stream",
          "name": "stderr",
          "text": [
            "[nltk_data] Downloading package stopwords to /root/nltk_data...\n",
            "[nltk_data]   Package stopwords is already up-to-date!\n",
            "[nltk_data] Downloading package wordnet to /root/nltk_data...\n",
            "[nltk_data]   Package wordnet is already up-to-date!\n"
          ]
        }
      ]
    },
    {
      "cell_type": "code",
      "source": [
        "preprocessed_sentence = preprocess_sentence(sentence)"
      ],
      "metadata": {
        "id": "ozCObijf5KtS"
      },
      "execution_count": 82,
      "outputs": []
    },
    {
      "cell_type": "markdown",
      "source": [
        "### Finding overall sentiment and subjectivity using TextBlob"
      ],
      "metadata": {
        "id": "Oat7s5AM65r6"
      }
    },
    {
      "cell_type": "code",
      "source": [
        "from textblob import TextBlob\n",
        "\n",
        "blob = TextBlob(' '.join(preprocessed_sentence))\n",
        "sentiment = blob.sentiment.polarity\n",
        "subjectivity = blob.sentiment.subjectivity\n",
        "\n",
        "print(f\"Overall sentiment: {sentiment:.2f}\")\n",
        "print(f\"Subjectivity: {subjectivity:.2f}\")"
      ],
      "metadata": {
        "colab": {
          "base_uri": "https://localhost:8080/"
        },
        "id": "yqVrOqLK3mwB",
        "outputId": "9a65f5a4-ad52-47b3-c4e9-f3369cfd55ca"
      },
      "execution_count": 83,
      "outputs": [
        {
          "output_type": "stream",
          "name": "stdout",
          "text": [
            "Overall sentiment: 0.07\n",
            "Subjectivity: 0.39\n"
          ]
        }
      ]
    },
    {
      "cell_type": "markdown",
      "source": [
        "The text registers a 0.07 positive score on sentiment while its subjectivity levels reach 0.39 on the scale. Hence the sentence demonstrates neutral tendencies with a mild positive orientation offering factual details and subjective viewpoints."
      ],
      "metadata": {
        "id": "MwDqBOeS7qYL"
      }
    }
  ]
}