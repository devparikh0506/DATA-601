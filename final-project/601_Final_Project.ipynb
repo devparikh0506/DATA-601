{
  "cells": [
    {
      "cell_type": "code",
      "execution_count": 1,
      "metadata": {
        "id": "IJpJKKrQf14P"
      },
      "outputs": [],
      "source": [
        "import pandas as pd\n",
        "import matplotlib.pyplot as plt\n",
        "import seaborn as sns"
      ]
    },
    {
      "cell_type": "code",
      "execution_count": 2,
      "metadata": {
        "id": "dAprUX_MFVT9"
      },
      "outputs": [],
      "source": [
        "# https://medium.com/@anala007/float-display-in-pandas-no-more-scientific-notation-80e3dd28eabe\n",
        "pd.options.display.float_format = '{:.6f}'.format\n",
        "pd.set_option(\"display.max_columns\", 40)\n",
        "# pd.set_option(\"display.max_rows\", 500)"
      ]
    },
    {
      "cell_type": "code",
      "execution_count": 3,
      "metadata": {
        "id": "-1EpHNLaYTdL"
      },
      "outputs": [],
      "source": [
        " def load_csv_files(file_paths: list[str]):\n",
        "    \"\"\"\n",
        "    Loads csv files\n",
        "\n",
        "    Args:\n",
        "        file_paths (list[str]): file paths for csv files\n",
        "\n",
        "    Returns:\n",
        "        list[pd.DataFrame or None]: Returns list of dataframes or None if file is not found\n",
        "    \"\"\"\n",
        "    try:\n",
        "        return [pd.read_csv(file) for file in file_paths]\n",
        "    except Exception as err:\n",
        "        # handling exceptions like file not found or invalid format of file\n",
        "        print(err)\n",
        "        # returning None value for all files\n",
        "        return [None for _ in file_paths]"
      ]
    },
    {
      "cell_type": "code",
      "execution_count": 4,
      "metadata": {
        "colab": {
          "base_uri": "https://localhost:8080/"
        },
        "id": "JQwiIAguYWju",
        "outputId": "1b04cd86-88eb-4c2c-81f4-2457cf16fd6c"
      },
      "outputs": [
        {
          "name": "stderr",
          "output_type": "stream",
          "text": [
            "C:\\Users\\devdp\\AppData\\Local\\Temp\\ipykernel_39644\\501168151.py:2: UserWarning: Pandas doesn't allow columns to be created via a new attribute name - see https://pandas.pydata.org/pandas-docs/stable/indexing.html#attribute-access\n",
            "  df.delay, df.crash = load_csv_files(['data/Airline_Delay_Cause.csv',\n"
          ]
        }
      ],
      "source": [
        "df=pd.DataFrame([])\n",
        "df.delay, df.crash = load_csv_files(['data/Airline_Delay_Cause.csv',\n",
        "                         'data/cases2024-05-08_14-52.csv'])"
      ]
    },
    {
      "cell_type": "code",
      "execution_count": 5,
      "metadata": {
        "colab": {
          "base_uri": "https://localhost:8080/",
          "height": 313
        },
        "id": "SfgaAQrPwW32",
        "outputId": "7736b1a1-128b-47be-be98-420572b40dbe"
      },
      "outputs": [
        {
          "data": {
            "text/html": [
              "<div>\n",
              "<style scoped>\n",
              "    .dataframe tbody tr th:only-of-type {\n",
              "        vertical-align: middle;\n",
              "    }\n",
              "\n",
              "    .dataframe tbody tr th {\n",
              "        vertical-align: top;\n",
              "    }\n",
              "\n",
              "    .dataframe thead th {\n",
              "        text-align: right;\n",
              "    }\n",
              "</style>\n",
              "<table border=\"1\" class=\"dataframe\">\n",
              "  <thead>\n",
              "    <tr style=\"text-align: right;\">\n",
              "      <th></th>\n",
              "      <th>year</th>\n",
              "      <th>month</th>\n",
              "      <th>carrier</th>\n",
              "      <th>carrier_name</th>\n",
              "      <th>airport</th>\n",
              "      <th>airport_name</th>\n",
              "      <th>arr_flights</th>\n",
              "      <th>arr_del15</th>\n",
              "      <th>carrier_ct</th>\n",
              "      <th>weather_ct</th>\n",
              "      <th>nas_ct</th>\n",
              "      <th>security_ct</th>\n",
              "      <th>late_aircraft_ct</th>\n",
              "      <th>arr_cancelled</th>\n",
              "      <th>arr_diverted</th>\n",
              "      <th>arr_delay</th>\n",
              "      <th>carrier_delay</th>\n",
              "      <th>weather_delay</th>\n",
              "      <th>nas_delay</th>\n",
              "      <th>security_delay</th>\n",
              "      <th>late_aircraft_delay</th>\n",
              "    </tr>\n",
              "  </thead>\n",
              "  <tbody>\n",
              "    <tr>\n",
              "      <th>0</th>\n",
              "      <td>2023</td>\n",
              "      <td>12</td>\n",
              "      <td>9E</td>\n",
              "      <td>Endeavor Air Inc.</td>\n",
              "      <td>ABE</td>\n",
              "      <td>Allentown/Bethlehem/Easton, PA: Lehigh Valley ...</td>\n",
              "      <td>72.000000</td>\n",
              "      <td>5.000000</td>\n",
              "      <td>2.460000</td>\n",
              "      <td>1.000000</td>\n",
              "      <td>0.730000</td>\n",
              "      <td>0.000000</td>\n",
              "      <td>0.810000</td>\n",
              "      <td>0.000000</td>\n",
              "      <td>0.000000</td>\n",
              "      <td>672.000000</td>\n",
              "      <td>61.000000</td>\n",
              "      <td>574.000000</td>\n",
              "      <td>20.000000</td>\n",
              "      <td>0.000000</td>\n",
              "      <td>17.000000</td>\n",
              "    </tr>\n",
              "    <tr>\n",
              "      <th>1</th>\n",
              "      <td>2023</td>\n",
              "      <td>12</td>\n",
              "      <td>9E</td>\n",
              "      <td>Endeavor Air Inc.</td>\n",
              "      <td>AEX</td>\n",
              "      <td>Alexandria, LA: Alexandria International</td>\n",
              "      <td>62.000000</td>\n",
              "      <td>7.000000</td>\n",
              "      <td>4.250000</td>\n",
              "      <td>0.000000</td>\n",
              "      <td>1.000000</td>\n",
              "      <td>0.000000</td>\n",
              "      <td>1.750000</td>\n",
              "      <td>0.000000</td>\n",
              "      <td>0.000000</td>\n",
              "      <td>348.000000</td>\n",
              "      <td>252.000000</td>\n",
              "      <td>0.000000</td>\n",
              "      <td>33.000000</td>\n",
              "      <td>0.000000</td>\n",
              "      <td>63.000000</td>\n",
              "    </tr>\n",
              "    <tr>\n",
              "      <th>2</th>\n",
              "      <td>2023</td>\n",
              "      <td>12</td>\n",
              "      <td>9E</td>\n",
              "      <td>Endeavor Air Inc.</td>\n",
              "      <td>AGS</td>\n",
              "      <td>Augusta, GA: Augusta Regional at Bush Field</td>\n",
              "      <td>95.000000</td>\n",
              "      <td>10.000000</td>\n",
              "      <td>5.940000</td>\n",
              "      <td>0.000000</td>\n",
              "      <td>1.060000</td>\n",
              "      <td>0.000000</td>\n",
              "      <td>3.000000</td>\n",
              "      <td>0.000000</td>\n",
              "      <td>0.000000</td>\n",
              "      <td>859.000000</td>\n",
              "      <td>536.000000</td>\n",
              "      <td>0.000000</td>\n",
              "      <td>47.000000</td>\n",
              "      <td>0.000000</td>\n",
              "      <td>276.000000</td>\n",
              "    </tr>\n",
              "    <tr>\n",
              "      <th>3</th>\n",
              "      <td>2023</td>\n",
              "      <td>12</td>\n",
              "      <td>9E</td>\n",
              "      <td>Endeavor Air Inc.</td>\n",
              "      <td>ALB</td>\n",
              "      <td>Albany, NY: Albany International</td>\n",
              "      <td>23.000000</td>\n",
              "      <td>2.000000</td>\n",
              "      <td>0.560000</td>\n",
              "      <td>0.000000</td>\n",
              "      <td>0.000000</td>\n",
              "      <td>0.000000</td>\n",
              "      <td>1.440000</td>\n",
              "      <td>1.000000</td>\n",
              "      <td>0.000000</td>\n",
              "      <td>75.000000</td>\n",
              "      <td>9.000000</td>\n",
              "      <td>0.000000</td>\n",
              "      <td>0.000000</td>\n",
              "      <td>0.000000</td>\n",
              "      <td>66.000000</td>\n",
              "    </tr>\n",
              "    <tr>\n",
              "      <th>4</th>\n",
              "      <td>2023</td>\n",
              "      <td>12</td>\n",
              "      <td>9E</td>\n",
              "      <td>Endeavor Air Inc.</td>\n",
              "      <td>ATL</td>\n",
              "      <td>Atlanta, GA: Hartsfield-Jackson Atlanta Intern...</td>\n",
              "      <td>2111.000000</td>\n",
              "      <td>256.000000</td>\n",
              "      <td>76.880000</td>\n",
              "      <td>8.750000</td>\n",
              "      <td>52.430000</td>\n",
              "      <td>0.000000</td>\n",
              "      <td>117.940000</td>\n",
              "      <td>1.000000</td>\n",
              "      <td>0.000000</td>\n",
              "      <td>21424.000000</td>\n",
              "      <td>8906.000000</td>\n",
              "      <td>732.000000</td>\n",
              "      <td>1487.000000</td>\n",
              "      <td>0.000000</td>\n",
              "      <td>10299.000000</td>\n",
              "    </tr>\n",
              "  </tbody>\n",
              "</table>\n",
              "</div>"
            ],
            "text/plain": [
              "   year  month carrier       carrier_name airport  \\\n",
              "0  2023     12      9E  Endeavor Air Inc.     ABE   \n",
              "1  2023     12      9E  Endeavor Air Inc.     AEX   \n",
              "2  2023     12      9E  Endeavor Air Inc.     AGS   \n",
              "3  2023     12      9E  Endeavor Air Inc.     ALB   \n",
              "4  2023     12      9E  Endeavor Air Inc.     ATL   \n",
              "\n",
              "                                        airport_name  arr_flights  arr_del15  \\\n",
              "0  Allentown/Bethlehem/Easton, PA: Lehigh Valley ...    72.000000   5.000000   \n",
              "1           Alexandria, LA: Alexandria International    62.000000   7.000000   \n",
              "2        Augusta, GA: Augusta Regional at Bush Field    95.000000  10.000000   \n",
              "3                   Albany, NY: Albany International    23.000000   2.000000   \n",
              "4  Atlanta, GA: Hartsfield-Jackson Atlanta Intern...  2111.000000 256.000000   \n",
              "\n",
              "   carrier_ct  weather_ct    nas_ct  security_ct  late_aircraft_ct  \\\n",
              "0    2.460000    1.000000  0.730000     0.000000          0.810000   \n",
              "1    4.250000    0.000000  1.000000     0.000000          1.750000   \n",
              "2    5.940000    0.000000  1.060000     0.000000          3.000000   \n",
              "3    0.560000    0.000000  0.000000     0.000000          1.440000   \n",
              "4   76.880000    8.750000 52.430000     0.000000        117.940000   \n",
              "\n",
              "   arr_cancelled  arr_diverted    arr_delay  carrier_delay  weather_delay  \\\n",
              "0       0.000000      0.000000   672.000000      61.000000     574.000000   \n",
              "1       0.000000      0.000000   348.000000     252.000000       0.000000   \n",
              "2       0.000000      0.000000   859.000000     536.000000       0.000000   \n",
              "3       1.000000      0.000000    75.000000       9.000000       0.000000   \n",
              "4       1.000000      0.000000 21424.000000    8906.000000     732.000000   \n",
              "\n",
              "    nas_delay  security_delay  late_aircraft_delay  \n",
              "0   20.000000        0.000000            17.000000  \n",
              "1   33.000000        0.000000            63.000000  \n",
              "2   47.000000        0.000000           276.000000  \n",
              "3    0.000000        0.000000            66.000000  \n",
              "4 1487.000000        0.000000         10299.000000  "
            ]
          },
          "execution_count": 5,
          "metadata": {},
          "output_type": "execute_result"
        }
      ],
      "source": [
        "df.delay.head()"
      ]
    },
    {
      "cell_type": "code",
      "execution_count": 6,
      "metadata": {
        "colab": {
          "base_uri": "https://localhost:8080/",
          "height": 463
        },
        "id": "q33HPRI8wXfI",
        "outputId": "467b4e5c-7c28-4334-926f-129338f5d745"
      },
      "outputs": [
        {
          "data": {
            "text/html": [
              "<div>\n",
              "<style scoped>\n",
              "    .dataframe tbody tr th:only-of-type {\n",
              "        vertical-align: middle;\n",
              "    }\n",
              "\n",
              "    .dataframe tbody tr th {\n",
              "        vertical-align: top;\n",
              "    }\n",
              "\n",
              "    .dataframe thead th {\n",
              "        text-align: right;\n",
              "    }\n",
              "</style>\n",
              "<table border=\"1\" class=\"dataframe\">\n",
              "  <thead>\n",
              "    <tr style=\"text-align: right;\">\n",
              "      <th></th>\n",
              "      <th>NtsbNo</th>\n",
              "      <th>EventType</th>\n",
              "      <th>Mkey</th>\n",
              "      <th>EventDate</th>\n",
              "      <th>City</th>\n",
              "      <th>State</th>\n",
              "      <th>Country</th>\n",
              "      <th>ReportNo</th>\n",
              "      <th>N#</th>\n",
              "      <th>SerialNumber</th>\n",
              "      <th>HasSafetyRec</th>\n",
              "      <th>Mode</th>\n",
              "      <th>ReportType</th>\n",
              "      <th>OriginalPublishedDate</th>\n",
              "      <th>DocketOriginalPublishedDate</th>\n",
              "      <th>HighestInjuryLevel</th>\n",
              "      <th>FatalInjuryCount</th>\n",
              "      <th>SeriousInjuryCount</th>\n",
              "      <th>MinorInjuryCount</th>\n",
              "      <th>ProbableCause</th>\n",
              "      <th>...</th>\n",
              "      <th>Make</th>\n",
              "      <th>Model</th>\n",
              "      <th>AirCraftCategory</th>\n",
              "      <th>AirportID</th>\n",
              "      <th>AirportName</th>\n",
              "      <th>AmateurBuilt</th>\n",
              "      <th>NumberOfEngines</th>\n",
              "      <th>EngineType</th>\n",
              "      <th>Scheduled</th>\n",
              "      <th>PurposeOfFlight</th>\n",
              "      <th>FAR</th>\n",
              "      <th>AirCraftDamage</th>\n",
              "      <th>WeatherCondition</th>\n",
              "      <th>Operator</th>\n",
              "      <th>BroadPhaseofFlight</th>\n",
              "      <th>ReportStatus</th>\n",
              "      <th>RepGenFlag</th>\n",
              "      <th>MostRecentReportType</th>\n",
              "      <th>DocketUrl</th>\n",
              "      <th>ReportUrl</th>\n",
              "    </tr>\n",
              "  </thead>\n",
              "  <tbody>\n",
              "    <tr>\n",
              "      <th>0</th>\n",
              "      <td>CEN24LA079</td>\n",
              "      <td>ACC</td>\n",
              "      <td>193595</td>\n",
              "      <td>2023-12-31T17:40:00Z</td>\n",
              "      <td>Davenport</td>\n",
              "      <td>Iowa</td>\n",
              "      <td>United States</td>\n",
              "      <td>NaN</td>\n",
              "      <td>N773GB</td>\n",
              "      <td>0702</td>\n",
              "      <td>False</td>\n",
              "      <td>Aviation</td>\n",
              "      <td>NaN</td>\n",
              "      <td>NaN</td>\n",
              "      <td>NaN</td>\n",
              "      <td>NaN</td>\n",
              "      <td>0.000000</td>\n",
              "      <td>0.000000</td>\n",
              "      <td>0.000000</td>\n",
              "      <td>NaN</td>\n",
              "      <td>...</td>\n",
              "      <td>CIRRUS DESIGN CORP</td>\n",
              "      <td>SR22T</td>\n",
              "      <td>AIR</td>\n",
              "      <td>DVN</td>\n",
              "      <td>NaN</td>\n",
              "      <td>false</td>\n",
              "      <td>1</td>\n",
              "      <td>NaN</td>\n",
              "      <td>NaN</td>\n",
              "      <td>PERS</td>\n",
              "      <td>091</td>\n",
              "      <td>Substantial</td>\n",
              "      <td>VMC</td>\n",
              "      <td>JKC LLC</td>\n",
              "      <td>Approach</td>\n",
              "      <td>In work</td>\n",
              "      <td>NaN</td>\n",
              "      <td>Prelim</td>\n",
              "      <td>NaN</td>\n",
              "      <td>https://data.ntsb.gov/carol-repgen/api/Aviatio...</td>\n",
              "    </tr>\n",
              "    <tr>\n",
              "      <th>1</th>\n",
              "      <td>ERA24LA084</td>\n",
              "      <td>ACC</td>\n",
              "      <td>193603</td>\n",
              "      <td>2023-12-31T16:13:00Z</td>\n",
              "      <td>Midland</td>\n",
              "      <td>Virginia</td>\n",
              "      <td>United States</td>\n",
              "      <td>NaN</td>\n",
              "      <td>N37GA</td>\n",
              "      <td>004CE</td>\n",
              "      <td>False</td>\n",
              "      <td>Aviation</td>\n",
              "      <td>DirectorBrief</td>\n",
              "      <td>2024-03-21T04:00:00Z</td>\n",
              "      <td>2024-03-21T17:00:00Z</td>\n",
              "      <td>NaN</td>\n",
              "      <td>0.000000</td>\n",
              "      <td>0.000000</td>\n",
              "      <td>0.000000</td>\n",
              "      <td>The pilot’s improper recovery from a bounced l...</td>\n",
              "      <td>...</td>\n",
              "      <td>GOLDEN AVIO S R L</td>\n",
              "      <td>F30 Brio</td>\n",
              "      <td>AIR</td>\n",
              "      <td>HWY</td>\n",
              "      <td>WARRENTON/FAUQUIER</td>\n",
              "      <td>false</td>\n",
              "      <td>1</td>\n",
              "      <td>REC</td>\n",
              "      <td>NaN</td>\n",
              "      <td>PERS</td>\n",
              "      <td>091</td>\n",
              "      <td>Substantial</td>\n",
              "      <td>VMC</td>\n",
              "      <td>NaN</td>\n",
              "      <td>Landing</td>\n",
              "      <td>Completed</td>\n",
              "      <td>NaN</td>\n",
              "      <td>Final</td>\n",
              "      <td>https://data.ntsb.gov/Docket?ProjectID=193603</td>\n",
              "      <td>https://data.ntsb.gov/carol-repgen/api/Aviatio...</td>\n",
              "    </tr>\n",
              "    <tr>\n",
              "      <th>2</th>\n",
              "      <td>ERA24FA078</td>\n",
              "      <td>ACC</td>\n",
              "      <td>193581</td>\n",
              "      <td>2023-12-31T14:13:00Z</td>\n",
              "      <td>Mooresville</td>\n",
              "      <td>North Carolina</td>\n",
              "      <td>United States</td>\n",
              "      <td>NaN</td>\n",
              "      <td>N539MA</td>\n",
              "      <td>4692139</td>\n",
              "      <td>False</td>\n",
              "      <td>Aviation</td>\n",
              "      <td>NaN</td>\n",
              "      <td>NaN</td>\n",
              "      <td>NaN</td>\n",
              "      <td>Fatal</td>\n",
              "      <td>1.000000</td>\n",
              "      <td>0.000000</td>\n",
              "      <td>0.000000</td>\n",
              "      <td>NaN</td>\n",
              "      <td>...</td>\n",
              "      <td>PIPER AIRCRAFT INC</td>\n",
              "      <td>PA46R-350T</td>\n",
              "      <td>AIR</td>\n",
              "      <td>14A</td>\n",
              "      <td>LAKE NORMAN AIRPARK</td>\n",
              "      <td>false</td>\n",
              "      <td>1</td>\n",
              "      <td>NaN</td>\n",
              "      <td>NaN</td>\n",
              "      <td>PERS</td>\n",
              "      <td>091</td>\n",
              "      <td>Substantial</td>\n",
              "      <td>VMC</td>\n",
              "      <td>RTM AVIATION LLC</td>\n",
              "      <td>Unknown</td>\n",
              "      <td>In work</td>\n",
              "      <td>NaN</td>\n",
              "      <td>Prelim</td>\n",
              "      <td>NaN</td>\n",
              "      <td>https://data.ntsb.gov/carol-repgen/api/Aviatio...</td>\n",
              "    </tr>\n",
              "    <tr>\n",
              "      <th>3</th>\n",
              "      <td>CEN24LA077</td>\n",
              "      <td>ACC</td>\n",
              "      <td>193585</td>\n",
              "      <td>2023-12-30T17:00:00Z</td>\n",
              "      <td>Washington</td>\n",
              "      <td>Missouri</td>\n",
              "      <td>United States</td>\n",
              "      <td>NaN</td>\n",
              "      <td>N678MJ</td>\n",
              "      <td>79-30941</td>\n",
              "      <td>False</td>\n",
              "      <td>Aviation</td>\n",
              "      <td>NaN</td>\n",
              "      <td>NaN</td>\n",
              "      <td>NaN</td>\n",
              "      <td>Serious</td>\n",
              "      <td>0.000000</td>\n",
              "      <td>1.000000</td>\n",
              "      <td>0.000000</td>\n",
              "      <td>NaN</td>\n",
              "      <td>...</td>\n",
              "      <td>BELLANCA</td>\n",
              "      <td>17-30A</td>\n",
              "      <td>AIR</td>\n",
              "      <td>FYG</td>\n",
              "      <td>Washington Regional</td>\n",
              "      <td>false</td>\n",
              "      <td>1</td>\n",
              "      <td>NaN</td>\n",
              "      <td>NSCH</td>\n",
              "      <td>PERS</td>\n",
              "      <td>091</td>\n",
              "      <td>Substantial</td>\n",
              "      <td>VMC</td>\n",
              "      <td>PIASA LLC</td>\n",
              "      <td>Initial Climb</td>\n",
              "      <td>In work</td>\n",
              "      <td>NaN</td>\n",
              "      <td>Prelim</td>\n",
              "      <td>NaN</td>\n",
              "      <td>https://data.ntsb.gov/carol-repgen/api/Aviatio...</td>\n",
              "    </tr>\n",
              "    <tr>\n",
              "      <th>4</th>\n",
              "      <td>ERA24LA079</td>\n",
              "      <td>ACC</td>\n",
              "      <td>193587</td>\n",
              "      <td>2023-12-30T16:04:00Z</td>\n",
              "      <td>Daytona Beach</td>\n",
              "      <td>Florida</td>\n",
              "      <td>United States</td>\n",
              "      <td>NaN</td>\n",
              "      <td>N828AK, FA3XNWMRAN</td>\n",
              "      <td>1689, 163DF81001N020</td>\n",
              "      <td>False</td>\n",
              "      <td>Aviation</td>\n",
              "      <td>DirectorBrief</td>\n",
              "      <td>2024-01-25T05:00:00Z</td>\n",
              "      <td>NaN</td>\n",
              "      <td>NaN</td>\n",
              "      <td>0.000000</td>\n",
              "      <td>0.000000</td>\n",
              "      <td>0.000000</td>\n",
              "      <td>The UAS operator’s failure to operate within t...</td>\n",
              "      <td>...</td>\n",
              "      <td>ROBINSON HELICOPTER, DJI</td>\n",
              "      <td>R44, MAVIC 2</td>\n",
              "      <td>HELI, UNMANNED</td>\n",
              "      <td>DAB</td>\n",
              "      <td>DAYTONA BEACH INTERNATIONAL</td>\n",
              "      <td>false, false</td>\n",
              "      <td>1, 4</td>\n",
              "      <td>REC</td>\n",
              "      <td>NaN</td>\n",
              "      <td>OWRK, OWRK</td>\n",
              "      <td>091, 107</td>\n",
              "      <td>Substantial, Destroyed</td>\n",
              "      <td>VMC</td>\n",
              "      <td>Tunica Helicopters LLC</td>\n",
              "      <td>Approach</td>\n",
              "      <td>Completed</td>\n",
              "      <td>NaN</td>\n",
              "      <td>Final</td>\n",
              "      <td>NaN</td>\n",
              "      <td>https://data.ntsb.gov/carol-repgen/api/Aviatio...</td>\n",
              "    </tr>\n",
              "  </tbody>\n",
              "</table>\n",
              "<p>5 rows × 44 columns</p>\n",
              "</div>"
            ],
            "text/plain": [
              "       NtsbNo EventType    Mkey             EventDate           City  \\\n",
              "0  CEN24LA079       ACC  193595  2023-12-31T17:40:00Z      Davenport   \n",
              "1  ERA24LA084       ACC  193603  2023-12-31T16:13:00Z        Midland   \n",
              "2  ERA24FA078       ACC  193581  2023-12-31T14:13:00Z    Mooresville   \n",
              "3  CEN24LA077       ACC  193585  2023-12-30T17:00:00Z     Washington   \n",
              "4  ERA24LA079       ACC  193587  2023-12-30T16:04:00Z  Daytona Beach   \n",
              "\n",
              "            State        Country  ReportNo                  N#  \\\n",
              "0            Iowa  United States       NaN              N773GB   \n",
              "1        Virginia  United States       NaN               N37GA   \n",
              "2  North Carolina  United States       NaN              N539MA   \n",
              "3        Missouri  United States       NaN              N678MJ   \n",
              "4         Florida  United States       NaN  N828AK, FA3XNWMRAN   \n",
              "\n",
              "           SerialNumber  HasSafetyRec      Mode     ReportType  \\\n",
              "0                  0702         False  Aviation            NaN   \n",
              "1                 004CE         False  Aviation  DirectorBrief   \n",
              "2               4692139         False  Aviation            NaN   \n",
              "3              79-30941         False  Aviation            NaN   \n",
              "4  1689, 163DF81001N020         False  Aviation  DirectorBrief   \n",
              "\n",
              "  OriginalPublishedDate DocketOriginalPublishedDate HighestInjuryLevel  \\\n",
              "0                   NaN                         NaN                NaN   \n",
              "1  2024-03-21T04:00:00Z        2024-03-21T17:00:00Z                NaN   \n",
              "2                   NaN                         NaN              Fatal   \n",
              "3                   NaN                         NaN            Serious   \n",
              "4  2024-01-25T05:00:00Z                         NaN                NaN   \n",
              "\n",
              "   FatalInjuryCount  SeriousInjuryCount  MinorInjuryCount  \\\n",
              "0          0.000000            0.000000          0.000000   \n",
              "1          0.000000            0.000000          0.000000   \n",
              "2          1.000000            0.000000          0.000000   \n",
              "3          0.000000            1.000000          0.000000   \n",
              "4          0.000000            0.000000          0.000000   \n",
              "\n",
              "                                       ProbableCause  ...  \\\n",
              "0                                                NaN  ...   \n",
              "1  The pilot’s improper recovery from a bounced l...  ...   \n",
              "2                                                NaN  ...   \n",
              "3                                                NaN  ...   \n",
              "4  The UAS operator’s failure to operate within t...  ...   \n",
              "\n",
              "                       Make         Model  AirCraftCategory  AirportID  \\\n",
              "0        CIRRUS DESIGN CORP         SR22T               AIR        DVN   \n",
              "1         GOLDEN AVIO S R L      F30 Brio               AIR        HWY   \n",
              "2        PIPER AIRCRAFT INC    PA46R-350T               AIR        14A   \n",
              "3                  BELLANCA        17-30A               AIR        FYG   \n",
              "4  ROBINSON HELICOPTER, DJI  R44, MAVIC 2    HELI, UNMANNED        DAB   \n",
              "\n",
              "                   AirportName  AmateurBuilt NumberOfEngines EngineType  \\\n",
              "0                          NaN         false               1        NaN   \n",
              "1           WARRENTON/FAUQUIER         false               1        REC   \n",
              "2          LAKE NORMAN AIRPARK         false               1        NaN   \n",
              "3          Washington Regional         false               1        NaN   \n",
              "4  DAYTONA BEACH INTERNATIONAL  false, false            1, 4        REC   \n",
              "\n",
              "  Scheduled PurposeOfFlight       FAR          AirCraftDamage  \\\n",
              "0       NaN            PERS       091             Substantial   \n",
              "1       NaN            PERS       091             Substantial   \n",
              "2       NaN            PERS       091             Substantial   \n",
              "3      NSCH            PERS       091             Substantial   \n",
              "4       NaN      OWRK, OWRK  091, 107  Substantial, Destroyed   \n",
              "\n",
              "  WeatherCondition                Operator BroadPhaseofFlight ReportStatus  \\\n",
              "0              VMC                 JKC LLC           Approach      In work   \n",
              "1              VMC                     NaN            Landing    Completed   \n",
              "2              VMC        RTM AVIATION LLC            Unknown      In work   \n",
              "3              VMC               PIASA LLC      Initial Climb      In work   \n",
              "4              VMC  Tunica Helicopters LLC           Approach    Completed   \n",
              "\n",
              "  RepGenFlag MostRecentReportType  \\\n",
              "0        NaN               Prelim   \n",
              "1        NaN                Final   \n",
              "2        NaN               Prelim   \n",
              "3        NaN               Prelim   \n",
              "4        NaN                Final   \n",
              "\n",
              "                                       DocketUrl  \\\n",
              "0                                            NaN   \n",
              "1  https://data.ntsb.gov/Docket?ProjectID=193603   \n",
              "2                                            NaN   \n",
              "3                                            NaN   \n",
              "4                                            NaN   \n",
              "\n",
              "                                           ReportUrl  \n",
              "0  https://data.ntsb.gov/carol-repgen/api/Aviatio...  \n",
              "1  https://data.ntsb.gov/carol-repgen/api/Aviatio...  \n",
              "2  https://data.ntsb.gov/carol-repgen/api/Aviatio...  \n",
              "3  https://data.ntsb.gov/carol-repgen/api/Aviatio...  \n",
              "4  https://data.ntsb.gov/carol-repgen/api/Aviatio...  \n",
              "\n",
              "[5 rows x 44 columns]"
            ]
          },
          "execution_count": 6,
          "metadata": {},
          "output_type": "execute_result"
        }
      ],
      "source": [
        "df.crash.head()"
      ]
    },
    {
      "cell_type": "markdown",
      "metadata": {
        "id": "3wU3DNkk3rrD"
      },
      "source": [
        "# Data Cleanup"
      ]
    },
    {
      "cell_type": "markdown",
      "metadata": {
        "id": "D4reCLIcbs-e"
      },
      "source": [
        "## Airline delay Data cleaning"
      ]
    },
    {
      "cell_type": "code",
      "execution_count": 7,
      "metadata": {
        "id": "ppEYnxWg4BQC"
      },
      "outputs": [],
      "source": [
        "df.delay.drop_duplicates(keep=False, inplace=True)"
      ]
    },
    {
      "cell_type": "markdown",
      "metadata": {
        "id": "AdZ7cfNW4G5C"
      },
      "source": [
        "Let's check for null values\n",
        "\n",
        "Creating a function that prints null value counts and proportion for only columns that are having null values"
      ]
    },
    {
      "cell_type": "code",
      "execution_count": 8,
      "metadata": {
        "id": "OREnEiu04FJh"
      },
      "outputs": [],
      "source": [
        "def check_null_values(df: pd.DataFrame):\n",
        "    \"\"\"\n",
        "    Checks null values for each columns in dataframe\n",
        "\n",
        "    Args:\n",
        "        df (pd.DataFrame): Source dataframe\n",
        "    \"\"\"\n",
        "    null_value_counts = (df.isnull().sum()).sort_values(ascending=False)\n",
        "    # Removing columns that are not having null values\n",
        "    null_value_counts = null_value_counts[null_value_counts != 0]\n",
        "    null_value_percentages = (null_value_counts/df.shape[0]) * 100\n",
        "    print(\"Null values for columns:\\n\", null_value_counts)\n",
        "    print(\"\\nNull value percentages for columns:\\n\", null_value_percentages)"
      ]
    },
    {
      "cell_type": "code",
      "execution_count": 9,
      "metadata": {
        "colab": {
          "base_uri": "https://localhost:8080/"
        },
        "id": "Bw6-Mnqa1b78",
        "outputId": "46824425-1c7b-4b13-b49f-02c7d8580e89"
      },
      "outputs": [
        {
          "name": "stdout",
          "output_type": "stream",
          "text": [
            "Null values for columns:\n",
            " arr_del15              52\n",
            "nas_ct                 47\n",
            "security_ct            47\n",
            "security_delay         47\n",
            "nas_delay              47\n",
            "weather_delay          47\n",
            "carrier_delay          47\n",
            "arr_delay              47\n",
            "arr_diverted           47\n",
            "arr_cancelled          47\n",
            "late_aircraft_ct       47\n",
            "late_aircraft_delay    47\n",
            "weather_ct             47\n",
            "carrier_ct             47\n",
            "arr_flights            47\n",
            "dtype: int64\n",
            "\n",
            "Null value percentages for columns:\n",
            " arr_del15             0.229875\n",
            "nas_ct                0.207772\n",
            "security_ct           0.207772\n",
            "security_delay        0.207772\n",
            "nas_delay             0.207772\n",
            "weather_delay         0.207772\n",
            "carrier_delay         0.207772\n",
            "arr_delay             0.207772\n",
            "arr_diverted          0.207772\n",
            "arr_cancelled         0.207772\n",
            "late_aircraft_ct      0.207772\n",
            "late_aircraft_delay   0.207772\n",
            "weather_ct            0.207772\n",
            "carrier_ct            0.207772\n",
            "arr_flights           0.207772\n",
            "dtype: float64\n"
          ]
        }
      ],
      "source": [
        "# df.delay.isna().sum()\n",
        "check_null_values(df.delay)"
      ]
    },
    {
      "cell_type": "markdown",
      "metadata": {},
      "source": [
        "Since only 0.2% values are null we can drop rows containing null values"
      ]
    },
    {
      "cell_type": "code",
      "execution_count": 10,
      "metadata": {},
      "outputs": [],
      "source": [
        "df.delay.dropna(inplace=True)"
      ]
    },
    {
      "cell_type": "code",
      "execution_count": 11,
      "metadata": {
        "colab": {
          "base_uri": "https://localhost:8080/"
        },
        "id": "ccbjAqRdAyQh",
        "outputId": "080f3597-6f98-48f4-93b7-c2ca0138e305"
      },
      "outputs": [
        {
          "name": "stdout",
          "output_type": "stream",
          "text": [
            "<class 'pandas.core.frame.DataFrame'>\n",
            "Index: 22569 entries, 0 to 22620\n",
            "Data columns (total 21 columns):\n",
            " #   Column               Non-Null Count  Dtype  \n",
            "---  ------               --------------  -----  \n",
            " 0   year                 22569 non-null  int64  \n",
            " 1   month                22569 non-null  int64  \n",
            " 2   carrier              22569 non-null  object \n",
            " 3   carrier_name         22569 non-null  object \n",
            " 4   airport              22569 non-null  object \n",
            " 5   airport_name         22569 non-null  object \n",
            " 6   arr_flights          22569 non-null  float64\n",
            " 7   arr_del15            22569 non-null  float64\n",
            " 8   carrier_ct           22569 non-null  float64\n",
            " 9   weather_ct           22569 non-null  float64\n",
            " 10  nas_ct               22569 non-null  float64\n",
            " 11  security_ct          22569 non-null  float64\n",
            " 12  late_aircraft_ct     22569 non-null  float64\n",
            " 13  arr_cancelled        22569 non-null  float64\n",
            " 14  arr_diverted         22569 non-null  float64\n",
            " 15  arr_delay            22569 non-null  float64\n",
            " 16  carrier_delay        22569 non-null  float64\n",
            " 17  weather_delay        22569 non-null  float64\n",
            " 18  nas_delay            22569 non-null  float64\n",
            " 19  security_delay       22569 non-null  float64\n",
            " 20  late_aircraft_delay  22569 non-null  float64\n",
            "dtypes: float64(15), int64(2), object(4)\n",
            "memory usage: 3.8+ MB\n"
          ]
        }
      ],
      "source": [
        "df.delay.info()"
      ]
    },
    {
      "cell_type": "code",
      "execution_count": 12,
      "metadata": {
        "id": "TmKk9t1qGLxk"
      },
      "outputs": [],
      "source": [
        "def change_column_type(df:pd.DataFrame, columns : dict):\n",
        "  try:\n",
        "    for ctype, data in columns.items():\n",
        "      for column in data['columns']:\n",
        "        try:\n",
        "            middleware = data.get('middleware', None)\n",
        "            df[column] = (middleware(df[column]) if middleware is not None else df[column]).astype(ctype)\n",
        "        except Exception as E:\n",
        "          print(f\"[Error] change_column_type : Error converting column \\\"{column}\\\" to {ctype}.\\n\")\n",
        "  except Exception as E:\n",
        "    print(f\"[Error] change_column_type : Error converting columns.\\n\")\n",
        "  return df"
      ]
    },
    {
      "cell_type": "code",
      "execution_count": 13,
      "metadata": {},
      "outputs": [],
      "source": [
        "def round_float_col(df : pd.DataFrame):\n",
        "  return df.round()"
      ]
    },
    {
      "cell_type": "code",
      "execution_count": 14,
      "metadata": {
        "id": "afM81j4LGtQK"
      },
      "outputs": [],
      "source": [
        "df.delay = change_column_type(df.delay,{\n",
        "    \"category\" : {\n",
        "        'columns' : ['carrier', 'carrier_name', 'airport', 'airport_name']\n",
        "    },\n",
        "    \"int\" : {\n",
        "        'columns' : ['arr_flights','carrier_ct', 'weather_ct','nas_ct', 'security_ct', 'late_aircraft_ct', 'arr_del15', 'arr_cancelled', 'arr_diverted', 'arr_delay', 'carrier_delay', 'weather_delay', 'nas_delay', 'security_delay', 'late_aircraft_delay'],\n",
        "        'middleware' : round_float_col\n",
        "    }\n",
        "    })"
      ]
    },
    {
      "cell_type": "code",
      "execution_count": 15,
      "metadata": {},
      "outputs": [
        {
          "name": "stderr",
          "output_type": "stream",
          "text": [
            "C:\\Users\\devdp\\AppData\\Local\\Temp\\ipykernel_39644\\578555265.py:1: UserWarning: Could not infer format, so each element will be parsed individually, falling back to `dateutil`. To ensure parsing is consistent and as-expected, please specify a format.\n",
            "  df.delay['flight_date'] = pd.to_datetime(df.delay[\"month\"].astype(str) + \"-\" + df.delay[\"year\"].astype(str))\n"
          ]
        }
      ],
      "source": [
        "df.delay['flight_date'] = pd.to_datetime(df.delay[\"month\"].astype(str) + \"-\" + df.delay[\"year\"].astype(str))"
      ]
    },
    {
      "cell_type": "code",
      "execution_count": 16,
      "metadata": {},
      "outputs": [],
      "source": [
        "df.delay['arr_on_time'] = df.delay['arr_flights'] - df.delay['arr_del15'] - df.delay['arr_cancelled'] - df.delay['arr_diverted']"
      ]
    },
    {
      "cell_type": "code",
      "execution_count": 17,
      "metadata": {},
      "outputs": [
        {
          "data": {
            "text/html": [
              "<div>\n",
              "<style scoped>\n",
              "    .dataframe tbody tr th:only-of-type {\n",
              "        vertical-align: middle;\n",
              "    }\n",
              "\n",
              "    .dataframe tbody tr th {\n",
              "        vertical-align: top;\n",
              "    }\n",
              "\n",
              "    .dataframe thead th {\n",
              "        text-align: right;\n",
              "    }\n",
              "</style>\n",
              "<table border=\"1\" class=\"dataframe\">\n",
              "  <thead>\n",
              "    <tr style=\"text-align: right;\">\n",
              "      <th></th>\n",
              "      <th>year</th>\n",
              "      <th>month</th>\n",
              "      <th>carrier</th>\n",
              "      <th>carrier_name</th>\n",
              "      <th>airport</th>\n",
              "      <th>airport_name</th>\n",
              "      <th>arr_flights</th>\n",
              "      <th>arr_del15</th>\n",
              "      <th>carrier_ct</th>\n",
              "      <th>weather_ct</th>\n",
              "      <th>nas_ct</th>\n",
              "      <th>security_ct</th>\n",
              "      <th>late_aircraft_ct</th>\n",
              "      <th>arr_cancelled</th>\n",
              "      <th>arr_diverted</th>\n",
              "      <th>arr_delay</th>\n",
              "      <th>carrier_delay</th>\n",
              "      <th>weather_delay</th>\n",
              "      <th>nas_delay</th>\n",
              "      <th>security_delay</th>\n",
              "      <th>late_aircraft_delay</th>\n",
              "      <th>flight_date</th>\n",
              "      <th>arr_on_time</th>\n",
              "    </tr>\n",
              "  </thead>\n",
              "  <tbody>\n",
              "    <tr>\n",
              "      <th>0</th>\n",
              "      <td>2023</td>\n",
              "      <td>12</td>\n",
              "      <td>9E</td>\n",
              "      <td>Endeavor Air Inc.</td>\n",
              "      <td>ABE</td>\n",
              "      <td>Allentown/Bethlehem/Easton, PA: Lehigh Valley ...</td>\n",
              "      <td>72</td>\n",
              "      <td>5</td>\n",
              "      <td>2</td>\n",
              "      <td>1</td>\n",
              "      <td>1</td>\n",
              "      <td>0</td>\n",
              "      <td>1</td>\n",
              "      <td>0</td>\n",
              "      <td>0</td>\n",
              "      <td>672</td>\n",
              "      <td>61</td>\n",
              "      <td>574</td>\n",
              "      <td>20</td>\n",
              "      <td>0</td>\n",
              "      <td>17</td>\n",
              "      <td>2023-12-01</td>\n",
              "      <td>67</td>\n",
              "    </tr>\n",
              "    <tr>\n",
              "      <th>1</th>\n",
              "      <td>2023</td>\n",
              "      <td>12</td>\n",
              "      <td>9E</td>\n",
              "      <td>Endeavor Air Inc.</td>\n",
              "      <td>AEX</td>\n",
              "      <td>Alexandria, LA: Alexandria International</td>\n",
              "      <td>62</td>\n",
              "      <td>7</td>\n",
              "      <td>4</td>\n",
              "      <td>0</td>\n",
              "      <td>1</td>\n",
              "      <td>0</td>\n",
              "      <td>2</td>\n",
              "      <td>0</td>\n",
              "      <td>0</td>\n",
              "      <td>348</td>\n",
              "      <td>252</td>\n",
              "      <td>0</td>\n",
              "      <td>33</td>\n",
              "      <td>0</td>\n",
              "      <td>63</td>\n",
              "      <td>2023-12-01</td>\n",
              "      <td>55</td>\n",
              "    </tr>\n",
              "    <tr>\n",
              "      <th>2</th>\n",
              "      <td>2023</td>\n",
              "      <td>12</td>\n",
              "      <td>9E</td>\n",
              "      <td>Endeavor Air Inc.</td>\n",
              "      <td>AGS</td>\n",
              "      <td>Augusta, GA: Augusta Regional at Bush Field</td>\n",
              "      <td>95</td>\n",
              "      <td>10</td>\n",
              "      <td>6</td>\n",
              "      <td>0</td>\n",
              "      <td>1</td>\n",
              "      <td>0</td>\n",
              "      <td>3</td>\n",
              "      <td>0</td>\n",
              "      <td>0</td>\n",
              "      <td>859</td>\n",
              "      <td>536</td>\n",
              "      <td>0</td>\n",
              "      <td>47</td>\n",
              "      <td>0</td>\n",
              "      <td>276</td>\n",
              "      <td>2023-12-01</td>\n",
              "      <td>85</td>\n",
              "    </tr>\n",
              "    <tr>\n",
              "      <th>3</th>\n",
              "      <td>2023</td>\n",
              "      <td>12</td>\n",
              "      <td>9E</td>\n",
              "      <td>Endeavor Air Inc.</td>\n",
              "      <td>ALB</td>\n",
              "      <td>Albany, NY: Albany International</td>\n",
              "      <td>23</td>\n",
              "      <td>2</td>\n",
              "      <td>1</td>\n",
              "      <td>0</td>\n",
              "      <td>0</td>\n",
              "      <td>0</td>\n",
              "      <td>1</td>\n",
              "      <td>1</td>\n",
              "      <td>0</td>\n",
              "      <td>75</td>\n",
              "      <td>9</td>\n",
              "      <td>0</td>\n",
              "      <td>0</td>\n",
              "      <td>0</td>\n",
              "      <td>66</td>\n",
              "      <td>2023-12-01</td>\n",
              "      <td>20</td>\n",
              "    </tr>\n",
              "    <tr>\n",
              "      <th>4</th>\n",
              "      <td>2023</td>\n",
              "      <td>12</td>\n",
              "      <td>9E</td>\n",
              "      <td>Endeavor Air Inc.</td>\n",
              "      <td>ATL</td>\n",
              "      <td>Atlanta, GA: Hartsfield-Jackson Atlanta Intern...</td>\n",
              "      <td>2111</td>\n",
              "      <td>256</td>\n",
              "      <td>77</td>\n",
              "      <td>9</td>\n",
              "      <td>52</td>\n",
              "      <td>0</td>\n",
              "      <td>118</td>\n",
              "      <td>1</td>\n",
              "      <td>0</td>\n",
              "      <td>21424</td>\n",
              "      <td>8906</td>\n",
              "      <td>732</td>\n",
              "      <td>1487</td>\n",
              "      <td>0</td>\n",
              "      <td>10299</td>\n",
              "      <td>2023-12-01</td>\n",
              "      <td>1854</td>\n",
              "    </tr>\n",
              "  </tbody>\n",
              "</table>\n",
              "</div>"
            ],
            "text/plain": [
              "   year  month carrier       carrier_name airport  \\\n",
              "0  2023     12      9E  Endeavor Air Inc.     ABE   \n",
              "1  2023     12      9E  Endeavor Air Inc.     AEX   \n",
              "2  2023     12      9E  Endeavor Air Inc.     AGS   \n",
              "3  2023     12      9E  Endeavor Air Inc.     ALB   \n",
              "4  2023     12      9E  Endeavor Air Inc.     ATL   \n",
              "\n",
              "                                        airport_name  arr_flights  arr_del15  \\\n",
              "0  Allentown/Bethlehem/Easton, PA: Lehigh Valley ...           72          5   \n",
              "1           Alexandria, LA: Alexandria International           62          7   \n",
              "2        Augusta, GA: Augusta Regional at Bush Field           95         10   \n",
              "3                   Albany, NY: Albany International           23          2   \n",
              "4  Atlanta, GA: Hartsfield-Jackson Atlanta Intern...         2111        256   \n",
              "\n",
              "   carrier_ct  weather_ct  nas_ct  security_ct  late_aircraft_ct  \\\n",
              "0           2           1       1            0                 1   \n",
              "1           4           0       1            0                 2   \n",
              "2           6           0       1            0                 3   \n",
              "3           1           0       0            0                 1   \n",
              "4          77           9      52            0               118   \n",
              "\n",
              "   arr_cancelled  arr_diverted  arr_delay  carrier_delay  weather_delay  \\\n",
              "0              0             0        672             61            574   \n",
              "1              0             0        348            252              0   \n",
              "2              0             0        859            536              0   \n",
              "3              1             0         75              9              0   \n",
              "4              1             0      21424           8906            732   \n",
              "\n",
              "   nas_delay  security_delay  late_aircraft_delay flight_date  arr_on_time  \n",
              "0         20               0                   17  2023-12-01           67  \n",
              "1         33               0                   63  2023-12-01           55  \n",
              "2         47               0                  276  2023-12-01           85  \n",
              "3          0               0                   66  2023-12-01           20  \n",
              "4       1487               0                10299  2023-12-01         1854  "
            ]
          },
          "execution_count": 17,
          "metadata": {},
          "output_type": "execute_result"
        }
      ],
      "source": [
        "df.delay.head()"
      ]
    },
    {
      "cell_type": "markdown",
      "metadata": {
        "id": "kOua6lU7aqGM"
      },
      "source": [
        "# Crash Data cleaning"
      ]
    },
    {
      "cell_type": "code",
      "execution_count": null,
      "metadata": {
        "id": "EKTM-iizbjuQ"
      },
      "outputs": [],
      "source": [
        "df.crash['EventDate'] = pd.to_datetime(df.crash['EventDate'])"
      ]
    },
    {
      "cell_type": "code",
      "execution_count": null,
      "metadata": {
        "colab": {
          "base_uri": "https://localhost:8080/"
        },
        "id": "1y8XqC4q1_g8",
        "outputId": "2a6ea059-2dea-4497-ae03-392a1297dfce"
      },
      "outputs": [],
      "source": [
        "df.crash.isna().sum()"
      ]
    },
    {
      "cell_type": "code",
      "execution_count": null,
      "metadata": {
        "colab": {
          "base_uri": "https://localhost:8080/"
        },
        "id": "CUcGJg3SoOR7",
        "outputId": "3ffaecdd-ac81-4c14-c7e7-08c4e964c1ad"
      },
      "outputs": [],
      "source": [
        "df.crash.columns"
      ]
    },
    {
      "cell_type": "code",
      "execution_count": null,
      "metadata": {
        "id": "qTJehXK-wXib"
      },
      "outputs": [],
      "source": [
        "#feature selection: dropping irrelevant columns\n",
        "df.crash.drop(['NtsbNo', 'Mkey', 'ReportNo', 'N#', 'SerialNumber', 'Mode', 'ReportType', 'DocketOriginalPublishedDate', 'FAR', 'ReportStatus', 'RepGenFlag', 'MostRecentReportType', 'ReportUrl'], axis=1, inplace=True, errors='ignore')"
      ]
    },
    {
      "cell_type": "code",
      "execution_count": null,
      "metadata": {
        "id": "5miH0PGTUJIq"
      },
      "outputs": [],
      "source": []
    },
    {
      "cell_type": "code",
      "execution_count": null,
      "metadata": {
        "id": "oL6qS8FQGJHo"
      },
      "outputs": [],
      "source": [
        "#formatting date and time\n",
        "df.crash['EventDate']= pd.to_datetime(df.crash['EventDate'])"
      ]
    },
    {
      "cell_type": "code",
      "execution_count": null,
      "metadata": {
        "id": "tkvPxSSFrbkg"
      },
      "outputs": [],
      "source": [
        "#creating date and time columns\n",
        "df.crash['Date'] = df.crash['EventDate'].dt.date\n",
        "df.crash['Time'] = df.crash['EventDate'].dt.time"
      ]
    },
    {
      "cell_type": "code",
      "execution_count": null,
      "metadata": {
        "id": "cbhglPU3rmqL"
      },
      "outputs": [],
      "source": [
        "df.crash['OriginalPublishedDate'] = pd.to_datetime(df.crash['OriginalPublishedDate'], errors='coerce')  # use errors='coerce' to handle invalid dates"
      ]
    },
    {
      "cell_type": "code",
      "execution_count": null,
      "metadata": {
        "collapsed": true,
        "id": "PbfXXGumwCvV"
      },
      "outputs": [],
      "source": [
        "#Drop duplicates\n",
        "df.crash.drop_duplicates(inplace=True)"
      ]
    },
    {
      "cell_type": "code",
      "execution_count": null,
      "metadata": {
        "id": "iyaAF3m_wNLC"
      },
      "outputs": [],
      "source": [
        "df.crash['State'].fillna('Unknown', inplace=True)"
      ]
    },
    {
      "cell_type": "code",
      "execution_count": null,
      "metadata": {
        "id": "RgT8dHEawZQ-"
      },
      "outputs": [],
      "source": [
        "#Convert to categorical\n",
        "df.crash['EventType'] = df.crash['EventType'].astype('category')\n",
        "df.crash['Country'] = df.crash['Country'].astype('category')\n",
        "df.crash['State'] = df.crash['State'].astype('category')"
      ]
    },
    {
      "cell_type": "code",
      "execution_count": null,
      "metadata": {
        "id": "BkC06zxtwdkk"
      },
      "outputs": [],
      "source": [
        "# Standardizing Text Data\n",
        "# Converting text data to lowercase\n",
        "df.crash['City'] = df.crash['City'].str.lower()\n",
        "df.crash['State'] = df.crash['State'].str.lower()\n",
        "df.crash['Country'] = df.crash['Country'].str.lower()"
      ]
    },
    {
      "cell_type": "code",
      "execution_count": null,
      "metadata": {
        "colab": {
          "base_uri": "https://localhost:8080/"
        },
        "id": "h-cGOjxhN_GM",
        "outputId": "be8cd682-98f8-45a5-9a7f-d8f118e7f244"
      },
      "outputs": [],
      "source": [
        "df.crash.isna().sum()"
      ]
    },
    {
      "cell_type": "code",
      "execution_count": null,
      "metadata": {
        "colab": {
          "base_uri": "https://localhost:8080/"
        },
        "id": "PN6iSx8TA6wy",
        "outputId": "8dff7375-7309-4837-cac6-53b47b17347c"
      },
      "outputs": [],
      "source": [
        "df.crash.shape"
      ]
    },
    {
      "cell_type": "code",
      "execution_count": null,
      "metadata": {
        "colab": {
          "base_uri": "https://localhost:8080/"
        },
        "id": "DvvKSbszUmfw",
        "outputId": "6f2c4525-23fd-420c-c905-2a8354a1cf04"
      },
      "outputs": [],
      "source": [
        "df.crash.EventID"
      ]
    },
    {
      "cell_type": "code",
      "execution_count": null,
      "metadata": {
        "colab": {
          "base_uri": "https://localhost:8080/",
          "height": 434
        },
        "id": "uhBwBoXIV1kB",
        "outputId": "9e8aaabe-acac-4913-ccbb-9ff8a02e8074"
      },
      "outputs": [],
      "source": [
        "df.crash.head()"
      ]
    },
    {
      "cell_type": "code",
      "execution_count": null,
      "metadata": {
        "colab": {
          "base_uri": "https://localhost:8080/"
        },
        "id": "CNNzvbzHWfja",
        "outputId": "c3758943-4395-4ca9-d534-9e38ad80a13a"
      },
      "outputs": [],
      "source": [
        "df.crash.info()\n"
      ]
    },
    {
      "cell_type": "markdown",
      "metadata": {
        "id": "s5EwS5wW2gaD"
      },
      "source": [
        "## Delay Visualizations"
      ]
    },
    {
      "cell_type": "code",
      "execution_count": null,
      "metadata": {
        "id": "b4a0I5Gy2iDX"
      },
      "outputs": [],
      "source": [
        "import plotly.express as px\n",
        "import matplotlib.pyplot as plt\n",
        "import seaborn as sns"
      ]
    },
    {
      "cell_type": "code",
      "execution_count": null,
      "metadata": {
        "id": "IB2IjjfU4kzr"
      },
      "outputs": [],
      "source": []
    }
  ],
  "metadata": {
    "colab": {
      "provenance": []
    },
    "kernelspec": {
      "display_name": "Python 3",
      "name": "python3"
    },
    "language_info": {
      "codemirror_mode": {
        "name": "ipython",
        "version": 3
      },
      "file_extension": ".py",
      "mimetype": "text/x-python",
      "name": "python",
      "nbconvert_exporter": "python",
      "pygments_lexer": "ipython3",
      "version": "3.11.7"
    }
  },
  "nbformat": 4,
  "nbformat_minor": 0
}
