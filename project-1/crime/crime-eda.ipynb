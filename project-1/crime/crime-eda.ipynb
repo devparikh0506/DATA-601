{
 "cells": [
  {
   "cell_type": "markdown",
   "id": "051b79d9",
   "metadata": {},
   "source": [
    "# Exploratory data analysis of Los Angeles Police Department crime data"
   ]
  },
  {
   "cell_type": "markdown",
   "id": "3cd584b6",
   "metadata": {},
   "source": [
    "## Importing libraries"
   ]
  },
  {
   "cell_type": "code",
   "execution_count": null,
   "id": "62f87304",
   "metadata": {},
   "outputs": [],
   "source": [
    "import pandas as pd\n",
    "import plotly.express as px "
   ]
  },
  {
   "cell_type": "markdown",
   "id": "7fa8a226",
   "metadata": {},
   "source": [
    "#### Configuring pandas options"
   ]
  },
  {
   "cell_type": "code",
   "execution_count": null,
   "id": "37ea226f",
   "metadata": {},
   "outputs": [],
   "source": [
    "pd.options.display.float_format = '{:.6f}'.format #https://medium.com/@anala007/float-display-in-pandas-no-more-scientific-notation-80e3dd28eabe\n",
    "pd.set_option(\"display.max_columns\", 30)\n",
    "pd.set_option(\"display.max_rows\", 500)"
   ]
  },
  {
   "cell_type": "markdown",
   "id": "9306dd98",
   "metadata": {},
   "source": [
    "#### Loading Csv files"
   ]
  },
  {
   "cell_type": "code",
   "execution_count": null,
   "id": "a31df80d",
   "metadata": {},
   "outputs": [],
   "source": [
    "df1 = pd.read_csv('Crime_Data_from_2010_to_2019_20240229.csv')\n",
    "df2 = pd.read_csv('Crime_Data_from_2020_to_Present_20240229.csv')"
   ]
  },
  {
   "cell_type": "markdown",
   "id": "bd7b589c",
   "metadata": {},
   "source": [
    "### Merging both datasets"
   ]
  },
  {
   "cell_type": "code",
   "execution_count": null,
   "id": "6f55c0e5",
   "metadata": {},
   "outputs": [],
   "source": [
    "df1.shape"
   ]
  },
  {
   "cell_type": "code",
   "execution_count": null,
   "id": "c5277d4b",
   "metadata": {},
   "outputs": [],
   "source": [
    "df2.shape"
   ]
  },
  {
   "cell_type": "code",
   "execution_count": null,
   "id": "8462456f",
   "metadata": {},
   "outputs": [],
   "source": [
    "df = pd.concat([df1, df2])\n",
    "df.shape"
   ]
  },
  {
   "cell_type": "markdown",
   "id": "f815e797",
   "metadata": {},
   "source": [
    "#### Now checking columns in both datasets"
   ]
  },
  {
   "cell_type": "code",
   "execution_count": null,
   "id": "89aec7b9",
   "metadata": {},
   "outputs": [],
   "source": [
    "df.columns"
   ]
  },
  {
   "cell_type": "code",
   "execution_count": null,
   "id": "f4c21c72",
   "metadata": {},
   "outputs": [],
   "source": [
    "df1.columns"
   ]
  },
  {
   "cell_type": "markdown",
   "id": "9829cffd",
   "metadata": {},
   "source": [
    "#### Renaming `AREA ` to `AREA`"
   ]
  },
  {
   "cell_type": "code",
   "execution_count": null,
   "id": "c05a4b17",
   "metadata": {},
   "outputs": [],
   "source": [
    "df1.rename(columns={ \"AREA \" :\"AREA\"}, inplace=True)\n",
    "df1.columns"
   ]
  },
  {
   "cell_type": "markdown",
   "id": "56cb57d4",
   "metadata": {},
   "source": [
    "#### Concating both datasets"
   ]
  },
  {
   "cell_type": "code",
   "execution_count": null,
   "id": "39604196",
   "metadata": {},
   "outputs": [],
   "source": [
    "df = pd.concat([df1, df2])\n",
    "df.shape"
   ]
  },
  {
   "cell_type": "code",
   "execution_count": null,
   "id": "ac9d76ee",
   "metadata": {},
   "outputs": [],
   "source": [
    "df.head()"
   ]
  },
  {
   "cell_type": "markdown",
   "id": "577c7d10",
   "metadata": {},
   "source": [
    "#### Dropping duplicate rows"
   ]
  },
  {
   "cell_type": "code",
   "execution_count": null,
   "id": "254219d4",
   "metadata": {},
   "outputs": [],
   "source": [
    "df.drop_duplicates(keep=False,inplace=True)"
   ]
  },
  {
   "cell_type": "markdown",
   "id": "3d4f1eb1",
   "metadata": {},
   "source": [
    "### Finding rows containing null values"
   ]
  },
  {
   "cell_type": "code",
   "execution_count": null,
   "id": "2a62e3da",
   "metadata": {},
   "outputs": [],
   "source": [
    "df.isnull().sum()"
   ]
  },
  {
   "cell_type": "markdown",
   "id": "c98a142d",
   "metadata": {},
   "source": [
    "Converting values to percentage values."
   ]
  },
  {
   "cell_type": "code",
   "execution_count": null,
   "id": "aac8a743",
   "metadata": {},
   "outputs": [],
   "source": [
    "(df.isnull().sum()).sort_values(ascending=False)/df.shape[0] * 100"
   ]
  },
  {
   "cell_type": "markdown",
   "id": "9af2e61a",
   "metadata": {},
   "source": [
    "#### Dropping rows that are having null values in one of these columns : `Mocodes`, `Status`, `Crm Cd 1`, `Premis Cd`"
   ]
  },
  {
   "cell_type": "code",
   "execution_count": null,
   "id": "96ee698c",
   "metadata": {},
   "outputs": [],
   "source": [
    "df.dropna(subset=['Premis Cd', 'Mocodes', 'Status', 'Crm Cd 1', 'Premis Cd'], inplace=True)"
   ]
  },
  {
   "cell_type": "markdown",
   "id": "49f315eb",
   "metadata": {},
   "source": [
    "Let's check null values again"
   ]
  },
  {
   "cell_type": "code",
   "execution_count": null,
   "id": "7351cc9a",
   "metadata": {
    "scrolled": true
   },
   "outputs": [],
   "source": [
    "(df.isnull().sum()).sort_values(ascending=False)/df.shape[0] * 100"
   ]
  },
  {
   "cell_type": "markdown",
   "id": "4176561e",
   "metadata": {},
   "source": [
    "### Now filling null values for remaining columns "
   ]
  },
  {
   "cell_type": "code",
   "execution_count": null,
   "id": "5ebf0592",
   "metadata": {},
   "outputs": [],
   "source": [
    "values = { \n",
    "    \"Crm Cd 4\" : \"N/A\",\n",
    "    \"Crm Cd 3\" : \"N/A\",\n",
    "    \"Crm Cd 2\" : \"N/A\",\n",
    "    \"Cross Street\" : \"N/A\",\n",
    "    \"Weapon Desc\" : \"UNKNOWN\",\n",
    "    \"Weapon Used Cd\" : 0,\n",
    "    \"Premis Desc\" : \"N/A\",\n",
    "    \"Vict Descent\":\"X\",\n",
    "    \"Vict Sex\" : \"X\"\n",
    "}\n",
    "df.fillna(value=values, inplace=True)\n",
    "(df.isnull().sum()).sort_values(ascending=False)/df.shape[0] * 100"
   ]
  },
  {
   "cell_type": "markdown",
   "id": "db39ddb1",
   "metadata": {},
   "source": [
    "Let's check unique values of victim's gender"
   ]
  },
  {
   "cell_type": "code",
   "execution_count": null,
   "id": "8de3d1b6",
   "metadata": {},
   "outputs": [],
   "source": [
    "df[\"Vict Sex\"].unique()"
   ]
  },
  {
   "cell_type": "markdown",
   "id": "10816ff1",
   "metadata": {},
   "source": [
    "It's better to replace `-` with `X`"
   ]
  },
  {
   "cell_type": "code",
   "execution_count": null,
   "id": "1698e329",
   "metadata": {},
   "outputs": [],
   "source": [
    "df['Vict Sex'].replace(['-'], \"X\", inplace=True)\n",
    "df[\"Vict Sex\"].unique()"
   ]
  },
  {
   "cell_type": "markdown",
   "id": "1d85ea7c",
   "metadata": {},
   "source": [
    "Let's check vicitim descent"
   ]
  },
  {
   "cell_type": "code",
   "execution_count": null,
   "id": "8ff0956e",
   "metadata": {},
   "outputs": [],
   "source": [
    "df['Vict Descent'].unique()"
   ]
  },
  {
   "cell_type": "markdown",
   "id": "0f3c2645",
   "metadata": {},
   "source": [
    "Replacing `-` with word `Unknwon`"
   ]
  },
  {
   "cell_type": "code",
   "execution_count": null,
   "id": "b239d784",
   "metadata": {},
   "outputs": [],
   "source": [
    "df['Vict Descent'].replace('-','Unknown', inplace=True)\n",
    "df['Vict Descent'].unique()"
   ]
  },
  {
   "cell_type": "markdown",
   "id": "ab1234f2",
   "metadata": {},
   "source": [
    "Now converting codes to meaningful names"
   ]
  },
  {
   "cell_type": "code",
   "execution_count": null,
   "id": "4ca52ce2",
   "metadata": {},
   "outputs": [],
   "source": [
    "def populate_vict_desc(df):\n",
    "    mapping={ \n",
    "        \"A\": \"Other Asian\",\n",
    "        \"B\" : \"Black\",\n",
    "        \"C\":\"Chinese\",\n",
    "        \"D\" : \"Cambodian\",\n",
    "        \"F\" : \"Filipino\",\n",
    "        \"G\" : \"Guamanian\",\n",
    "        \"H\" : \"Hispanic/Latin/Mexican\",\n",
    "        \"I\" : \"American Indian/Alaskan Native\",\n",
    "        \"J\" : \"Japanese\",\n",
    "        \"K\" : \"Korean\",\n",
    "        \"L\" : \"Laotian\",\n",
    "        \"O\" : \"Other\",\n",
    "        \"P\" : \"Pacific Islander\",\n",
    "        \"S\" : \"Samoan\",\n",
    "        \"U\" : \"Hawaiian\",\n",
    "        \"V\" : \"Vietnamese\",\n",
    "        \"W\" : \"White\",\n",
    "        \"X\" : \"Unknown\",\n",
    "        \"Z\" : \"Asian Indian\"\n",
    "    }\n",
    "    for i in mapping:\n",
    "        df.loc[df[\"Vict Descent\"]==i, \"Vict Descent\"]=mapping[i]\n",
    "    return df\n",
    "populate_vict_desc(df).head()"
   ]
  },
  {
   "cell_type": "markdown",
   "id": "79ac595d",
   "metadata": {},
   "source": [
    "Now dropping columns that are not required for EDA."
   ]
  },
  {
   "cell_type": "code",
   "execution_count": null,
   "id": "a6c0f310",
   "metadata": {},
   "outputs": [],
   "source": [
    "df.drop(columns=['DR_NO','Part 1-2', 'Mocodes','Status', 'Crm Cd 1','Crm Cd 2','Crm Cd 3', 'Crm Cd 4', 'Cross Street'],inplace=True)"
   ]
  },
  {
   "cell_type": "markdown",
   "id": "1c83b9b1",
   "metadata": {},
   "source": [
    "Generating new columns that can be useful for future EDA"
   ]
  },
  {
   "cell_type": "code",
   "execution_count": null,
   "id": "925f32f6",
   "metadata": {},
   "outputs": [],
   "source": [
    "df[\"DATETIME OCC\"] = pd.to_datetime(df[\"DATE OCC\"], format=\"%m/%d/%Y %I:%M:%S %p\")\n",
    "df[\"DATETIME Rptd\"] = pd.to_datetime(df[\"Date Rptd\"], format=\"%m/%d/%Y %I:%M:%S %p\")\n",
    "df[\"DAY OCC\"] = df[\"DATETIME OCC\"].dt.day_name()\n",
    "df[\"MONTH OCC\"] = df[\"DATETIME OCC\"].dt.month_name()\n",
    "df[\"YEAR OCC\"] = df[\"DATETIME OCC\"].dt.year\n",
    "df['TIME OCC'] = df['TIME OCC'].astype(str).str.zfill(4)\n",
    "df['HOUR OCC'] = df['TIME OCC'].apply(lambda t: int(t[:2]))\n",
    "df.head()\n"
   ]
  },
  {
   "cell_type": "markdown",
   "id": "8039aca8",
   "metadata": {},
   "source": [
    "Taking a copy of df"
   ]
  },
  {
   "cell_type": "code",
   "execution_count": null,
   "id": "88f91747",
   "metadata": {},
   "outputs": [],
   "source": [
    "df_copy = df # Taking copy of clean dataframe"
   ]
  },
  {
   "cell_type": "markdown",
   "id": "6f865ff0",
   "metadata": {},
   "source": [
    "Let's check dataframe's information"
   ]
  },
  {
   "cell_type": "code",
   "execution_count": null,
   "id": "fc0cf0f1",
   "metadata": {},
   "outputs": [],
   "source": [
    "df.info()"
   ]
  },
  {
   "cell_type": "markdown",
   "id": "0b15f912",
   "metadata": {},
   "source": [
    "Let's check data statistics"
   ]
  },
  {
   "cell_type": "code",
   "execution_count": null,
   "id": "63a2fd06",
   "metadata": {},
   "outputs": [],
   "source": [
    "df.describe()"
   ]
  },
  {
   "cell_type": "markdown",
   "id": "1d421c9f",
   "metadata": {},
   "source": [
    "Dropping values with negative age values"
   ]
  },
  {
   "cell_type": "code",
   "execution_count": null,
   "id": "7d7c7f08",
   "metadata": {},
   "outputs": [],
   "source": [
    "df.drop(df[df[\"Vict Age\"] < 0].index, inplace=True)"
   ]
  },
  {
   "cell_type": "code",
   "execution_count": null,
   "id": "5e7a938b",
   "metadata": {
    "scrolled": true
   },
   "outputs": [],
   "source": [
    "df.describe()"
   ]
  },
  {
   "cell_type": "markdown",
   "id": "50bafc52",
   "metadata": {},
   "source": [
    "### Victim information analysis"
   ]
  },
  {
   "cell_type": "markdown",
   "id": "24ee7958",
   "metadata": {},
   "source": [
    "Let's analyze cases by victim's gender, age and descent."
   ]
  },
  {
   "cell_type": "code",
   "execution_count": null,
   "id": "135e2a03",
   "metadata": {},
   "outputs": [],
   "source": [
    "victims_by_gender = df.groupby([\"Vict Sex\"]).size().reset_index(name=\"Incidents\")\n",
    "fig=px.pie(victims_by_gender, values='Incidents', names=\"Vict Sex\", title=\"Incidents by victims gender\")\n",
    "fig.update_traces(textinfo='percent+label')\n",
    "fig.show()"
   ]
  },
  {
   "cell_type": "markdown",
   "id": "c18da857",
   "metadata": {},
   "source": [
    "Now let's visulize victims's age and gender"
   ]
  },
  {
   "cell_type": "code",
   "execution_count": null,
   "id": "dda3ad4a",
   "metadata": {},
   "outputs": [],
   "source": [
    "age_group_data = df.copy()\n",
    "age_group_data=age_group_data.groupby(['Vict Age', 'Vict Sex']).size().reset_index(name='Incidents')\n",
    "age_color_scheme = {\"X\" : \"black\", \"M\" : \"blue\", \"F\" : \"pink\", \"H\" : \"red\", \"N\" : \"green\"}\n",
    "px.histogram(age_group_data, x=\"Vict Age\", y=\"Incidents\", color=\"Vict Sex\", text_auto=True, color_discrete_map=age_color_scheme)"
   ]
  },
  {
   "cell_type": "markdown",
   "id": "d4bbe412",
   "metadata": {},
   "source": [
    "Let's visualize victim's descent"
   ]
  },
  {
   "cell_type": "code",
   "execution_count": null,
   "id": "e8ccdac6",
   "metadata": {},
   "outputs": [],
   "source": [
    "fig1=px.histogram(df, x='Vict Descent')\n",
    "fig1.update_layout(yaxis_title=\"Incidents\")\n",
    "fig1.update_traces( hovertemplate=None)\n",
    "fig1.add_pie()\n",
    "vict_descent_data=df.groupby(['Vict Descent']).size().sort_values(ascending=False).reset_index(name=\"Incidents\")\n",
    "fig2 = px.pie(vict_descent_data, values=\"Incidents\", names=\"Vict Descent\", title=\"Victim Descent By %\")\n",
    "fig1.show()\n",
    "fig2.show()"
   ]
  },
  {
   "cell_type": "markdown",
   "id": "1d595cdc",
   "metadata": {},
   "source": [
    "Now let's check victim descent wise age."
   ]
  },
  {
   "cell_type": "code",
   "execution_count": null,
   "id": "85830701",
   "metadata": {},
   "outputs": [],
   "source": [
    "for i in df['Vict Descent'].unique():\n",
    "    victim_data = df[df['Vict Descent']==i].groupby([\"Vict Age\", \"Vict Sex\"]).size().reset_index(name=\"Incidents\")\n",
    "    victim_data['Incidents Percentage']=(victim_data['Incidents'] / victim_data['Incidents'].sum()) * 100\n",
    "    fig = px.histogram(victim_data, x=\"Vict Age\", y=\"Incidents Percentage\", color=\"Vict Sex\", barmode=\"group\", title=i, color_discrete_map=age_color_scheme, hover_data=[\"Incidents\"])\n",
    "    fig.show()"
   ]
  },
  {
   "cell_type": "markdown",
   "id": "0aa7f50a",
   "metadata": {},
   "source": [
    "### Crime Area Information"
   ]
  },
  {
   "cell_type": "markdown",
   "id": "d3693738",
   "metadata": {},
   "source": [
    "Visulizing crime areas with vict descent."
   ]
  },
  {
   "cell_type": "code",
   "execution_count": null,
   "id": "35bd9694",
   "metadata": {},
   "outputs": [],
   "source": [
    "px.histogram(df, x=\"AREA NAME\", color=\"Vict Descent\",text_auto=True).update_xaxes(categoryorder=\"total descending\") #https://community.plotly.com/t/plotly-express-histogram-any-way-to-sort-bar-by-value/23905/4"
   ]
  },
  {
   "cell_type": "markdown",
   "id": "2ccd8511",
   "metadata": {},
   "source": [
    "From above graph we can observere that most crimes occurred in `77th street` and `Hollenbeck` had lowest crime rates.\n",
    "\n",
    "Also `Hispanic/Latin/Mexican`, `White` and `Black` people got affected most by crimes in almost all areas."
   ]
  },
  {
   "cell_type": "markdown",
   "id": "bb3dec6b",
   "metadata": {},
   "source": [
    "#### Now visualizing areas by victims gender"
   ]
  },
  {
   "cell_type": "code",
   "execution_count": null,
   "id": "0a79d93e",
   "metadata": {},
   "outputs": [],
   "source": [
    "px.histogram(df, x=\"AREA NAME\", color=\"Vict Sex\", color_discrete_map=age_color_scheme, text_auto=True).update_xaxes(categoryorder=\"total descending\") #https://community.plotly.com/t/plotly-express-histogram-any-way-to-sort-bar-by-value/23905/4"
   ]
  },
  {
   "cell_type": "markdown",
   "id": "c1f01ae3",
   "metadata": {},
   "source": [
    "From above data we can observe that in most areas majority of victims are male, only for `77th street`, `Southwest` and `Southeast`number female victims are greater than males. "
   ]
  },
  {
   "cell_type": "markdown",
   "id": "6f5b424d",
   "metadata": {},
   "source": [
    "#### Now let's take a look at premis information"
   ]
  },
  {
   "cell_type": "code",
   "execution_count": null,
   "id": "767f403d",
   "metadata": {},
   "outputs": [],
   "source": [
    "premis_wise_crimes = df.groupby([\"Premis Desc\"]).size().reset_index(name=\"Cases\")\n",
    "fig=px.pie(premis_wise_crimes, values=\"Cases\", names=\"Premis Desc\")\n",
    "fig.update_traces(textposition='inside', textinfo='percent+label')\n",
    "fig.show()"
   ]
  },
  {
   "cell_type": "markdown",
   "id": "0defe3d1",
   "metadata": {},
   "source": [
    "#### Visualizing premis information area wise"
   ]
  },
  {
   "cell_type": "code",
   "execution_count": null,
   "id": "fa3ec59c",
   "metadata": {},
   "outputs": [],
   "source": [
    "area_wise_data = df.groupby(['AREA NAME', 'Premis Desc']).size().reset_index(name=\"Cases\")\n",
    "for area in area_wise_data[\"AREA NAME\"].unique():\n",
    "    fig = px.bar(area_wise_data[area_wise_data[\"AREA NAME\"] == area], x=\"Premis Desc\", y=\"Cases\", text_auto=True).update_xaxes(title=\"Type of Crimes\",categoryorder=\"total descending\", range=(0,10)).update_yaxes(title=\"Cases\")\n",
    "    fig.update_layout(title=\"Crimes in \" + area)\n",
    "    fig.show()\n",
    "# px.histogram(area_wise_data, x=\"AREA NAME\", color=\"Premis Desc\", text_auto=True).update_xaxes(categoryorder=\"total descending\") #https://community.plotly.com/t/plotly-express-histogram-any-way-to-sort-bar-by-value/23905/4"
   ]
  },
  {
   "cell_type": "markdown",
   "id": "ee28c59a",
   "metadata": {},
   "source": [
    "### Visualizing type of crime"
   ]
  },
  {
   "cell_type": "code",
   "execution_count": null,
   "id": "7a6b9d25",
   "metadata": {},
   "outputs": [],
   "source": [
    "cases_by_type = df.groupby([\"Crm Cd Desc\", \"Vict Sex\", \"Vict Descent\", \"AREA NAME\"]).size().reset_index(name=\"Cases\")\n",
    "fig=px.pie(cases_by_type, values=\"Cases\", names=\"Crm Cd Desc\", height=800)\n",
    "fig.update_traces(textposition='inside', textinfo='percent+label+value')"
   ]
  },
  {
   "cell_type": "code",
   "execution_count": null,
   "id": "ff7ddd1f",
   "metadata": {},
   "outputs": [],
   "source": [
    "for area in df[\"AREA NAME\"].unique():\n",
    "    fig = px.histogram(df[df[\"AREA NAME\"]==area], x=\"Crm Cd Desc\", title=\"Crimes in %s\"%area, text_auto=True).update_xaxes(title=\"Crimes\",categoryorder=\"total descending\", range=(0,10)).update_yaxes(title=\"Cases\")\n",
    "    fig.show()"
   ]
  },
  {
   "cell_type": "markdown",
   "id": "4c87e09a",
   "metadata": {},
   "source": [
    "Let's check crimes based on premis and crime type"
   ]
  },
  {
   "cell_type": "code",
   "execution_count": null,
   "id": "505b8ee8",
   "metadata": {},
   "outputs": [],
   "source": [
    "premis_wise_crimes = df.groupby([\"Premis Desc\", \"Crm Cd Desc\"]).size().reset_index(name=\"Cases\")\n",
    "premis_wise_crimes = premis_wise_crimes[premis_wise_crimes[\"Cases\"] > 10000] # Taking only rows which crime incidents are greater than 10000\n",
    "# px.histogram(df, X=\"Premise Desc\")\n",
    "premis_wise_crimes_pivot = premis_wise_crimes.pivot(index=\"Premis Desc\", columns=\"Crm Cd Desc\", values=\"Cases\")\n",
    "premis_wise_crimes_pivot.head()"
   ]
  },
  {
   "cell_type": "markdown",
   "id": "428839e5",
   "metadata": {},
   "source": [
    "Replacing null values with 0"
   ]
  },
  {
   "cell_type": "code",
   "execution_count": null,
   "id": "3c9d5cd8",
   "metadata": {},
   "outputs": [],
   "source": [
    "premis_wise_crimes_pivot.fillna(value=0, inplace=True)\n",
    "premis_wise_crimes_pivot.head()"
   ]
  },
  {
   "cell_type": "markdown",
   "id": "9b479526",
   "metadata": {},
   "source": [
    "Plotting heatmap to visualize the data"
   ]
  },
  {
   "cell_type": "code",
   "execution_count": null,
   "id": "43a16db5",
   "metadata": {},
   "outputs": [],
   "source": [
    "fig = px.imshow(premis_wise_crimes_pivot,\n",
    "                labels=dict(x=\"Type of crime\", y=\"Premis description\", color=\"Number of Crimes\"),\n",
    "                x=premis_wise_crimes_pivot.columns,\n",
    "                y=premis_wise_crimes_pivot.index\n",
    "                )\n",
    "\n",
    "fig.update_xaxes(side=\"top\")\n",
    "fig.update_layout(title=\"Premise wise Crime Types\",\n",
    "                  yaxis=dict(title=\"Type of crime\"),\n",
    "                  xaxis=dict(title=\"Premis description\"),\n",
    "                  height=800)\n",
    "fig.show()"
   ]
  },
  {
   "cell_type": "code",
   "execution_count": null,
   "id": "e9c2c6e1",
   "metadata": {},
   "outputs": [],
   "source": [
    "\n",
    "crime_by_area_and_day = df.groupby(['DAY OCC', \"AREA NAME\"]).size().reset_index(name=\"Cases\")\n",
    "crime_pivot = crime_by_area_and_day.pivot(index='AREA NAME', columns='DAY OCC', values='Cases')\n",
    "\n",
    "fig = px.imshow(crime_pivot,\n",
    "                labels=dict(x=\"Hour of the Day\", y=\"Day of the Week\", color=\"Number of Crimes\"),\n",
    "                x=crime_pivot.columns,\n",
    "                y=crime_pivot.index,\n",
    "                color_continuous_scale=\"viridis\")\n",
    "\n",
    "fig.update_xaxes(side=\"top\")\n",
    "fig.update_layout(title=\"Crime Occurrences by Day and Time\",\n",
    "                  xaxis=dict(title=\"Hour of the Day\"),\n",
    "                  yaxis=dict(title=\"Day of the Week\"),\n",
    "                  height=800)"
   ]
  },
  {
   "cell_type": "markdown",
   "id": "ab757202",
   "metadata": {},
   "source": [
    "#### Let's check time of crimes"
   ]
  },
  {
   "cell_type": "code",
   "execution_count": null,
   "id": "81d1a0f8",
   "metadata": {},
   "outputs": [],
   "source": [
    "year_wise_crime = df[\"YEAR OCC\"].value_counts().reset_index(name=\"Cases\").sort_values(\"YEAR OCC\")\n",
    "px.line(year_wise_crime, x=\"YEAR OCC\", y=\"Cases\",  markers=True)"
   ]
  },
  {
   "cell_type": "code",
   "execution_count": null,
   "id": "56765ee1",
   "metadata": {},
   "outputs": [],
   "source": [
    "year_wise_crime = df.groupby([\"YEAR OCC\", \"AREA NAME\"]).size().reset_index(name=\"Cases\").sort_values(\"YEAR OCC\")\n",
    "px.line(year_wise_crime, x=\"YEAR OCC\", y=\"Cases\",  markers=True, color=\"AREA NAME\")"
   ]
  },
  {
   "cell_type": "markdown",
   "id": "6875ebd6",
   "metadata": {},
   "source": [
    "##### Now check which days had more crime incidents"
   ]
  },
  {
   "cell_type": "code",
   "execution_count": null,
   "id": "f4243756",
   "metadata": {},
   "outputs": [],
   "source": [
    "def sort_by_dayname(df, col=\"DAY OCC\") : \n",
    "    day_name_to_number = {\n",
    "    'Monday': 0,\n",
    "    'Tuesday': 1,\n",
    "    'Wednesday': 2,\n",
    "    'Thursday': 3,\n",
    "    'Friday': 4,\n",
    "    'Saturday': 5,\n",
    "    'Sunday': 6\n",
    "}\n",
    "    df[col + \"NUMBER\"] = df[col].apply(lambda x : day_name_to_number[x])\n",
    "    df.sort_values(by=col+\"NUMBER\", inplace=True)\n",
    "    df.drop(columns=[col+'NUMBER'], inplace=True)\n",
    "    return df"
   ]
  },
  {
   "cell_type": "code",
   "execution_count": null,
   "id": "e487bb62",
   "metadata": {},
   "outputs": [],
   "source": [
    "\n",
    "crime_by_day = df.groupby(['DAY OCC']).size().reset_index(name=\"Cases\")\n",
    "px.line(sort_by_dayname(crime_by_day), x=\"DAY OCC\", y=\"Cases\", markers=True)"
   ]
  },
  {
   "cell_type": "code",
   "execution_count": null,
   "id": "23593090",
   "metadata": {},
   "outputs": [],
   "source": [
    "crime_by_day = df.groupby(['DAY OCC', \"HOUR OCC\"]).size().reset_index(name=\"Cases\")\n",
    "# Pivot the DataFrame for visualization\n",
    "crime_pivot = crime_by_day.pivot(index='DAY OCC', columns='HOUR OCC', values='Cases')\n",
    "\n",
    "# Create heatmap using Plotly\n",
    "fig = px.imshow(crime_pivot,\n",
    "                labels=dict(x=\"Hour of the Day\", y=\"Day of the Week\", color=\"Number of Crimes\"),\n",
    "                x=crime_pivot.columns,\n",
    "                y=crime_pivot.index,\n",
    "                color_continuous_scale=\"viridis\")\n",
    "\n",
    "# Customize layout\n",
    "fig.update_layout(title=\"Crime Occurrences by Day and Time\",\n",
    "                  xaxis=dict(title=\"Hour of the Day\"),\n",
    "                  yaxis=dict(title=\"Day of the Week\"))"
   ]
  },
  {
   "cell_type": "markdown",
   "id": "2a521af5",
   "metadata": {},
   "source": [
    "Let's check month wise crimes"
   ]
  },
  {
   "cell_type": "code",
   "execution_count": null,
   "id": "35e9ca7c",
   "metadata": {},
   "outputs": [],
   "source": [
    "year_month_wise_crime = df.groupby([\"YEAR OCC\", \"MONTH OCC\"]).size().reset_index(name=\"Cases\").sort_values(\"YEAR OCC\")\n",
    "px.histogram(year_month_wise_crime, x=\"MONTH OCC\", y=\"Cases\", text_auto=True).update_xaxes(title=\"Month\",categoryorder=\"total descending\").update_yaxes(title=\"Cases\")"
   ]
  },
  {
   "cell_type": "code",
   "execution_count": null,
   "id": "26f8feb0-944e-4f00-922c-63e764156ce7",
   "metadata": {},
   "outputs": [],
   "source": [
    "year_month_wise_crime.describe()"
   ]
  },
  {
   "cell_type": "code",
   "execution_count": null,
   "id": "439e27bf",
   "metadata": {},
   "outputs": [],
   "source": [
    "for year in year_month_wise_crime[\"YEAR OCC\"].unique() : \n",
    "    fig = px.histogram(year_month_wise_crime[year_month_wise_crime[\"YEAR OCC\"]==year], x=\"MONTH OCC\", y=\"Cases\", text_auto=True).update_xaxes(title=\"Month\", categoryorder=\"total descending\").update_yaxes(title=\"Crimes\")\n",
    "    fig.update_layout(title=\"Crimes in \" + str(year))\n",
    "    fig.show()"
   ]
  },
  {
   "cell_type": "markdown",
   "id": "a2a3f041-93d6-42f0-ad5a-ad1646003e1b",
   "metadata": {},
   "source": [
    "### Now checking status of these crimes"
   ]
  },
  {
   "cell_type": "code",
   "execution_count": null,
   "id": "78fcc4f0-fcdf-4bee-a934-04854e638698",
   "metadata": {},
   "outputs": [],
   "source": [
    "fig=px.pie(df, names=\"Status Desc\", height=800)\n",
    "fig.update_traces(textinfo='percent+label+value')\n",
    "fig.show()"
   ]
  },
  {
   "cell_type": "markdown",
   "id": "58172587-9839-4d78-9d32-1b5d1525f1c9",
   "metadata": {},
   "source": [
    "### Now checking weapon used in crimes"
   ]
  },
  {
   "cell_type": "code",
   "execution_count": null,
   "id": "ce9f3f99-3763-4520-a8ff-fe30ff404594",
   "metadata": {},
   "outputs": [],
   "source": [
    "fig=px.pie(df, names=\"Weapon Desc\", height=800)\n",
    "fig.update_traces(textposition='inside', textinfo='percent+label+value')\n",
    "fig.show()"
   ]
  },
  {
   "cell_type": "markdown",
   "id": "12ce485f-3ab5-4eac-8ca1-ea5c55fb95f2",
   "metadata": {},
   "source": [
    "Let's try removing unknown weapon"
   ]
  },
  {
   "cell_type": "code",
   "execution_count": null,
   "id": "0de567ef-1a7f-403f-a08f-77e3ef9ad6c6",
   "metadata": {},
   "outputs": [],
   "source": [
    "fig=px.pie(df[df[\"Weapon Desc\"]!= \"UNKNOWN\"], names=\"Weapon Desc\", height=800)\n",
    "fig.update_traces(textposition='inside', textinfo='percent+label+value')\n",
    "fig.show()"
   ]
  },
  {
   "cell_type": "markdown",
   "id": "356b0c32-c71d-4571-a166-d6ac68407d9e",
   "metadata": {},
   "source": [
    "### Let's visualize crimetype with weapon"
   ]
  },
  {
   "cell_type": "code",
   "execution_count": null,
   "id": "108cac30-6ab0-44a5-bcec-5b555cd9d7de",
   "metadata": {},
   "outputs": [],
   "source": [
    "crimes_weapons_data = df.groupby([\"Weapon Desc\", \"Crm Cd Desc\"]).size().reset_index(name=\"Cases\")\n",
    "crimes_weapons_data = crimes_weapons_data[crimes_weapons_data[\"Cases\"] > 5000] # Taking only rows which crime incidents are greater than 10000\n",
    "# # px.histogram(df, X=\"Premise Desc\")\n",
    "crimes_weapons_data_pivot = crimes_weapons_data.pivot(index=\"Weapon Desc\", columns=\"Crm Cd Desc\", values=\"Cases\")\n",
    "crimes_weapons_data_pivot.fillna(value=0, inplace=True)\n",
    "crimes_weapons_data_pivot.head()"
   ]
  },
  {
   "cell_type": "code",
   "execution_count": null,
   "id": "1d4aedcb-82cf-4fa2-8c7e-197ade26e7fb",
   "metadata": {},
   "outputs": [],
   "source": [
    "fig = px.imshow(crimes_weapons_data_pivot,\n",
    "                labels=dict(x=\"Weapon Used\", y=\"Type of crime\", color=\"Number of Crimes\"),\n",
    "                x=crimes_weapons_data_pivot.columns,\n",
    "                y=crimes_weapons_data_pivot.index\n",
    "                )\n",
    "\n",
    "fig.update_xaxes(side=\"top\")\n",
    "fig.update_layout(title= \"Crime Types vs Weapon Used\",\n",
    "                  yaxis=dict(title=\"Type of crime\"),\n",
    "                  xaxis=dict(title=\"Premis description\"),\n",
    "                  height=800)\n",
    "fig.show()"
   ]
  }
 ],
 "metadata": {
  "kernelspec": {
   "display_name": "Python 3 (ipykernel)",
   "language": "python",
   "name": "python3"
  },
  "language_info": {
   "codemirror_mode": {
    "name": "ipython",
    "version": 3
   },
   "file_extension": ".py",
   "mimetype": "text/x-python",
   "name": "python",
   "nbconvert_exporter": "python",
   "pygments_lexer": "ipython3",
   "version": "3.11.7"
  }
 },
 "nbformat": 4,
 "nbformat_minor": 5
}
