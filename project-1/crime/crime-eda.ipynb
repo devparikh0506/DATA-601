{
 "cells": [
  {
   "cell_type": "markdown",
   "id": "051b79d9",
   "metadata": {},
   "source": [
    "# Exploratory data analysis of Los Angeles Police Department crime data"
   ]
  },
  {
   "cell_type": "markdown",
   "id": "3cd584b6",
   "metadata": {},
   "source": [
    "## Importing libraries"
   ]
  },
  {
   "cell_type": "code",
   "execution_count": 1,
   "id": "62f87304",
   "metadata": {},
   "outputs": [],
   "source": [
    "import pandas as pd\n",
    "import plotly.express as px "
   ]
  },
  {
   "cell_type": "markdown",
   "id": "7fa8a226",
   "metadata": {},
   "source": [
    "#### Configuring pandas options"
   ]
  },
  {
   "cell_type": "code",
   "execution_count": 2,
   "id": "37ea226f",
   "metadata": {},
   "outputs": [],
   "source": [
    "pd.options.display.float_format = '{:.6f}'.format #https://medium.com/@anala007/float-display-in-pandas-no-more-scientific-notation-80e3dd28eabe\n",
    "pd.set_option(\"display.max_columns\", 30)\n",
    "pd.set_option(\"display.max_rows\", 500)"
   ]
  },
  {
   "cell_type": "markdown",
   "id": "9306dd98",
   "metadata": {},
   "source": [
    "#### Loading Csv files"
   ]
  },
  {
   "cell_type": "code",
   "execution_count": 3,
   "id": "a31df80d",
   "metadata": {},
   "outputs": [],
   "source": [
    "df1 = pd.read_csv('Crime_Data_from_2010_to_2019_20240229.csv')\n",
    "df2 = pd.read_csv('Crime_Data_from_2020_to_Present_20240229.csv')"
   ]
  },
  {
   "cell_type": "markdown",
   "id": "bd7b589c",
   "metadata": {},
   "source": [
    "### Merging both datasets"
   ]
  },
  {
   "cell_type": "code",
   "execution_count": 4,
   "id": "6f55c0e5",
   "metadata": {},
   "outputs": [
    {
     "data": {
      "text/plain": [
       "(2122525, 28)"
      ]
     },
     "execution_count": 4,
     "metadata": {},
     "output_type": "execute_result"
    }
   ],
   "source": [
    "df1.shape"
   ]
  },
  {
   "cell_type": "code",
   "execution_count": 5,
   "id": "c5277d4b",
   "metadata": {},
   "outputs": [
    {
     "data": {
      "text/plain": [
       "(901357, 28)"
      ]
     },
     "execution_count": 5,
     "metadata": {},
     "output_type": "execute_result"
    }
   ],
   "source": [
    "df2.shape"
   ]
  },
  {
   "cell_type": "code",
   "execution_count": 6,
   "id": "8462456f",
   "metadata": {},
   "outputs": [
    {
     "data": {
      "text/plain": [
       "(3023882, 29)"
      ]
     },
     "execution_count": 6,
     "metadata": {},
     "output_type": "execute_result"
    }
   ],
   "source": [
    "df = pd.concat([df1, df2])\n",
    "df.shape"
   ]
  },
  {
   "cell_type": "markdown",
   "id": "f815e797",
   "metadata": {},
   "source": [
    "#### Now checking columns in both datasets"
   ]
  },
  {
   "cell_type": "code",
   "execution_count": 7,
   "id": "89aec7b9",
   "metadata": {},
   "outputs": [
    {
     "data": {
      "text/plain": [
       "Index(['DR_NO', 'Date Rptd', 'DATE OCC', 'TIME OCC', 'AREA ', 'AREA NAME',\n",
       "       'Rpt Dist No', 'Part 1-2', 'Crm Cd', 'Crm Cd Desc', 'Mocodes',\n",
       "       'Vict Age', 'Vict Sex', 'Vict Descent', 'Premis Cd', 'Premis Desc',\n",
       "       'Weapon Used Cd', 'Weapon Desc', 'Status', 'Status Desc', 'Crm Cd 1',\n",
       "       'Crm Cd 2', 'Crm Cd 3', 'Crm Cd 4', 'LOCATION', 'Cross Street', 'LAT',\n",
       "       'LON', 'AREA'],\n",
       "      dtype='object')"
      ]
     },
     "execution_count": 7,
     "metadata": {},
     "output_type": "execute_result"
    }
   ],
   "source": [
    "df.columns"
   ]
  },
  {
   "cell_type": "code",
   "execution_count": 8,
   "id": "f4c21c72",
   "metadata": {},
   "outputs": [
    {
     "data": {
      "text/plain": [
       "Index(['DR_NO', 'Date Rptd', 'DATE OCC', 'TIME OCC', 'AREA ', 'AREA NAME',\n",
       "       'Rpt Dist No', 'Part 1-2', 'Crm Cd', 'Crm Cd Desc', 'Mocodes',\n",
       "       'Vict Age', 'Vict Sex', 'Vict Descent', 'Premis Cd', 'Premis Desc',\n",
       "       'Weapon Used Cd', 'Weapon Desc', 'Status', 'Status Desc', 'Crm Cd 1',\n",
       "       'Crm Cd 2', 'Crm Cd 3', 'Crm Cd 4', 'LOCATION', 'Cross Street', 'LAT',\n",
       "       'LON'],\n",
       "      dtype='object')"
      ]
     },
     "execution_count": 8,
     "metadata": {},
     "output_type": "execute_result"
    }
   ],
   "source": [
    "df1.columns"
   ]
  },
  {
   "cell_type": "markdown",
   "id": "9829cffd",
   "metadata": {},
   "source": [
    "#### Renaming `AREA ` to `AREA`"
   ]
  },
  {
   "cell_type": "code",
   "execution_count": 9,
   "id": "c05a4b17",
   "metadata": {},
   "outputs": [
    {
     "data": {
      "text/plain": [
       "Index(['DR_NO', 'Date Rptd', 'DATE OCC', 'TIME OCC', 'AREA', 'AREA NAME',\n",
       "       'Rpt Dist No', 'Part 1-2', 'Crm Cd', 'Crm Cd Desc', 'Mocodes',\n",
       "       'Vict Age', 'Vict Sex', 'Vict Descent', 'Premis Cd', 'Premis Desc',\n",
       "       'Weapon Used Cd', 'Weapon Desc', 'Status', 'Status Desc', 'Crm Cd 1',\n",
       "       'Crm Cd 2', 'Crm Cd 3', 'Crm Cd 4', 'LOCATION', 'Cross Street', 'LAT',\n",
       "       'LON'],\n",
       "      dtype='object')"
      ]
     },
     "execution_count": 9,
     "metadata": {},
     "output_type": "execute_result"
    }
   ],
   "source": [
    "df1.rename(columns={ \"AREA \" :\"AREA\"}, inplace=True)\n",
    "df1.columns"
   ]
  },
  {
   "cell_type": "markdown",
   "id": "56cb57d4",
   "metadata": {},
   "source": [
    "#### Concating both datasets"
   ]
  },
  {
   "cell_type": "code",
   "execution_count": 10,
   "id": "39604196",
   "metadata": {},
   "outputs": [
    {
     "data": {
      "text/plain": [
       "(3023882, 28)"
      ]
     },
     "execution_count": 10,
     "metadata": {},
     "output_type": "execute_result"
    }
   ],
   "source": [
    "df = pd.concat([df1, df2])\n",
    "df.shape"
   ]
  },
  {
   "cell_type": "code",
   "execution_count": 11,
   "id": "ac9d76ee",
   "metadata": {},
   "outputs": [
    {
     "data": {
      "text/html": [
       "<div>\n",
       "<style scoped>\n",
       "    .dataframe tbody tr th:only-of-type {\n",
       "        vertical-align: middle;\n",
       "    }\n",
       "\n",
       "    .dataframe tbody tr th {\n",
       "        vertical-align: top;\n",
       "    }\n",
       "\n",
       "    .dataframe thead th {\n",
       "        text-align: right;\n",
       "    }\n",
       "</style>\n",
       "<table border=\"1\" class=\"dataframe\">\n",
       "  <thead>\n",
       "    <tr style=\"text-align: right;\">\n",
       "      <th></th>\n",
       "      <th>DR_NO</th>\n",
       "      <th>Date Rptd</th>\n",
       "      <th>DATE OCC</th>\n",
       "      <th>TIME OCC</th>\n",
       "      <th>AREA</th>\n",
       "      <th>AREA NAME</th>\n",
       "      <th>Rpt Dist No</th>\n",
       "      <th>Part 1-2</th>\n",
       "      <th>Crm Cd</th>\n",
       "      <th>Crm Cd Desc</th>\n",
       "      <th>Mocodes</th>\n",
       "      <th>Vict Age</th>\n",
       "      <th>Vict Sex</th>\n",
       "      <th>Vict Descent</th>\n",
       "      <th>Premis Cd</th>\n",
       "      <th>Premis Desc</th>\n",
       "      <th>Weapon Used Cd</th>\n",
       "      <th>Weapon Desc</th>\n",
       "      <th>Status</th>\n",
       "      <th>Status Desc</th>\n",
       "      <th>Crm Cd 1</th>\n",
       "      <th>Crm Cd 2</th>\n",
       "      <th>Crm Cd 3</th>\n",
       "      <th>Crm Cd 4</th>\n",
       "      <th>LOCATION</th>\n",
       "      <th>Cross Street</th>\n",
       "      <th>LAT</th>\n",
       "      <th>LON</th>\n",
       "    </tr>\n",
       "  </thead>\n",
       "  <tbody>\n",
       "    <tr>\n",
       "      <th>0</th>\n",
       "      <td>1307355</td>\n",
       "      <td>02/20/2010 12:00:00 AM</td>\n",
       "      <td>02/20/2010 12:00:00 AM</td>\n",
       "      <td>1350</td>\n",
       "      <td>13</td>\n",
       "      <td>Newton</td>\n",
       "      <td>1385</td>\n",
       "      <td>2</td>\n",
       "      <td>900</td>\n",
       "      <td>VIOLATION OF COURT ORDER</td>\n",
       "      <td>0913 1814 2000</td>\n",
       "      <td>48</td>\n",
       "      <td>M</td>\n",
       "      <td>H</td>\n",
       "      <td>501.000000</td>\n",
       "      <td>SINGLE FAMILY DWELLING</td>\n",
       "      <td>NaN</td>\n",
       "      <td>NaN</td>\n",
       "      <td>AA</td>\n",
       "      <td>Adult Arrest</td>\n",
       "      <td>900.000000</td>\n",
       "      <td>NaN</td>\n",
       "      <td>NaN</td>\n",
       "      <td>NaN</td>\n",
       "      <td>300 E  GAGE                         AV</td>\n",
       "      <td>NaN</td>\n",
       "      <td>33.982500</td>\n",
       "      <td>-118.269500</td>\n",
       "    </tr>\n",
       "    <tr>\n",
       "      <th>1</th>\n",
       "      <td>11401303</td>\n",
       "      <td>09/13/2010 12:00:00 AM</td>\n",
       "      <td>09/12/2010 12:00:00 AM</td>\n",
       "      <td>45</td>\n",
       "      <td>14</td>\n",
       "      <td>Pacific</td>\n",
       "      <td>1485</td>\n",
       "      <td>2</td>\n",
       "      <td>740</td>\n",
       "      <td>VANDALISM - FELONY ($400 &amp; OVER, ALL CHURCH VA...</td>\n",
       "      <td>0329</td>\n",
       "      <td>0</td>\n",
       "      <td>M</td>\n",
       "      <td>W</td>\n",
       "      <td>101.000000</td>\n",
       "      <td>STREET</td>\n",
       "      <td>NaN</td>\n",
       "      <td>NaN</td>\n",
       "      <td>IC</td>\n",
       "      <td>Invest Cont</td>\n",
       "      <td>740.000000</td>\n",
       "      <td>NaN</td>\n",
       "      <td>NaN</td>\n",
       "      <td>NaN</td>\n",
       "      <td>SEPULVEDA                    BL</td>\n",
       "      <td>MANCHESTER                   AV</td>\n",
       "      <td>33.959900</td>\n",
       "      <td>-118.396200</td>\n",
       "    </tr>\n",
       "    <tr>\n",
       "      <th>2</th>\n",
       "      <td>70309629</td>\n",
       "      <td>08/09/2010 12:00:00 AM</td>\n",
       "      <td>08/09/2010 12:00:00 AM</td>\n",
       "      <td>1515</td>\n",
       "      <td>13</td>\n",
       "      <td>Newton</td>\n",
       "      <td>1324</td>\n",
       "      <td>2</td>\n",
       "      <td>946</td>\n",
       "      <td>OTHER MISCELLANEOUS CRIME</td>\n",
       "      <td>0344</td>\n",
       "      <td>0</td>\n",
       "      <td>M</td>\n",
       "      <td>H</td>\n",
       "      <td>103.000000</td>\n",
       "      <td>ALLEY</td>\n",
       "      <td>NaN</td>\n",
       "      <td>NaN</td>\n",
       "      <td>IC</td>\n",
       "      <td>Invest Cont</td>\n",
       "      <td>946.000000</td>\n",
       "      <td>NaN</td>\n",
       "      <td>NaN</td>\n",
       "      <td>NaN</td>\n",
       "      <td>1300 E  21ST                         ST</td>\n",
       "      <td>NaN</td>\n",
       "      <td>34.022400</td>\n",
       "      <td>-118.252400</td>\n",
       "    </tr>\n",
       "    <tr>\n",
       "      <th>3</th>\n",
       "      <td>90631215</td>\n",
       "      <td>01/05/2010 12:00:00 AM</td>\n",
       "      <td>01/05/2010 12:00:00 AM</td>\n",
       "      <td>150</td>\n",
       "      <td>6</td>\n",
       "      <td>Hollywood</td>\n",
       "      <td>646</td>\n",
       "      <td>2</td>\n",
       "      <td>900</td>\n",
       "      <td>VIOLATION OF COURT ORDER</td>\n",
       "      <td>1100 0400 1402</td>\n",
       "      <td>47</td>\n",
       "      <td>F</td>\n",
       "      <td>W</td>\n",
       "      <td>101.000000</td>\n",
       "      <td>STREET</td>\n",
       "      <td>102.000000</td>\n",
       "      <td>HAND GUN</td>\n",
       "      <td>IC</td>\n",
       "      <td>Invest Cont</td>\n",
       "      <td>900.000000</td>\n",
       "      <td>998.000000</td>\n",
       "      <td>NaN</td>\n",
       "      <td>NaN</td>\n",
       "      <td>CAHUENGA                     BL</td>\n",
       "      <td>HOLLYWOOD                    BL</td>\n",
       "      <td>34.101600</td>\n",
       "      <td>-118.329500</td>\n",
       "    </tr>\n",
       "    <tr>\n",
       "      <th>4</th>\n",
       "      <td>100100501</td>\n",
       "      <td>01/03/2010 12:00:00 AM</td>\n",
       "      <td>01/02/2010 12:00:00 AM</td>\n",
       "      <td>2100</td>\n",
       "      <td>1</td>\n",
       "      <td>Central</td>\n",
       "      <td>176</td>\n",
       "      <td>1</td>\n",
       "      <td>122</td>\n",
       "      <td>RAPE, ATTEMPTED</td>\n",
       "      <td>0400</td>\n",
       "      <td>47</td>\n",
       "      <td>F</td>\n",
       "      <td>H</td>\n",
       "      <td>103.000000</td>\n",
       "      <td>ALLEY</td>\n",
       "      <td>400.000000</td>\n",
       "      <td>STRONG-ARM (HANDS, FIST, FEET OR BODILY FORCE)</td>\n",
       "      <td>IC</td>\n",
       "      <td>Invest Cont</td>\n",
       "      <td>122.000000</td>\n",
       "      <td>NaN</td>\n",
       "      <td>NaN</td>\n",
       "      <td>NaN</td>\n",
       "      <td>8TH                          ST</td>\n",
       "      <td>SAN PEDRO                    ST</td>\n",
       "      <td>34.038700</td>\n",
       "      <td>-118.248800</td>\n",
       "    </tr>\n",
       "  </tbody>\n",
       "</table>\n",
       "</div>"
      ],
      "text/plain": [
       "       DR_NO               Date Rptd                DATE OCC  TIME OCC  AREA  \\\n",
       "0    1307355  02/20/2010 12:00:00 AM  02/20/2010 12:00:00 AM      1350    13   \n",
       "1   11401303  09/13/2010 12:00:00 AM  09/12/2010 12:00:00 AM        45    14   \n",
       "2   70309629  08/09/2010 12:00:00 AM  08/09/2010 12:00:00 AM      1515    13   \n",
       "3   90631215  01/05/2010 12:00:00 AM  01/05/2010 12:00:00 AM       150     6   \n",
       "4  100100501  01/03/2010 12:00:00 AM  01/02/2010 12:00:00 AM      2100     1   \n",
       "\n",
       "   AREA NAME  Rpt Dist No  Part 1-2  Crm Cd  \\\n",
       "0     Newton         1385         2     900   \n",
       "1    Pacific         1485         2     740   \n",
       "2     Newton         1324         2     946   \n",
       "3  Hollywood          646         2     900   \n",
       "4    Central          176         1     122   \n",
       "\n",
       "                                         Crm Cd Desc         Mocodes  \\\n",
       "0                           VIOLATION OF COURT ORDER  0913 1814 2000   \n",
       "1  VANDALISM - FELONY ($400 & OVER, ALL CHURCH VA...            0329   \n",
       "2                          OTHER MISCELLANEOUS CRIME            0344   \n",
       "3                           VIOLATION OF COURT ORDER  1100 0400 1402   \n",
       "4                                    RAPE, ATTEMPTED            0400   \n",
       "\n",
       "   Vict Age Vict Sex Vict Descent  Premis Cd             Premis Desc  \\\n",
       "0        48        M            H 501.000000  SINGLE FAMILY DWELLING   \n",
       "1         0        M            W 101.000000                  STREET   \n",
       "2         0        M            H 103.000000                   ALLEY   \n",
       "3        47        F            W 101.000000                  STREET   \n",
       "4        47        F            H 103.000000                   ALLEY   \n",
       "\n",
       "   Weapon Used Cd                                     Weapon Desc Status  \\\n",
       "0             NaN                                             NaN     AA   \n",
       "1             NaN                                             NaN     IC   \n",
       "2             NaN                                             NaN     IC   \n",
       "3      102.000000                                        HAND GUN     IC   \n",
       "4      400.000000  STRONG-ARM (HANDS, FIST, FEET OR BODILY FORCE)     IC   \n",
       "\n",
       "    Status Desc   Crm Cd 1   Crm Cd 2  Crm Cd 3  Crm Cd 4  \\\n",
       "0  Adult Arrest 900.000000        NaN       NaN       NaN   \n",
       "1   Invest Cont 740.000000        NaN       NaN       NaN   \n",
       "2   Invest Cont 946.000000        NaN       NaN       NaN   \n",
       "3   Invest Cont 900.000000 998.000000       NaN       NaN   \n",
       "4   Invest Cont 122.000000        NaN       NaN       NaN   \n",
       "\n",
       "                                  LOCATION                     Cross Street  \\\n",
       "0   300 E  GAGE                         AV                              NaN   \n",
       "1          SEPULVEDA                    BL  MANCHESTER                   AV   \n",
       "2  1300 E  21ST                         ST                              NaN   \n",
       "3          CAHUENGA                     BL  HOLLYWOOD                    BL   \n",
       "4          8TH                          ST  SAN PEDRO                    ST   \n",
       "\n",
       "        LAT         LON  \n",
       "0 33.982500 -118.269500  \n",
       "1 33.959900 -118.396200  \n",
       "2 34.022400 -118.252400  \n",
       "3 34.101600 -118.329500  \n",
       "4 34.038700 -118.248800  "
      ]
     },
     "execution_count": 11,
     "metadata": {},
     "output_type": "execute_result"
    }
   ],
   "source": [
    "df.head()"
   ]
  },
  {
   "cell_type": "markdown",
   "id": "577c7d10",
   "metadata": {},
   "source": [
    "#### Dropping duplicate rows"
   ]
  },
  {
   "cell_type": "code",
   "execution_count": 12,
   "id": "254219d4",
   "metadata": {},
   "outputs": [],
   "source": [
    "df.drop_duplicates(keep=False,inplace=True)"
   ]
  },
  {
   "cell_type": "markdown",
   "id": "3d4f1eb1",
   "metadata": {},
   "source": [
    "### Finding rows containing null values"
   ]
  },
  {
   "cell_type": "code",
   "execution_count": 13,
   "id": "2a62e3da",
   "metadata": {},
   "outputs": [
    {
     "data": {
      "text/plain": [
       "DR_NO                   0\n",
       "Date Rptd               0\n",
       "DATE OCC                0\n",
       "TIME OCC                0\n",
       "AREA                    0\n",
       "AREA NAME               0\n",
       "Rpt Dist No             0\n",
       "Part 1-2                0\n",
       "Crm Cd                  0\n",
       "Crm Cd Desc             0\n",
       "Mocodes            354006\n",
       "Vict Age                0\n",
       "Vict Sex           316205\n",
       "Vict Descent       316259\n",
       "Premis Cd              63\n",
       "Premis Desc           737\n",
       "Weapon Used Cd    1998040\n",
       "Weapon Desc       1998041\n",
       "Status                  3\n",
       "Status Desc             0\n",
       "Crm Cd 1               21\n",
       "Crm Cd 2          2816938\n",
       "Crm Cd 3          3018109\n",
       "Crm Cd 4          3023713\n",
       "LOCATION                0\n",
       "Cross Street      2526101\n",
       "LAT                     0\n",
       "LON                     0\n",
       "dtype: int64"
      ]
     },
     "execution_count": 13,
     "metadata": {},
     "output_type": "execute_result"
    }
   ],
   "source": [
    "df.isnull().sum()"
   ]
  },
  {
   "cell_type": "markdown",
   "id": "c98a142d",
   "metadata": {},
   "source": [
    "Converting values to percentage values."
   ]
  },
  {
   "cell_type": "code",
   "execution_count": 14,
   "id": "aac8a743",
   "metadata": {},
   "outputs": [
    {
     "data": {
      "text/plain": [
       "Crm Cd 4         99.994411\n",
       "Crm Cd 3         99.809086\n",
       "Crm Cd 2         93.156347\n",
       "Cross Street     83.538346\n",
       "Weapon Desc      66.075363\n",
       "Weapon Used Cd   66.075330\n",
       "Mocodes          11.707004\n",
       "Vict Descent     10.458708\n",
       "Vict Sex         10.456923\n",
       "Premis Desc       0.024373\n",
       "Premis Cd         0.002083\n",
       "Crm Cd 1          0.000694\n",
       "Status            0.000099\n",
       "LAT               0.000000\n",
       "LOCATION          0.000000\n",
       "Status Desc       0.000000\n",
       "DR_NO             0.000000\n",
       "Date Rptd         0.000000\n",
       "Vict Age          0.000000\n",
       "Crm Cd Desc       0.000000\n",
       "Crm Cd            0.000000\n",
       "Part 1-2          0.000000\n",
       "Rpt Dist No       0.000000\n",
       "AREA NAME         0.000000\n",
       "AREA              0.000000\n",
       "TIME OCC          0.000000\n",
       "DATE OCC          0.000000\n",
       "LON               0.000000\n",
       "dtype: float64"
      ]
     },
     "execution_count": 14,
     "metadata": {},
     "output_type": "execute_result"
    }
   ],
   "source": [
    "(df.isnull().sum()).sort_values(ascending=False)/df.shape[0] * 100"
   ]
  },
  {
   "cell_type": "markdown",
   "id": "9af2e61a",
   "metadata": {},
   "source": [
    "#### Dropping rows that are having null values in one of these columns : `Mocodes`, `Status`, `Crm Cd 1`, `Premis Cd`"
   ]
  },
  {
   "cell_type": "code",
   "execution_count": 15,
   "id": "96ee698c",
   "metadata": {},
   "outputs": [],
   "source": [
    "df.dropna(subset=['Premis Cd', 'Mocodes', 'Status', 'Crm Cd 1', 'Premis Cd'], inplace=True)"
   ]
  },
  {
   "cell_type": "markdown",
   "id": "49f315eb",
   "metadata": {},
   "source": [
    "Let's check null values again"
   ]
  },
  {
   "cell_type": "code",
   "execution_count": 16,
   "id": "7351cc9a",
   "metadata": {
    "scrolled": true
   },
   "outputs": [
    {
     "data": {
      "text/plain": [
       "Crm Cd 4         99.993670\n",
       "Crm Cd 3         99.784108\n",
       "Crm Cd 2         92.289008\n",
       "Cross Street     84.026112\n",
       "Weapon Desc      61.861467\n",
       "Weapon Used Cd   61.861430\n",
       "Vict Descent      0.027455\n",
       "Vict Sex          0.025769\n",
       "Premis Desc       0.025132\n",
       "DR_NO             0.000000\n",
       "LAT               0.000000\n",
       "LOCATION          0.000000\n",
       "Crm Cd 1          0.000000\n",
       "Status Desc       0.000000\n",
       "Status            0.000000\n",
       "Premis Cd         0.000000\n",
       "Date Rptd         0.000000\n",
       "Vict Age          0.000000\n",
       "Mocodes           0.000000\n",
       "Crm Cd Desc       0.000000\n",
       "Crm Cd            0.000000\n",
       "Part 1-2          0.000000\n",
       "Rpt Dist No       0.000000\n",
       "AREA NAME         0.000000\n",
       "AREA              0.000000\n",
       "TIME OCC          0.000000\n",
       "DATE OCC          0.000000\n",
       "LON               0.000000\n",
       "dtype: float64"
      ]
     },
     "execution_count": 16,
     "metadata": {},
     "output_type": "execute_result"
    }
   ],
   "source": [
    "(df.isnull().sum()).sort_values(ascending=False)/df.shape[0] * 100"
   ]
  },
  {
   "cell_type": "markdown",
   "id": "4176561e",
   "metadata": {},
   "source": [
    "### Now filling null values for remaining columns "
   ]
  },
  {
   "cell_type": "code",
   "execution_count": null,
   "id": "5ebf0592",
   "metadata": {},
   "outputs": [],
   "source": [
    "values = { \n",
    "    \"Crm Cd 4\" : \"N/A\",\n",
    "    \"Crm Cd 3\" : \"N/A\",\n",
    "    \"Crm Cd 2\" : \"N/A\",\n",
    "    \"Cross Street\" : \"N/A\",\n",
    "    \"Weapon Desc\" : \"UNKNOWN\",\n",
    "    \"Weapon Used Cd\" : 0,\n",
    "    \"Premis Desc\" : \"N/A\",\n",
    "    \"Vict Descent\":\"X\",\n",
    "    \"Vict Sex\" : \"X\"\n",
    "}\n",
    "df.fillna(value=values, inplace=True)\n",
    "(df.isnull().sum()).sort_values(ascending=False)/df.shape[0] * 100"
   ]
  },
  {
   "cell_type": "markdown",
   "id": "db39ddb1",
   "metadata": {},
   "source": [
    "Let's check unique values of victim's gender"
   ]
  },
  {
   "cell_type": "code",
   "execution_count": null,
   "id": "8de3d1b6",
   "metadata": {},
   "outputs": [],
   "source": [
    "df[\"Vict Sex\"].unique()"
   ]
  },
  {
   "cell_type": "markdown",
   "id": "10816ff1",
   "metadata": {},
   "source": [
    "It's better to replace `-` with `X`"
   ]
  },
  {
   "cell_type": "code",
   "execution_count": null,
   "id": "1698e329",
   "metadata": {},
   "outputs": [],
   "source": [
    "df['Vict Sex'].replace(['-'], \"X\", inplace=True)\n",
    "df[\"Vict Sex\"].unique()"
   ]
  },
  {
   "cell_type": "markdown",
   "id": "1d85ea7c",
   "metadata": {},
   "source": [
    "Let's check vicitim descent"
   ]
  },
  {
   "cell_type": "code",
   "execution_count": null,
   "id": "8ff0956e",
   "metadata": {},
   "outputs": [],
   "source": [
    "df['Vict Descent'].unique()"
   ]
  },
  {
   "cell_type": "markdown",
   "id": "0f3c2645",
   "metadata": {},
   "source": [
    "Replacing `-` with word `Unknwon`"
   ]
  },
  {
   "cell_type": "code",
   "execution_count": null,
   "id": "b239d784",
   "metadata": {},
   "outputs": [],
   "source": [
    "df['Vict Descent'].replace('-','Unknown', inplace=True)\n",
    "df['Vict Descent'].unique()"
   ]
  },
  {
   "cell_type": "markdown",
   "id": "ab1234f2",
   "metadata": {},
   "source": [
    "Now converting codes to meaningful names"
   ]
  },
  {
   "cell_type": "code",
   "execution_count": null,
   "id": "4ca52ce2",
   "metadata": {},
   "outputs": [],
   "source": [
    "def populate_vict_desc(df):\n",
    "    mapping={ \n",
    "        \"A\": \"Other Asian\",\n",
    "        \"B\" : \"Black\",\n",
    "        \"C\":\"Chinese\",\n",
    "        \"D\" : \"Cambodian\",\n",
    "        \"F\" : \"Filipino\",\n",
    "        \"G\" : \"Guamanian\",\n",
    "        \"H\" : \"Hispanic/Latin/Mexican\",\n",
    "        \"I\" : \"American Indian/Alaskan Native\",\n",
    "        \"J\" : \"Japanese\",\n",
    "        \"K\" : \"Korean\",\n",
    "        \"L\" : \"Laotian\",\n",
    "        \"O\" : \"Other\",\n",
    "        \"P\" : \"Pacific Islander\",\n",
    "        \"S\" : \"Samoan\",\n",
    "        \"U\" : \"Hawaiian\",\n",
    "        \"V\" : \"Vietnamese\",\n",
    "        \"W\" : \"White\",\n",
    "        \"X\" : \"Unknown\",\n",
    "        \"Z\" : \"Asian Indian\"\n",
    "    }\n",
    "    for i in mapping:\n",
    "        df.loc[df[\"Vict Descent\"]==i, \"Vict Descent\"]=mapping[i]\n",
    "    return df\n",
    "populate_vict_desc(df).head()"
   ]
  },
  {
   "cell_type": "markdown",
   "id": "79ac595d",
   "metadata": {},
   "source": [
    "Now dropping columns that are not required for EDA."
   ]
  },
  {
   "cell_type": "code",
   "execution_count": null,
   "id": "a6c0f310",
   "metadata": {},
   "outputs": [],
   "source": [
    "df.drop(columns=['DR_NO','Part 1-2', 'Mocodes','Status', 'Crm Cd 1','Crm Cd 2','Crm Cd 3', 'Crm Cd 4', 'Cross Street'],inplace=True)"
   ]
  },
  {
   "cell_type": "markdown",
   "id": "1c83b9b1",
   "metadata": {},
   "source": [
    "Generating new columns that can be useful for future EDA"
   ]
  },
  {
   "cell_type": "code",
   "execution_count": null,
   "id": "925f32f6",
   "metadata": {},
   "outputs": [],
   "source": [
    "df[\"DATETIME OCC\"] = pd.to_datetime(df[\"DATE OCC\"], format=\"%m/%d/%Y %I:%M:%S %p\")\n",
    "df[\"DATETIME Rptd\"] = pd.to_datetime(df[\"Date Rptd\"], format=\"%m/%d/%Y %I:%M:%S %p\")\n",
    "df[\"DAY OCC\"] = df[\"DATETIME OCC\"].dt.day_name()\n",
    "df[\"MONTH OCC\"] = df[\"DATETIME OCC\"].dt.month_name()\n",
    "df[\"YEAR OCC\"] = df[\"DATETIME OCC\"].dt.year\n",
    "df['TIME OCC'] = df['TIME OCC'].astype(str).str.zfill(4)\n",
    "df['HOUR OCC'] = df['TIME OCC'].apply(lambda t: int(t[:2]))\n",
    "df.head()\n"
   ]
  },
  {
   "cell_type": "markdown",
   "id": "8039aca8",
   "metadata": {},
   "source": [
    "Taking a copy of df"
   ]
  },
  {
   "cell_type": "code",
   "execution_count": null,
   "id": "88f91747",
   "metadata": {},
   "outputs": [],
   "source": [
    "df_copy = df # Taking copy of clean dataframe"
   ]
  },
  {
   "cell_type": "markdown",
   "id": "6f865ff0",
   "metadata": {},
   "source": [
    "Let's check dataframe's information"
   ]
  },
  {
   "cell_type": "code",
   "execution_count": null,
   "id": "fc0cf0f1",
   "metadata": {},
   "outputs": [],
   "source": [
    "df.info()"
   ]
  },
  {
   "cell_type": "markdown",
   "id": "0b15f912",
   "metadata": {},
   "source": [
    "Let's check data statistics"
   ]
  },
  {
   "cell_type": "code",
   "execution_count": null,
   "id": "63a2fd06",
   "metadata": {},
   "outputs": [],
   "source": [
    "df.describe()"
   ]
  },
  {
   "cell_type": "markdown",
   "id": "1d421c9f",
   "metadata": {},
   "source": [
    "Dropping values with negative age values"
   ]
  },
  {
   "cell_type": "code",
   "execution_count": null,
   "id": "7d7c7f08",
   "metadata": {},
   "outputs": [],
   "source": [
    "df.drop(df[df[\"Vict Age\"] < 0].index, inplace=True)"
   ]
  },
  {
   "cell_type": "code",
   "execution_count": null,
   "id": "5e7a938b",
   "metadata": {
    "scrolled": true
   },
   "outputs": [],
   "source": [
    "df.describe()"
   ]
  },
  {
   "cell_type": "markdown",
   "id": "50bafc52",
   "metadata": {},
   "source": [
    "### Victim information analysis"
   ]
  },
  {
   "cell_type": "markdown",
   "id": "24ee7958",
   "metadata": {},
   "source": [
    "Let's analyze cases by victim's gender, age and descent."
   ]
  },
  {
   "cell_type": "code",
   "execution_count": null,
   "id": "135e2a03",
   "metadata": {},
   "outputs": [],
   "source": [
    "victims_by_gender = df.groupby([\"Vict Sex\"]).size().reset_index(name=\"Incidents\")\n",
    "fig=px.pie(victims_by_gender, values='Incidents', names=\"Vict Sex\", title=\"Incidents by victims gender\")\n",
    "fig.update_traces(textinfo='percent+label')\n",
    "fig.show()"
   ]
  },
  {
   "cell_type": "markdown",
   "id": "c18da857",
   "metadata": {},
   "source": [
    "Now let's visulize victims's age and gender"
   ]
  },
  {
   "cell_type": "code",
   "execution_count": null,
   "id": "dda3ad4a",
   "metadata": {},
   "outputs": [],
   "source": [
    "age_group_data = df.copy()\n",
    "age_group_data=age_group_data.groupby(['Vict Age', 'Vict Sex']).size().reset_index(name='Incidents')\n",
    "age_color_scheme = {\"X\" : \"black\", \"M\" : \"blue\", \"F\" : \"pink\", \"H\" : \"red\", \"N\" : \"green\"}\n",
    "px.histogram(age_group_data, x=\"Vict Age\", y=\"Incidents\", color=\"Vict Sex\", text_auto=True, color_discrete_map=age_color_scheme)"
   ]
  },
  {
   "cell_type": "markdown",
   "id": "d4bbe412",
   "metadata": {},
   "source": [
    "Let's visualize victim's descent"
   ]
  },
  {
   "cell_type": "code",
   "execution_count": null,
   "id": "e8ccdac6",
   "metadata": {},
   "outputs": [],
   "source": [
    "fig1=px.histogram(df, x='Vict Descent')\n",
    "fig1.update_layout(yaxis_title=\"Incidents\")\n",
    "fig1.update_traces( hovertemplate=None)\n",
    "fig1.add_pie()\n",
    "vict_descent_data=df.groupby(['Vict Descent']).size().sort_values(ascending=False).reset_index(name=\"Incidents\")\n",
    "fig2 = px.pie(vict_descent_data, values=\"Incidents\", names=\"Vict Descent\", title=\"Victim Descent By %\")\n",
    "fig1.show()\n",
    "fig2.show()"
   ]
  },
  {
   "cell_type": "markdown",
   "id": "1d595cdc",
   "metadata": {},
   "source": [
    "Now let's check victim descent wise age."
   ]
  },
  {
   "cell_type": "code",
   "execution_count": null,
   "id": "85830701",
   "metadata": {},
   "outputs": [],
   "source": [
    "for i in df['Vict Descent'].unique():\n",
    "    victim_data = df[df['Vict Descent']==i].groupby([\"Vict Age\", \"Vict Sex\"]).size().reset_index(name=\"Incidents\")\n",
    "    victim_data['Incidents Percentage']=(victim_data['Incidents'] / victim_data['Incidents'].sum()) * 100\n",
    "    fig = px.histogram(victim_data, x=\"Vict Age\", y=\"Incidents Percentage\", color=\"Vict Sex\", barmode=\"group\", title=i, color_discrete_map=age_color_scheme, hover_data=[\"Incidents\"])\n",
    "    fig.show()"
   ]
  },
  {
   "cell_type": "markdown",
   "id": "0aa7f50a",
   "metadata": {},
   "source": [
    "### Crime Area Information"
   ]
  },
  {
   "cell_type": "markdown",
   "id": "d3693738",
   "metadata": {},
   "source": [
    "Visulizing crime areas with vict descent."
   ]
  },
  {
   "cell_type": "code",
   "execution_count": null,
   "id": "35bd9694",
   "metadata": {},
   "outputs": [],
   "source": [
    "px.histogram(df, x=\"AREA NAME\", color=\"Vict Descent\",text_auto=True).update_xaxes(categoryorder=\"total descending\") #https://community.plotly.com/t/plotly-express-histogram-any-way-to-sort-bar-by-value/23905/4"
   ]
  },
  {
   "cell_type": "markdown",
   "id": "2ccd8511",
   "metadata": {},
   "source": [
    "From above graph we can observere that most crimes occurred in `77th street` and `Hollenbeck` had lowest crime rates.\n",
    "\n",
    "Also `Hispanic/Latin/Mexican`, `White` and `Black` people got affected most by crimes in almost all areas."
   ]
  },
  {
   "cell_type": "markdown",
   "id": "bb3dec6b",
   "metadata": {},
   "source": [
    "#### Now visualizing areas by victims gender"
   ]
  },
  {
   "cell_type": "code",
   "execution_count": null,
   "id": "0a79d93e",
   "metadata": {},
   "outputs": [],
   "source": [
    "px.histogram(df, x=\"AREA NAME\", color=\"Vict Sex\", color_discrete_map=age_color_scheme, text_auto=True).update_xaxes(categoryorder=\"total descending\") #https://community.plotly.com/t/plotly-express-histogram-any-way-to-sort-bar-by-value/23905/4"
   ]
  },
  {
   "cell_type": "markdown",
   "id": "c1f01ae3",
   "metadata": {},
   "source": [
    "From above data we can observe that in most areas majority of victims are male, only for `77th street`, `Southwest` and `Southeast`number female victims are greater than males. "
   ]
  },
  {
   "cell_type": "markdown",
   "id": "6f5b424d",
   "metadata": {},
   "source": [
    "#### Now let's take a look at premis information"
   ]
  },
  {
   "cell_type": "code",
   "execution_count": null,
   "id": "767f403d",
   "metadata": {},
   "outputs": [],
   "source": [
    "premis_wise_crimes = df.groupby([\"Premis Desc\"]).size().reset_index(name=\"Cases\")\n",
    "fig=px.pie(premis_wise_crimes, values=\"Cases\", names=\"Premis Desc\")\n",
    "fig.update_traces(textposition='inside', textinfo='percent+label')\n",
    "fig.show()"
   ]
  },
  {
   "cell_type": "markdown",
   "id": "0defe3d1",
   "metadata": {},
   "source": [
    "#### Visualizing premis information area wise"
   ]
  },
  {
   "cell_type": "code",
   "execution_count": null,
   "id": "fa3ec59c",
   "metadata": {},
   "outputs": [],
   "source": [
    "area_wise_data = df.groupby(['AREA NAME', 'Premis Desc']).size().reset_index(name=\"Cases\")\n",
    "for area in area_wise_data[\"AREA NAME\"].unique():\n",
    "    fig = px.bar(area_wise_data[area_wise_data[\"AREA NAME\"] == area], x=\"Premis Desc\", y=\"Cases\", text_auto=True).update_xaxes(title=\"Type of Crimes\",categoryorder=\"total descending\", range=(0,10)).update_yaxes(title=\"Cases\")\n",
    "    fig.update_layout(title=\"Crimes in \" + area)\n",
    "    fig.show()\n",
    "# px.histogram(area_wise_data, x=\"AREA NAME\", color=\"Premis Desc\", text_auto=True).update_xaxes(categoryorder=\"total descending\") #https://community.plotly.com/t/plotly-express-histogram-any-way-to-sort-bar-by-value/23905/4"
   ]
  },
  {
   "cell_type": "markdown",
   "id": "ee28c59a",
   "metadata": {},
   "source": [
    "### Visualizing type of crime"
   ]
  },
  {
   "cell_type": "code",
   "execution_count": null,
   "id": "7a6b9d25",
   "metadata": {},
   "outputs": [],
   "source": [
    "cases_by_type = df.groupby([\"Crm Cd Desc\", \"Vict Sex\", \"Vict Descent\", \"AREA NAME\"]).size().reset_index(name=\"Cases\")\n",
    "fig=px.pie(cases_by_type, values=\"Cases\", names=\"Crm Cd Desc\", height=800)\n",
    "fig.update_traces(textposition='inside', textinfo='percent+label+value')"
   ]
  },
  {
   "cell_type": "code",
   "execution_count": null,
   "id": "ff7ddd1f",
   "metadata": {},
   "outputs": [],
   "source": [
    "for area in df[\"AREA NAME\"].unique():\n",
    "    fig = px.histogram(df[df[\"AREA NAME\"]==area], x=\"Crm Cd Desc\", title=\"Crimes in %s\"%area, text_auto=True).update_xaxes(title=\"Crimes\",categoryorder=\"total descending\", range=(0,10)).update_yaxes(title=\"Cases\")\n",
    "    fig.show()"
   ]
  },
  {
   "cell_type": "markdown",
   "id": "4c87e09a",
   "metadata": {},
   "source": [
    "Let's check crimes based on premis and crime type"
   ]
  },
  {
   "cell_type": "code",
   "execution_count": null,
   "id": "505b8ee8",
   "metadata": {},
   "outputs": [],
   "source": [
    "premis_wise_crimes = df.groupby([\"Premis Desc\", \"Crm Cd Desc\"]).size().reset_index(name=\"Cases\")\n",
    "premis_wise_crimes = premis_wise_crimes[premis_wise_crimes[\"Cases\"] > 10000] # Taking only rows which crime incidents are greater than 10000\n",
    "# px.histogram(df, X=\"Premise Desc\")\n",
    "premis_wise_crimes_pivot = premis_wise_crimes.pivot(index=\"Premis Desc\", columns=\"Crm Cd Desc\", values=\"Cases\")\n",
    "premis_wise_crimes_pivot.head()"
   ]
  },
  {
   "cell_type": "markdown",
   "id": "428839e5",
   "metadata": {},
   "source": [
    "Replacing null values with 0"
   ]
  },
  {
   "cell_type": "code",
   "execution_count": null,
   "id": "3c9d5cd8",
   "metadata": {},
   "outputs": [],
   "source": [
    "premis_wise_crimes_pivot.fillna(value=0, inplace=True)\n",
    "premis_wise_crimes_pivot.head()"
   ]
  },
  {
   "cell_type": "markdown",
   "id": "9b479526",
   "metadata": {},
   "source": [
    "Plotting heatmap to visualize the data"
   ]
  },
  {
   "cell_type": "code",
   "execution_count": null,
   "id": "43a16db5",
   "metadata": {},
   "outputs": [],
   "source": [
    "fig = px.imshow(premis_wise_crimes_pivot,\n",
    "                labels=dict(x=\"Type of crime\", y=\"Premis description\", color=\"Number of Crimes\"),\n",
    "                x=premis_wise_crimes_pivot.columns,\n",
    "                y=premis_wise_crimes_pivot.index\n",
    "                )\n",
    "\n",
    "fig.update_xaxes(side=\"top\")\n",
    "fig.update_layout(title=\"Premise wise Crime Types\",\n",
    "                  yaxis=dict(title=\"Type of crime\"),\n",
    "                  xaxis=dict(title=\"Premis description\"),\n",
    "                  height=800)\n",
    "fig.show()"
   ]
  },
  {
   "cell_type": "code",
   "execution_count": null,
   "id": "e9c2c6e1",
   "metadata": {},
   "outputs": [],
   "source": [
    "\n",
    "crime_by_area_and_day = df.groupby(['DAY OCC', \"AREA NAME\"]).size().reset_index(name=\"Cases\")\n",
    "crime_pivot = crime_by_area_and_day.pivot(index='AREA NAME', columns='DAY OCC', values='Cases')\n",
    "\n",
    "fig = px.imshow(crime_pivot,\n",
    "                labels=dict(x=\"Hour of the Day\", y=\"Day of the Week\", color=\"Number of Crimes\"),\n",
    "                x=crime_pivot.columns,\n",
    "                y=crime_pivot.index,\n",
    "                color_continuous_scale=\"viridis\")\n",
    "\n",
    "fig.update_xaxes(side=\"top\")\n",
    "fig.update_layout(title=\"Crime Occurrences by Day and Time\",\n",
    "                  xaxis=dict(title=\"Hour of the Day\"),\n",
    "                  yaxis=dict(title=\"Day of the Week\"),\n",
    "                  height=800)"
   ]
  },
  {
   "cell_type": "markdown",
   "id": "ab757202",
   "metadata": {},
   "source": [
    "#### Let's check time of crimes"
   ]
  },
  {
   "cell_type": "code",
   "execution_count": null,
   "id": "81d1a0f8",
   "metadata": {},
   "outputs": [],
   "source": [
    "year_wise_crime = df[\"YEAR OCC\"].value_counts().reset_index(name=\"Cases\").sort_values(\"YEAR OCC\")\n",
    "px.line(year_wise_crime, x=\"YEAR OCC\", y=\"Cases\",  markers=True)"
   ]
  },
  {
   "cell_type": "code",
   "execution_count": null,
   "id": "56765ee1",
   "metadata": {},
   "outputs": [],
   "source": [
    "year_wise_crime = df.groupby([\"YEAR OCC\", \"AREA NAME\"]).size().reset_index(name=\"Cases\").sort_values(\"YEAR OCC\")\n",
    "px.line(year_wise_crime, x=\"YEAR OCC\", y=\"Cases\",  markers=True, color=\"AREA NAME\")"
   ]
  },
  {
   "cell_type": "markdown",
   "id": "6875ebd6",
   "metadata": {},
   "source": [
    "##### Now check which days had more crime incidents"
   ]
  },
  {
   "cell_type": "code",
   "execution_count": null,
   "id": "f4243756",
   "metadata": {},
   "outputs": [],
   "source": [
    "def sort_by_dayname(df, col=\"DAY OCC\") : \n",
    "    day_name_to_number = {\n",
    "    'Monday': 0,\n",
    "    'Tuesday': 1,\n",
    "    'Wednesday': 2,\n",
    "    'Thursday': 3,\n",
    "    'Friday': 4,\n",
    "    'Saturday': 5,\n",
    "    'Sunday': 6\n",
    "}\n",
    "    df[col + \"NUMBER\"] = df[col].apply(lambda x : day_name_to_number[x])\n",
    "    df.sort_values(by=col+\"NUMBER\", inplace=True)\n",
    "    df.drop(columns=[col+'NUMBER'], inplace=True)\n",
    "    return df"
   ]
  },
  {
   "cell_type": "code",
   "execution_count": null,
   "id": "e487bb62",
   "metadata": {},
   "outputs": [],
   "source": [
    "\n",
    "crime_by_day = df.groupby(['DAY OCC']).size().reset_index(name=\"Cases\")\n",
    "px.line(sort_by_dayname(crime_by_day), x=\"DAY OCC\", y=\"Cases\", markers=True)"
   ]
  },
  {
   "cell_type": "code",
   "execution_count": null,
   "id": "23593090",
   "metadata": {},
   "outputs": [],
   "source": [
    "crime_by_day = df.groupby(['DAY OCC', \"HOUR OCC\"]).size().reset_index(name=\"Cases\")\n",
    "# Pivot the DataFrame for visualization\n",
    "crime_pivot = crime_by_day.pivot(index='DAY OCC', columns='HOUR OCC', values='Cases')\n",
    "\n",
    "# Create heatmap using Plotly\n",
    "fig = px.imshow(crime_pivot,\n",
    "                labels=dict(x=\"Hour of the Day\", y=\"Day of the Week\", color=\"Number of Crimes\"),\n",
    "                x=crime_pivot.columns,\n",
    "                y=crime_pivot.index,\n",
    "                color_continuous_scale=\"viridis\")\n",
    "\n",
    "# Customize layout\n",
    "fig.update_layout(title=\"Crime Occurrences by Day and Time\",\n",
    "                  xaxis=dict(title=\"Hour of the Day\"),\n",
    "                  yaxis=dict(title=\"Day of the Week\"))"
   ]
  },
  {
   "cell_type": "markdown",
   "id": "2a521af5",
   "metadata": {},
   "source": [
    "Let's check month wise crimes"
   ]
  },
  {
   "cell_type": "code",
   "execution_count": null,
   "id": "35e9ca7c",
   "metadata": {},
   "outputs": [],
   "source": [
    "year_month_wise_crime = df.groupby([\"YEAR OCC\", \"MONTH OCC\"]).size().reset_index(name=\"Cases\").sort_values(\"YEAR OCC\")\n",
    "px.histogram(year_month_wise_crime, x=\"MONTH OCC\", y=\"Cases\", text_auto=True).update_xaxes(title=\"Month\",categoryorder=\"total descending\").update_yaxes(title=\"Cases\")"
   ]
  },
  {
   "cell_type": "code",
   "execution_count": null,
   "id": "26f8feb0-944e-4f00-922c-63e764156ce7",
   "metadata": {},
   "outputs": [],
   "source": [
    "year_month_wise_crime.describe()"
   ]
  },
  {
   "cell_type": "code",
   "execution_count": null,
   "id": "439e27bf",
   "metadata": {},
   "outputs": [],
   "source": [
    "for year in year_month_wise_crime[\"YEAR OCC\"].unique() : \n",
    "    fig = px.histogram(year_month_wise_crime[year_month_wise_crime[\"YEAR OCC\"]==year], x=\"MONTH OCC\", y=\"Cases\", text_auto=True).update_xaxes(title=\"Month\", categoryorder=\"total descending\").update_yaxes(title=\"Crimes\")\n",
    "    fig.update_layout(title=\"Crimes in \" + str(year))\n",
    "    fig.show()"
   ]
  },
  {
   "cell_type": "markdown",
   "id": "a2a3f041-93d6-42f0-ad5a-ad1646003e1b",
   "metadata": {},
   "source": [
    "### Now checking status of these crimes"
   ]
  },
  {
   "cell_type": "code",
   "execution_count": null,
   "id": "78fcc4f0-fcdf-4bee-a934-04854e638698",
   "metadata": {},
   "outputs": [],
   "source": [
    "fig=px.pie(df, names=\"Status Desc\", height=800)\n",
    "fig.update_traces(textinfo='percent+label+value')\n",
    "fig.show()"
   ]
  },
  {
   "cell_type": "markdown",
   "id": "58172587-9839-4d78-9d32-1b5d1525f1c9",
   "metadata": {},
   "source": [
    "### Now checking weapon used in crimes"
   ]
  },
  {
   "cell_type": "code",
   "execution_count": null,
   "id": "ce9f3f99-3763-4520-a8ff-fe30ff404594",
   "metadata": {},
   "outputs": [],
   "source": [
    "fig=px.pie(df, names=\"Weapon Desc\", height=800)\n",
    "fig.update_traces(textposition='inside', textinfo='percent+label+value')\n",
    "fig.show()"
   ]
  },
  {
   "cell_type": "markdown",
   "id": "12ce485f-3ab5-4eac-8ca1-ea5c55fb95f2",
   "metadata": {},
   "source": [
    "Let's try removing unknown weapon"
   ]
  },
  {
   "cell_type": "code",
   "execution_count": null,
   "id": "0de567ef-1a7f-403f-a08f-77e3ef9ad6c6",
   "metadata": {},
   "outputs": [],
   "source": [
    "fig=px.pie(df[df[\"Weapon Desc\"]!= \"UNKNOWN\"], names=\"Weapon Desc\", height=800)\n",
    "fig.update_traces(textposition='inside', textinfo='percent+label+value')\n",
    "fig.show()"
   ]
  },
  {
   "cell_type": "markdown",
   "id": "356b0c32-c71d-4571-a166-d6ac68407d9e",
   "metadata": {},
   "source": [
    "### Let's visualize crimetype with weapon"
   ]
  },
  {
   "cell_type": "code",
   "execution_count": null,
   "id": "108cac30-6ab0-44a5-bcec-5b555cd9d7de",
   "metadata": {},
   "outputs": [],
   "source": [
    "crimes_weapons_data = df.groupby([\"Weapon Desc\", \"Crm Cd Desc\"]).size().reset_index(name=\"Cases\")\n",
    "crimes_weapons_data = crimes_weapons_data[crimes_weapons_data[\"Cases\"] > 5000] # Taking only rows which crime incidents are greater than 10000\n",
    "# # px.histogram(df, X=\"Premise Desc\")\n",
    "crimes_weapons_data_pivot = crimes_weapons_data.pivot(index=\"Weapon Desc\", columns=\"Crm Cd Desc\", values=\"Cases\")\n",
    "crimes_weapons_data_pivot.fillna(value=0, inplace=True)\n",
    "crimes_weapons_data_pivot.head()"
   ]
  },
  {
   "cell_type": "code",
   "execution_count": null,
   "id": "1d4aedcb-82cf-4fa2-8c7e-197ade26e7fb",
   "metadata": {},
   "outputs": [],
   "source": [
    "fig = px.imshow(crimes_weapons_data_pivot,\n",
    "                labels=dict(x=\"Weapon Used\", y=\"Type of crime\", color=\"Number of Crimes\"),\n",
    "                x=crimes_weapons_data_pivot.columns,\n",
    "                y=crimes_weapons_data_pivot.index\n",
    "                )\n",
    "\n",
    "fig.update_xaxes(side=\"top\")\n",
    "fig.update_layout(title= \"Crime Types vs Weapon Used\",\n",
    "                  yaxis=dict(title=\"Type of crime\"),\n",
    "                  xaxis=dict(title=\"Premis description\"),\n",
    "                  height=800)\n",
    "fig.show()"
   ]
  }
 ],
 "metadata": {
  "kernelspec": {
   "display_name": "Python 3 (ipykernel)",
   "language": "python",
   "name": "python3"
  },
  "language_info": {
   "codemirror_mode": {
    "name": "ipython",
    "version": 3
   },
   "file_extension": ".py",
   "mimetype": "text/x-python",
   "name": "python",
   "nbconvert_exporter": "python",
   "pygments_lexer": "ipython3",
   "version": "3.11.7"
  }
 },
 "nbformat": 4,
 "nbformat_minor": 5
}
