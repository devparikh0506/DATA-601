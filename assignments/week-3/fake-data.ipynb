{
 "cells": [
  {
   "cell_type": "markdown",
   "metadata": {
    "colab_type": "text",
    "id": "view-in-github"
   },
   "source": [
    "<a href=\"https://colab.research.google.com/github/DevParikh0506/DATA-601/blob/main/assignments/week-3/fake-data.ipynb\" target=\"_parent\"><img src=\"https://colab.research.google.com/assets/colab-badge.svg\" alt=\"Open In Colab\"/></a>"
   ]
  },
  {
   "cell_type": "markdown",
   "metadata": {
    "id": "LJnbcIte9WnK"
   },
   "source": [
    "# Week-3 Fake Data generator"
   ]
  },
  {
   "cell_type": "markdown",
   "metadata": {
    "id": "PCsYRUU09h_4"
   },
   "source": [
    "#### For this task I will use following libraries"
   ]
  },
  {
   "cell_type": "code",
   "execution_count": 1,
   "metadata": {
    "id": "Dtk--g7fbGTC"
   },
   "outputs": [],
   "source": [
    "import pandas as pd\n",
    "import random\n",
    "import string\n",
    "from datetime import datetime"
   ]
  },
  {
   "cell_type": "markdown",
   "metadata": {
    "id": "WeUHt9e-92aN"
   },
   "source": [
    "#### Now I will create variables for storing all letters, uppercase, lowercase letters and digits"
   ]
  },
  {
   "cell_type": "code",
   "execution_count": 2,
   "metadata": {
    "id": "bU2547yxepah"
   },
   "outputs": [],
   "source": [
    "letters = string.ascii_letters\n",
    "uppercase = string.ascii_uppercase\n",
    "lowercase = string.ascii_lowercase\n",
    "digits = string.digits\n",
    "alphanum = letters + digits"
   ]
  },
  {
   "cell_type": "markdown",
   "metadata": {
    "id": "y3zIYnNp_UJX"
   },
   "source": [
    "#### Creating a function to generate email"
   ]
  },
  {
   "cell_type": "code",
   "execution_count": 3,
   "metadata": {
    "id": "2aOc4DEjesUp"
   },
   "outputs": [],
   "source": [
    "def generate_email():\n",
    "  name = ''.join(random.choices(alphanum, k=random.randint(3, 15) ))\n",
    "  domain = ''.join(random.choices(lowercase, k=random.randint(3,6) ))\n",
    "  tld= random.choice(['com', 'edu', 'net', 'gov'])\n",
    "  return '@'.join([name, '.'.join([domain, tld])])"
   ]
  },
  {
   "cell_type": "markdown",
   "metadata": {
    "id": "knTjNVyVApzc"
   },
   "source": [
    "#### Creating a function to generate phone number\n",
    "the format will be ddd-ddd-dddd. Here d=digit"
   ]
  },
  {
   "cell_type": "code",
   "execution_count": 4,
   "metadata": {
    "id": "2kgmPeWoeuF1"
   },
   "outputs": [],
   "source": [
    "def generate_phone_number() :\n",
    "  number = []\n",
    "  number.append(str(random.randint(6, 9)))\n",
    "  number.extend([str(random.randint(0, 9)) for x in range(1,10)])\n",
    "  return '-'.join([''.join(number[:3]), ''.join(number[3:6]), ''.join(number[6:])])"
   ]
  },
  {
   "cell_type": "markdown",
   "metadata": {
    "id": "W1KK7gUlBVMG"
   },
   "source": [
    "#### Defining address generator\n",
    "\n",
    "The format will be\n",
    "\n",
    "```Street_Number Street_Name, City, State, ZIPCODE```"
   ]
  },
  {
   "cell_type": "code",
   "execution_count": 5,
   "metadata": {
    "id": "zDQgriYxkP7y"
   },
   "outputs": [],
   "source": [
    "def generate_address() :\n",
    "  street_number = str(random.randint(100, 9999))\n",
    "  street_name = ''.join([random.choice(uppercase)] + random.choices(letters, k=random.randint(10, 20)))\n",
    "  city_name = ''.join([random.choice(uppercase)] + random.choices(lowercase + ' ', k=random.randint(6, 16)))\n",
    "  state_code = ''.join(random.choices(uppercase, k=random.randint(2, 3)))\n",
    "  zip_code = str(random.randint(100000, 999999))\n",
    "  return ', '.join([' '.join([street_number, street_name]), city_name, state_code, zip_code])"
   ]
  },
  {
   "cell_type": "markdown",
   "metadata": {
    "id": "5I7yiR75CFtr"
   },
   "source": [
    "#### Defining name generator"
   ]
  },
  {
   "cell_type": "code",
   "execution_count": 6,
   "metadata": {
    "id": "DFBY8Cm4xGxE"
   },
   "outputs": [],
   "source": [
    "def generate_name():\n",
    "  return ''.join([random.choice(uppercase)] + random.choices(lowercase, k=random.randint(2, 8)))"
   ]
  },
  {
   "cell_type": "markdown",
   "metadata": {
    "id": "ElxDgrdtCQNz"
   },
   "source": [
    "#### Defining birth year generator\n",
    "The values will be generated to maintain ages from 21 to 80."
   ]
  },
  {
   "cell_type": "code",
   "execution_count": 7,
   "metadata": {
    "id": "RjBshJSi2S4S"
   },
   "outputs": [],
   "source": [
    "def generate_birth_year():\n",
    "  current_year = datetime.now().year\n",
    "  return random.randint(current_year-80, current_year-21)"
   ]
  },
  {
   "cell_type": "markdown",
   "metadata": {
    "id": "FNbjaha-CwA4"
   },
   "source": [
    "#### Defining kids count generator\n",
    "This function will take birth year as argument and return values from 0 to 5.\n",
    "\n",
    "The idea for taking birth year as argument is to return 0 if the person's age is less than 26"
   ]
  },
  {
   "cell_type": "code",
   "execution_count": 8,
   "metadata": {
    "id": "cxxvRGSm37ZR"
   },
   "outputs": [],
   "source": [
    "def generate_kids_count(birth_year : int):\n",
    "  age = datetime.now().year - birth_year\n",
    "  return random.choices([0,1,2,3,4,5], weights=[0.25,0.30,0.20,0.15,0.08, 0.02])[0] if age > 26 else 0"
   ]
  },
  {
   "cell_type": "markdown",
   "metadata": {
    "id": "j68Lp3wXDekP"
   },
   "source": [
    "#### Define function to generate ```ownership_status``` categorical variable\n",
    "\n",
    "This categories include `rent` and `own`"
   ]
  },
  {
   "cell_type": "code",
   "execution_count": 9,
   "metadata": {
    "id": "e-DS1e9y5JnT"
   },
   "outputs": [],
   "source": [
    "def generate_ownership_status():\n",
    "  return random.choice(['rent', 'own'])"
   ]
  },
  {
   "cell_type": "markdown",
   "metadata": {
    "id": "l3P69x3vD1uX"
   },
   "source": [
    "#### Define function to generate annual income\n",
    "\n",
    "the range is from 50,000 to 150,000."
   ]
  },
  {
   "cell_type": "code",
   "execution_count": 10,
   "metadata": {
    "id": "Ib03F6x95SG-"
   },
   "outputs": [],
   "source": [
    "def generate_annual_income():\n",
    "  return random.randint(50_000, 150_000)"
   ]
  },
  {
   "cell_type": "markdown",
   "metadata": {
    "id": "UMGaR6flENeT"
   },
   "source": [
    "#### Define speed ticket generator function\n",
    "\n",
    "Range is from 0 to 4."
   ]
  },
  {
   "cell_type": "code",
   "execution_count": 11,
   "metadata": {
    "id": "-Jn9yCe37xQO"
   },
   "outputs": [],
   "source": [
    "def generate_speed_tickets_count():\n",
    "  return random.randint(0,4)"
   ]
  },
  {
   "cell_type": "markdown",
   "metadata": {
    "id": "9j-Oayf0EgYP"
   },
   "source": [
    "#### Define function generate_fake_data\n",
    "\n",
    "This function will take 2 arguments ```file_name``` and ```number_of_entites```. This will generate a csv file with provieded name and number of entries."
   ]
  },
  {
   "cell_type": "code",
   "execution_count": 15,
   "metadata": {
    "id": "gPzvCA2V72O7"
   },
   "outputs": [],
   "source": [
    "def generate_fake_data(file_name : str,  number_of_entities : int):\n",
    "  data=[]\n",
    "  for i in range(number_of_entities):\n",
    "    birth_year = generate_birth_year()\n",
    "    data.append([generate_email(), generate_phone_number(), generate_address(), generate_name(), birth_year, generate_kids_count(birth_year), generate_ownership_status(), generate_annual_income(), generate_speed_tickets_count()])\n",
    "\n",
    "  df = pd.DataFrame(data,None, columns=[\"email\", \"phone_number\", \"address\", \"name\", \"birth_year\", \"kids\", \"ownership_status\", \"annual_income\", \"speed_tickets_in_past_year\"])\n",
    "  df.to_csv(file_name)"
   ]
  },
  {
   "cell_type": "code",
   "execution_count": 17,
   "metadata": {
    "id": "ydY6lmDJ-e44"
   },
   "outputs": [],
   "source": [
    "generate_fake_data(\"data.csv\", 500)"
   ]
  },
  {
   "cell_type": "code",
   "execution_count": 13,
   "metadata": {
    "id": "Y7-N3DF4dNH1"
   },
   "outputs": [],
   "source": []
  }
 ],
 "metadata": {
  "colab": {
   "authorship_tag": "ABX9TyNUsheRlbRGGn/jQbVwh54W",
   "include_colab_link": true,
   "provenance": []
  },
  "kernelspec": {
   "display_name": "Python 3 (ipykernel)",
   "language": "python",
   "name": "python3"
  },
  "language_info": {
   "codemirror_mode": {
    "name": "ipython",
    "version": 3
   },
   "file_extension": ".py",
   "mimetype": "text/x-python",
   "name": "python",
   "nbconvert_exporter": "python",
   "pygments_lexer": "ipython3",
   "version": "3.11.5"
  }
 },
 "nbformat": 4,
 "nbformat_minor": 1
}
