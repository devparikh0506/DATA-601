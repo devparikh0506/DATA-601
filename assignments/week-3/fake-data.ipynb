{
  "nbformat": 4,
  "nbformat_minor": 0,
  "metadata": {
    "colab": {
      "provenance": [],
      "authorship_tag": "ABX9TyPbls9ydM8PflXdfdNxSW54",
      "include_colab_link": true
    },
    "kernelspec": {
      "name": "python3",
      "display_name": "Python 3"
    },
    "language_info": {
      "name": "python"
    }
  },
  "cells": [
    {
      "cell_type": "markdown",
      "metadata": {
        "id": "view-in-github",
        "colab_type": "text"
      },
      "source": [
        "<a href=\"https://colab.research.google.com/github/DevParikh0506/DATA-601/blob/main/assignments/week-3/fake-data.ipynb\" target=\"_parent\"><img src=\"https://colab.research.google.com/assets/colab-badge.svg\" alt=\"Open In Colab\"/></a>"
      ]
    },
    {
      "cell_type": "code",
      "execution_count": 284,
      "metadata": {
        "id": "Dtk--g7fbGTC"
      },
      "outputs": [],
      "source": [
        "import pandas as pd\n",
        "import random\n",
        "import string\n",
        "from datetime import datetime"
      ]
    },
    {
      "cell_type": "code",
      "source": [
        "letters = string.ascii_letters\n",
        "uppercase = string.ascii_uppercase\n",
        "lowercase = string.ascii_lowercase\n",
        "digits = string.digits\n",
        "alphanum = letters + digits"
      ],
      "metadata": {
        "id": "bU2547yxepah"
      },
      "execution_count": 157,
      "outputs": []
    },
    {
      "cell_type": "code",
      "source": [
        "def generate_email():\n",
        "  name = ''.join(random.choices(alphanum, k=random.randint(3, 15) ))\n",
        "  domain = ''.join(random.choices(lowercase, k=random.randint(3,6) ))\n",
        "  tld= random.choice(['com', 'edu', 'net', 'gov'])\n",
        "  return '@'.join([name, '.'.join([domain, tld])])"
      ],
      "metadata": {
        "id": "2aOc4DEjesUp"
      },
      "execution_count": 158,
      "outputs": []
    },
    {
      "cell_type": "code",
      "source": [
        "def generate_phone_number() :\n",
        "  number = []\n",
        "  number.append(str(random.randint(6, 9)))\n",
        "  number.extend([str(random.randint(0, 9)) for x in range(1,10)])\n",
        "  return '-'.join([''.join(number[:3]), ''.join(number[3:6]), ''.join(number[6:])])"
      ],
      "metadata": {
        "id": "2kgmPeWoeuF1"
      },
      "execution_count": 159,
      "outputs": []
    },
    {
      "cell_type": "code",
      "source": [
        "def generate_address() :\n",
        "  street_number = str(random.randint(100, 9999))\n",
        "  street_name = ''.join([random.choice(uppercase)] + random.choices(letters, k=random.randint(10, 20)))\n",
        "  city_name = ''.join([random.choice(uppercase)] + random.choices(lowercase + ' ', k=random.randint(6, 16)))\n",
        "  state_code = ''.join(random.choices(uppercase, k=random.randint(2, 3)))\n",
        "  zip_code = str(random.randint(100000, 999999))\n",
        "  return ', '.join([' '.join([street_number, street_name]), city_name, state_code, zip_code])"
      ],
      "metadata": {
        "id": "zDQgriYxkP7y"
      },
      "execution_count": 163,
      "outputs": []
    },
    {
      "cell_type": "code",
      "source": [
        "def generate_name():\n",
        "  return ''.join([random.choice(uppercase)] + random.choices(lowercase, k=random.randint(2, 8)))"
      ],
      "metadata": {
        "id": "DFBY8Cm4xGxE"
      },
      "execution_count": 169,
      "outputs": []
    },
    {
      "cell_type": "code",
      "source": [
        "def generate_birth_year():\n",
        "  current_year = datetime.now().year\n",
        "  return random.randint(current_year-80, current_year-21)"
      ],
      "metadata": {
        "id": "RjBshJSi2S4S"
      },
      "execution_count": 176,
      "outputs": []
    },
    {
      "cell_type": "code",
      "source": [
        "def generate_kids_count(birth_year : int):\n",
        "  age = datetime.now().year - birth_year\n",
        "  return random.choices([0,1,2,3,4,5], weights=[0.25,0.30,0.20,0.15,0.08, 0.02])[0] if age > 26 else 0"
      ],
      "metadata": {
        "id": "cxxvRGSm37ZR"
      },
      "execution_count": 234,
      "outputs": []
    },
    {
      "cell_type": "code",
      "source": [
        "def generate_ownership_status():\n",
        "  return random.choice(['rent', 'own'])"
      ],
      "metadata": {
        "id": "e-DS1e9y5JnT"
      },
      "execution_count": 243,
      "outputs": []
    },
    {
      "cell_type": "code",
      "source": [
        "def generate_annual_income():\n",
        "  return random.randint(50_000, 150_000)"
      ],
      "metadata": {
        "id": "Ib03F6x95SG-"
      },
      "execution_count": 314,
      "outputs": []
    },
    {
      "cell_type": "code",
      "source": [
        "def generate_speed_tickets_count():\n",
        "  return random.randint(0,4)"
      ],
      "metadata": {
        "id": "-Jn9yCe37xQO"
      },
      "execution_count": 315,
      "outputs": []
    },
    {
      "cell_type": "code",
      "source": [
        "def generate_fake_data(file_name : str,  number_of_entities : int):\n",
        "  data=[]\n",
        "  for i in range(number_of_entities):\n",
        "    birth_year = generate_birth_year()\n",
        "    data.append([generate_email(), generate_phone_number(), generate_address(), generate_name(), birth_year, generate_kids_count(birth_year), generate_ownership_status(), generate_annual_income(), generate_speed_tickets_count()])\n",
        "\n",
        "  df = pd.DataFrame(data,None, columns=[\"email\", \"phone_number\", \"address\", \"name\", \"birth_year\", \"kids\", \"ownership_status\", \"annual_income\", \"speed_tickets_in_past_year\"])\n",
        "  return df"
      ],
      "metadata": {
        "id": "gPzvCA2V72O7"
      },
      "execution_count": 316,
      "outputs": []
    },
    {
      "cell_type": "code",
      "source": [
        "df = generate_fake_data(\"data-new.csv\", 50000)"
      ],
      "metadata": {
        "id": "ydY6lmDJ-e44"
      },
      "execution_count": 318,
      "outputs": []
    }
  ]
}