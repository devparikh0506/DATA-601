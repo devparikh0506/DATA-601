{
 "cells": [
  {
   "cell_type": "markdown",
   "metadata": {},
   "source": [
    "# week 8 - assignment - date conversion function"
   ]
  },
  {
   "cell_type": "markdown",
   "metadata": {},
   "source": [
    "Complete the function that converts date to day of week\n",
    "\n",
    "The function should pass the doctest"
   ]
  },
  {
   "cell_type": "code",
   "execution_count": 1,
   "metadata": {},
   "outputs": [],
   "source": [
    "# https://kolesnikov.ga/Testing_and_Debugging_Jupyter_Notebooks/\n",
    "import doctest\n",
    "import pandas as pd"
   ]
  },
  {
   "cell_type": "code",
   "execution_count": 2,
   "metadata": {},
   "outputs": [],
   "source": [
    "def convert_datetime_to_dayofweek(datetime_string):\n",
    "    \"\"\"\n",
    "    This function takes date in the format MON DAY YEAR  HH:MM(PM/AM)\n",
    "    and returns the day of the week\n",
    "    Assume input string is UTC\n",
    "    \n",
    "    >>> convert_datetime_to_dayofweek('Jun 1 2005  1:33PM')\n",
    "    'Wednesday'\n",
    "    >>> convert_datetime_to_dayofweek('Oct 25 2012  2:17AM')\n",
    "    'Thursday'\n",
    "    \"\"\"\n",
    "    # your code goes here\n",
    "\n",
    "    dayofweek = pd.to_datetime(datetime_string, format='%b %d %Y %H:%M%p').day_name()\n",
    "    \n",
    "    return dayofweek"
   ]
  },
  {
   "cell_type": "code",
   "execution_count": 3,
   "metadata": {},
   "outputs": [
    {
     "data": {
      "text/plain": [
       "TestResults(failed=0, attempted=2)"
      ]
     },
     "execution_count": 3,
     "metadata": {},
     "output_type": "execute_result"
    }
   ],
   "source": [
    "doctest.testmod()"
   ]
  }
 ],
 "metadata": {
  "kernelspec": {
   "display_name": "base",
   "language": "python",
   "name": "python3"
  },
  "language_info": {
   "codemirror_mode": {
    "name": "ipython",
    "version": 3
   },
   "file_extension": ".py",
   "mimetype": "text/x-python",
   "name": "python",
   "nbconvert_exporter": "python",
   "pygments_lexer": "ipython3",
   "version": "3.11.7"
  }
 },
 "nbformat": 4,
 "nbformat_minor": 2
}
